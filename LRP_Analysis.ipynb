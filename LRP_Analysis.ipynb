{
 "cells": [
  {
   "cell_type": "code",
   "execution_count": 1,
   "metadata": {},
   "outputs": [],
   "source": [
    "# import libraries\n",
    "import pandas as pd\n",
    "import numpy as np\n",
    "import matplotlib.pyplot as plt\n",
    "from IPython.display import display, HTML"
   ]
  },
  {
   "cell_type": "code",
   "execution_count": 2,
   "metadata": {},
   "outputs": [],
   "source": [
    "lrp_output = pd.read_csv('LRP_Output.csv')"
   ]
  },
  {
   "cell_type": "code",
   "execution_count": 3,
   "metadata": {},
   "outputs": [
    {
     "data": {
      "text/html": [
       "<div>\n",
       "<style scoped>\n",
       "    .dataframe tbody tr th:only-of-type {\n",
       "        vertical-align: middle;\n",
       "    }\n",
       "\n",
       "    .dataframe tbody tr th {\n",
       "        vertical-align: top;\n",
       "    }\n",
       "\n",
       "    .dataframe thead th {\n",
       "        text-align: right;\n",
       "    }\n",
       "</style>\n",
       "<table border=\"1\" class=\"dataframe\">\n",
       "  <thead>\n",
       "    <tr style=\"text-align: right;\">\n",
       "      <th></th>\n",
       "      <th>hidden_dimensions</th>\n",
       "      <th>embedding_dimensions</th>\n",
       "      <th>fine_accuracy</th>\n",
       "      <th>coarse_accuracy</th>\n",
       "      <th>pred_0</th>\n",
       "      <th>pred_1</th>\n",
       "      <th>pred_2</th>\n",
       "      <th>pred_3</th>\n",
       "      <th>pred_4</th>\n",
       "      <th>pred_class</th>\n",
       "      <th>...</th>\n",
       "      <th>R_hate</th>\n",
       "      <th>R_the</th>\n",
       "      <th>R_movie</th>\n",
       "      <th>R_though</th>\n",
       "      <th>R_the2</th>\n",
       "      <th>R_plot</th>\n",
       "      <th>R_is</th>\n",
       "      <th>R_interesting</th>\n",
       "      <th>R_period</th>\n",
       "      <th>heatmap_html</th>\n",
       "    </tr>\n",
       "  </thead>\n",
       "  <tbody>\n",
       "    <tr>\n",
       "      <th>0</th>\n",
       "      <td>3</td>\n",
       "      <td>3</td>\n",
       "      <td>0.3025</td>\n",
       "      <td>0.549757</td>\n",
       "      <td>0.089227</td>\n",
       "      <td>0.492903</td>\n",
       "      <td>-1.018312</td>\n",
       "      <td>1.168334</td>\n",
       "      <td>0.899401</td>\n",
       "      <td>3</td>\n",
       "      <td>...</td>\n",
       "      <td>-0.45</td>\n",
       "      <td>0.21</td>\n",
       "      <td>0.01</td>\n",
       "      <td>0.30</td>\n",
       "      <td>-0.19</td>\n",
       "      <td>-0.18</td>\n",
       "      <td>-0.10</td>\n",
       "      <td>0.19</td>\n",
       "      <td>-0.15</td>\n",
       "      <td>&lt;span style=\"background-color:#5656ff\"&gt;i&lt;/span...</td>\n",
       "    </tr>\n",
       "    <tr>\n",
       "      <th>1</th>\n",
       "      <td>3</td>\n",
       "      <td>4</td>\n",
       "      <td>0.3635</td>\n",
       "      <td>0.686893</td>\n",
       "      <td>-0.815323</td>\n",
       "      <td>0.228068</td>\n",
       "      <td>-0.054365</td>\n",
       "      <td>0.583400</td>\n",
       "      <td>-0.755622</td>\n",
       "      <td>3</td>\n",
       "      <td>...</td>\n",
       "      <td>0.22</td>\n",
       "      <td>0.20</td>\n",
       "      <td>-0.08</td>\n",
       "      <td>-0.33</td>\n",
       "      <td>-0.07</td>\n",
       "      <td>-0.13</td>\n",
       "      <td>-0.09</td>\n",
       "      <td>0.63</td>\n",
       "      <td>-0.38</td>\n",
       "      <td>&lt;span style=\"background-color:#6c6cff\"&gt;i&lt;/span...</td>\n",
       "    </tr>\n",
       "    <tr>\n",
       "      <th>2</th>\n",
       "      <td>3</td>\n",
       "      <td>5</td>\n",
       "      <td>0.2815</td>\n",
       "      <td>0.518204</td>\n",
       "      <td>-0.404692</td>\n",
       "      <td>0.363967</td>\n",
       "      <td>-0.565312</td>\n",
       "      <td>0.502987</td>\n",
       "      <td>-0.172350</td>\n",
       "      <td>3</td>\n",
       "      <td>...</td>\n",
       "      <td>0.61</td>\n",
       "      <td>-0.15</td>\n",
       "      <td>-0.08</td>\n",
       "      <td>-0.27</td>\n",
       "      <td>-0.17</td>\n",
       "      <td>-0.12</td>\n",
       "      <td>-0.11</td>\n",
       "      <td>0.19</td>\n",
       "      <td>-0.22</td>\n",
       "      <td>&lt;span style=\"background-color:#0000ff\"&gt;i&lt;/span...</td>\n",
       "    </tr>\n",
       "    <tr>\n",
       "      <th>3</th>\n",
       "      <td>3</td>\n",
       "      <td>7</td>\n",
       "      <td>0.4170</td>\n",
       "      <td>0.774272</td>\n",
       "      <td>0.052939</td>\n",
       "      <td>1.088882</td>\n",
       "      <td>0.097879</td>\n",
       "      <td>-0.328814</td>\n",
       "      <td>-2.446205</td>\n",
       "      <td>1</td>\n",
       "      <td>...</td>\n",
       "      <td>0.90</td>\n",
       "      <td>-0.20</td>\n",
       "      <td>0.02</td>\n",
       "      <td>0.62</td>\n",
       "      <td>-0.17</td>\n",
       "      <td>0.04</td>\n",
       "      <td>-0.03</td>\n",
       "      <td>-0.17</td>\n",
       "      <td>-0.37</td>\n",
       "      <td>&lt;span style=\"background-color:#3e3eff\"&gt;i&lt;/span...</td>\n",
       "    </tr>\n",
       "    <tr>\n",
       "      <th>4</th>\n",
       "      <td>3</td>\n",
       "      <td>10</td>\n",
       "      <td>0.4270</td>\n",
       "      <td>0.766990</td>\n",
       "      <td>-0.107984</td>\n",
       "      <td>0.146719</td>\n",
       "      <td>-0.093676</td>\n",
       "      <td>0.690875</td>\n",
       "      <td>-0.409942</td>\n",
       "      <td>3</td>\n",
       "      <td>...</td>\n",
       "      <td>-0.39</td>\n",
       "      <td>0.12</td>\n",
       "      <td>-0.15</td>\n",
       "      <td>0.14</td>\n",
       "      <td>0.21</td>\n",
       "      <td>-0.10</td>\n",
       "      <td>-0.11</td>\n",
       "      <td>0.51</td>\n",
       "      <td>0.06</td>\n",
       "      <td>&lt;span style=\"background-color:#0000ff\"&gt;i&lt;/span...</td>\n",
       "    </tr>\n",
       "    <tr>\n",
       "      <th>5</th>\n",
       "      <td>3</td>\n",
       "      <td>15</td>\n",
       "      <td>0.4260</td>\n",
       "      <td>0.776092</td>\n",
       "      <td>-0.519133</td>\n",
       "      <td>0.585030</td>\n",
       "      <td>0.507113</td>\n",
       "      <td>-0.135155</td>\n",
       "      <td>-2.102638</td>\n",
       "      <td>1</td>\n",
       "      <td>...</td>\n",
       "      <td>0.69</td>\n",
       "      <td>0.15</td>\n",
       "      <td>-0.01</td>\n",
       "      <td>0.13</td>\n",
       "      <td>-0.04</td>\n",
       "      <td>0.18</td>\n",
       "      <td>-0.04</td>\n",
       "      <td>-0.46</td>\n",
       "      <td>-0.22</td>\n",
       "      <td>&lt;span style=\"background-color:#0000ff\"&gt;i&lt;/span...</td>\n",
       "    </tr>\n",
       "    <tr>\n",
       "      <th>6</th>\n",
       "      <td>3</td>\n",
       "      <td>20</td>\n",
       "      <td>0.4365</td>\n",
       "      <td>0.788835</td>\n",
       "      <td>1.104751</td>\n",
       "      <td>0.985701</td>\n",
       "      <td>-0.506663</td>\n",
       "      <td>-0.425916</td>\n",
       "      <td>-0.171626</td>\n",
       "      <td>0</td>\n",
       "      <td>...</td>\n",
       "      <td>2.29</td>\n",
       "      <td>-0.04</td>\n",
       "      <td>0.05</td>\n",
       "      <td>-0.35</td>\n",
       "      <td>-0.01</td>\n",
       "      <td>0.46</td>\n",
       "      <td>0.02</td>\n",
       "      <td>-1.23</td>\n",
       "      <td>0.09</td>\n",
       "      <td>&lt;span style=\"background-color:#f8f8ff\"&gt;i&lt;/span...</td>\n",
       "    </tr>\n",
       "    <tr>\n",
       "      <th>7</th>\n",
       "      <td>4</td>\n",
       "      <td>3</td>\n",
       "      <td>0.2825</td>\n",
       "      <td>0.527913</td>\n",
       "      <td>-0.314639</td>\n",
       "      <td>0.068187</td>\n",
       "      <td>-0.615212</td>\n",
       "      <td>0.885441</td>\n",
       "      <td>0.272877</td>\n",
       "      <td>3</td>\n",
       "      <td>...</td>\n",
       "      <td>-0.15</td>\n",
       "      <td>0.10</td>\n",
       "      <td>-0.07</td>\n",
       "      <td>-0.19</td>\n",
       "      <td>-0.11</td>\n",
       "      <td>-0.10</td>\n",
       "      <td>-0.09</td>\n",
       "      <td>0.44</td>\n",
       "      <td>-0.30</td>\n",
       "      <td>&lt;span style=\"background-color:#0e0eff\"&gt;i&lt;/span...</td>\n",
       "    </tr>\n",
       "    <tr>\n",
       "      <th>8</th>\n",
       "      <td>4</td>\n",
       "      <td>4</td>\n",
       "      <td>0.3900</td>\n",
       "      <td>0.759709</td>\n",
       "      <td>-0.216039</td>\n",
       "      <td>0.327693</td>\n",
       "      <td>0.188046</td>\n",
       "      <td>0.416817</td>\n",
       "      <td>-0.798839</td>\n",
       "      <td>3</td>\n",
       "      <td>...</td>\n",
       "      <td>0.19</td>\n",
       "      <td>-0.07</td>\n",
       "      <td>-0.09</td>\n",
       "      <td>-0.32</td>\n",
       "      <td>-0.04</td>\n",
       "      <td>-0.45</td>\n",
       "      <td>-0.03</td>\n",
       "      <td>0.83</td>\n",
       "      <td>0.00</td>\n",
       "      <td>&lt;span style=\"background-color:#eeeeff\"&gt;i&lt;/span...</td>\n",
       "    </tr>\n",
       "    <tr>\n",
       "      <th>9</th>\n",
       "      <td>4</td>\n",
       "      <td>5</td>\n",
       "      <td>0.4110</td>\n",
       "      <td>0.782160</td>\n",
       "      <td>0.501103</td>\n",
       "      <td>1.468885</td>\n",
       "      <td>0.077201</td>\n",
       "      <td>-0.658486</td>\n",
       "      <td>-2.750711</td>\n",
       "      <td>1</td>\n",
       "      <td>...</td>\n",
       "      <td>1.16</td>\n",
       "      <td>-0.03</td>\n",
       "      <td>0.08</td>\n",
       "      <td>0.09</td>\n",
       "      <td>-0.32</td>\n",
       "      <td>0.43</td>\n",
       "      <td>-0.03</td>\n",
       "      <td>-0.71</td>\n",
       "      <td>-0.20</td>\n",
       "      <td>&lt;span style=\"background-color:#0000ff\"&gt;i&lt;/span...</td>\n",
       "    </tr>\n",
       "    <tr>\n",
       "      <th>10</th>\n",
       "      <td>4</td>\n",
       "      <td>7</td>\n",
       "      <td>0.4255</td>\n",
       "      <td>0.795510</td>\n",
       "      <td>-0.199262</td>\n",
       "      <td>0.974723</td>\n",
       "      <td>0.268842</td>\n",
       "      <td>-0.467785</td>\n",
       "      <td>-2.722602</td>\n",
       "      <td>1</td>\n",
       "      <td>...</td>\n",
       "      <td>1.17</td>\n",
       "      <td>-0.01</td>\n",
       "      <td>0.13</td>\n",
       "      <td>0.36</td>\n",
       "      <td>-0.16</td>\n",
       "      <td>0.65</td>\n",
       "      <td>-0.04</td>\n",
       "      <td>-0.59</td>\n",
       "      <td>-0.44</td>\n",
       "      <td>&lt;span style=\"background-color:#6868ff\"&gt;i&lt;/span...</td>\n",
       "    </tr>\n",
       "    <tr>\n",
       "      <th>11</th>\n",
       "      <td>4</td>\n",
       "      <td>10</td>\n",
       "      <td>0.4260</td>\n",
       "      <td>0.776092</td>\n",
       "      <td>0.245246</td>\n",
       "      <td>0.806252</td>\n",
       "      <td>-0.015290</td>\n",
       "      <td>0.229676</td>\n",
       "      <td>-1.306966</td>\n",
       "      <td>1</td>\n",
       "      <td>...</td>\n",
       "      <td>1.84</td>\n",
       "      <td>0.06</td>\n",
       "      <td>-0.16</td>\n",
       "      <td>-0.11</td>\n",
       "      <td>-0.14</td>\n",
       "      <td>0.27</td>\n",
       "      <td>-0.20</td>\n",
       "      <td>-0.96</td>\n",
       "      <td>-0.65</td>\n",
       "      <td>&lt;span style=\"background-color:#ceceff\"&gt;i&lt;/span...</td>\n",
       "    </tr>\n",
       "    <tr>\n",
       "      <th>12</th>\n",
       "      <td>4</td>\n",
       "      <td>15</td>\n",
       "      <td>0.4305</td>\n",
       "      <td>0.790655</td>\n",
       "      <td>1.260524</td>\n",
       "      <td>1.667611</td>\n",
       "      <td>-0.009806</td>\n",
       "      <td>-1.136322</td>\n",
       "      <td>-2.197466</td>\n",
       "      <td>1</td>\n",
       "      <td>...</td>\n",
       "      <td>2.40</td>\n",
       "      <td>-0.25</td>\n",
       "      <td>0.02</td>\n",
       "      <td>-0.09</td>\n",
       "      <td>0.05</td>\n",
       "      <td>0.86</td>\n",
       "      <td>-0.46</td>\n",
       "      <td>-2.03</td>\n",
       "      <td>0.24</td>\n",
       "      <td>&lt;span style=\"background-color:#a2a2ff\"&gt;i&lt;/span...</td>\n",
       "    </tr>\n",
       "    <tr>\n",
       "      <th>13</th>\n",
       "      <td>4</td>\n",
       "      <td>20</td>\n",
       "      <td>0.4235</td>\n",
       "      <td>0.799757</td>\n",
       "      <td>1.176804</td>\n",
       "      <td>0.758453</td>\n",
       "      <td>-0.676921</td>\n",
       "      <td>0.391611</td>\n",
       "      <td>0.120602</td>\n",
       "      <td>0</td>\n",
       "      <td>...</td>\n",
       "      <td>2.11</td>\n",
       "      <td>0.11</td>\n",
       "      <td>0.08</td>\n",
       "      <td>-0.30</td>\n",
       "      <td>-0.09</td>\n",
       "      <td>0.16</td>\n",
       "      <td>-0.39</td>\n",
       "      <td>-0.79</td>\n",
       "      <td>-0.73</td>\n",
       "      <td>&lt;span style=\"background-color:#babaff\"&gt;i&lt;/span...</td>\n",
       "    </tr>\n",
       "    <tr>\n",
       "      <th>14</th>\n",
       "      <td>5</td>\n",
       "      <td>3</td>\n",
       "      <td>0.4110</td>\n",
       "      <td>0.773665</td>\n",
       "      <td>-0.280760</td>\n",
       "      <td>0.788724</td>\n",
       "      <td>-0.043454</td>\n",
       "      <td>-0.351614</td>\n",
       "      <td>-1.829863</td>\n",
       "      <td>1</td>\n",
       "      <td>...</td>\n",
       "      <td>0.71</td>\n",
       "      <td>-0.08</td>\n",
       "      <td>0.00</td>\n",
       "      <td>-0.26</td>\n",
       "      <td>-0.07</td>\n",
       "      <td>0.17</td>\n",
       "      <td>-0.00</td>\n",
       "      <td>-0.77</td>\n",
       "      <td>-0.15</td>\n",
       "      <td>&lt;span style=\"background-color:#dedeff\"&gt;i&lt;/span...</td>\n",
       "    </tr>\n",
       "    <tr>\n",
       "      <th>15</th>\n",
       "      <td>5</td>\n",
       "      <td>4</td>\n",
       "      <td>0.4135</td>\n",
       "      <td>0.776092</td>\n",
       "      <td>0.325675</td>\n",
       "      <td>0.864966</td>\n",
       "      <td>-0.016040</td>\n",
       "      <td>-0.194653</td>\n",
       "      <td>-1.326800</td>\n",
       "      <td>1</td>\n",
       "      <td>...</td>\n",
       "      <td>0.25</td>\n",
       "      <td>0.12</td>\n",
       "      <td>0.10</td>\n",
       "      <td>0.38</td>\n",
       "      <td>0.03</td>\n",
       "      <td>0.39</td>\n",
       "      <td>0.03</td>\n",
       "      <td>-0.16</td>\n",
       "      <td>-0.38</td>\n",
       "      <td>&lt;span style=\"background-color:#0404ff\"&gt;i&lt;/span...</td>\n",
       "    </tr>\n",
       "    <tr>\n",
       "      <th>16</th>\n",
       "      <td>5</td>\n",
       "      <td>5</td>\n",
       "      <td>0.4255</td>\n",
       "      <td>0.787621</td>\n",
       "      <td>0.178004</td>\n",
       "      <td>0.812742</td>\n",
       "      <td>0.180672</td>\n",
       "      <td>-0.238797</td>\n",
       "      <td>-1.662482</td>\n",
       "      <td>1</td>\n",
       "      <td>...</td>\n",
       "      <td>0.81</td>\n",
       "      <td>0.02</td>\n",
       "      <td>0.23</td>\n",
       "      <td>0.07</td>\n",
       "      <td>-0.08</td>\n",
       "      <td>0.86</td>\n",
       "      <td>-0.07</td>\n",
       "      <td>-1.27</td>\n",
       "      <td>-0.42</td>\n",
       "      <td>&lt;span style=\"background-color:#6464ff\"&gt;i&lt;/span...</td>\n",
       "    </tr>\n",
       "    <tr>\n",
       "      <th>17</th>\n",
       "      <td>5</td>\n",
       "      <td>7</td>\n",
       "      <td>0.4205</td>\n",
       "      <td>0.768811</td>\n",
       "      <td>0.588526</td>\n",
       "      <td>0.865918</td>\n",
       "      <td>-0.040494</td>\n",
       "      <td>-0.571998</td>\n",
       "      <td>-1.760246</td>\n",
       "      <td>1</td>\n",
       "      <td>...</td>\n",
       "      <td>1.67</td>\n",
       "      <td>0.06</td>\n",
       "      <td>-0.00</td>\n",
       "      <td>-0.05</td>\n",
       "      <td>0.02</td>\n",
       "      <td>0.54</td>\n",
       "      <td>0.00</td>\n",
       "      <td>-1.17</td>\n",
       "      <td>-0.08</td>\n",
       "      <td>&lt;span style=\"background-color:#2e2eff\"&gt;i&lt;/span...</td>\n",
       "    </tr>\n",
       "    <tr>\n",
       "      <th>18</th>\n",
       "      <td>5</td>\n",
       "      <td>10</td>\n",
       "      <td>0.4425</td>\n",
       "      <td>0.779126</td>\n",
       "      <td>0.304518</td>\n",
       "      <td>0.226620</td>\n",
       "      <td>-0.025210</td>\n",
       "      <td>-0.489502</td>\n",
       "      <td>-0.374248</td>\n",
       "      <td>0</td>\n",
       "      <td>...</td>\n",
       "      <td>2.65</td>\n",
       "      <td>0.09</td>\n",
       "      <td>0.21</td>\n",
       "      <td>0.38</td>\n",
       "      <td>0.31</td>\n",
       "      <td>1.33</td>\n",
       "      <td>-0.09</td>\n",
       "      <td>-2.72</td>\n",
       "      <td>-0.92</td>\n",
       "      <td>&lt;span style=\"background-color:#e6e6ff\"&gt;i&lt;/span...</td>\n",
       "    </tr>\n",
       "    <tr>\n",
       "      <th>19</th>\n",
       "      <td>5</td>\n",
       "      <td>15</td>\n",
       "      <td>0.4425</td>\n",
       "      <td>0.815534</td>\n",
       "      <td>1.026456</td>\n",
       "      <td>1.228318</td>\n",
       "      <td>-0.296128</td>\n",
       "      <td>-0.053338</td>\n",
       "      <td>-0.788718</td>\n",
       "      <td>1</td>\n",
       "      <td>...</td>\n",
       "      <td>1.00</td>\n",
       "      <td>0.06</td>\n",
       "      <td>0.03</td>\n",
       "      <td>0.40</td>\n",
       "      <td>-0.04</td>\n",
       "      <td>1.13</td>\n",
       "      <td>-0.32</td>\n",
       "      <td>-2.70</td>\n",
       "      <td>-0.13</td>\n",
       "      <td>&lt;span style=\"background-color:#7c7cff\"&gt;i&lt;/span...</td>\n",
       "    </tr>\n",
       "    <tr>\n",
       "      <th>20</th>\n",
       "      <td>5</td>\n",
       "      <td>20</td>\n",
       "      <td>0.4355</td>\n",
       "      <td>0.773058</td>\n",
       "      <td>-0.661940</td>\n",
       "      <td>-0.248854</td>\n",
       "      <td>-0.433722</td>\n",
       "      <td>0.364787</td>\n",
       "      <td>-0.001542</td>\n",
       "      <td>3</td>\n",
       "      <td>...</td>\n",
       "      <td>-1.47</td>\n",
       "      <td>0.27</td>\n",
       "      <td>0.04</td>\n",
       "      <td>0.41</td>\n",
       "      <td>0.20</td>\n",
       "      <td>-0.53</td>\n",
       "      <td>0.11</td>\n",
       "      <td>2.49</td>\n",
       "      <td>-0.43</td>\n",
       "      <td>&lt;span style=\"background-color:#ffe6e6\"&gt;i&lt;/span...</td>\n",
       "    </tr>\n",
       "    <tr>\n",
       "      <th>21</th>\n",
       "      <td>7</td>\n",
       "      <td>3</td>\n",
       "      <td>0.4120</td>\n",
       "      <td>0.782767</td>\n",
       "      <td>1.822697</td>\n",
       "      <td>2.110189</td>\n",
       "      <td>0.001128</td>\n",
       "      <td>-1.194630</td>\n",
       "      <td>-2.316521</td>\n",
       "      <td>1</td>\n",
       "      <td>...</td>\n",
       "      <td>0.04</td>\n",
       "      <td>-0.21</td>\n",
       "      <td>0.10</td>\n",
       "      <td>-0.46</td>\n",
       "      <td>-0.17</td>\n",
       "      <td>0.47</td>\n",
       "      <td>-0.08</td>\n",
       "      <td>-0.71</td>\n",
       "      <td>-0.13</td>\n",
       "      <td>&lt;span style=\"background-color:#bebeff\"&gt;i&lt;/span...</td>\n",
       "    </tr>\n",
       "    <tr>\n",
       "      <th>22</th>\n",
       "      <td>7</td>\n",
       "      <td>4</td>\n",
       "      <td>0.4350</td>\n",
       "      <td>0.779126</td>\n",
       "      <td>-0.081808</td>\n",
       "      <td>0.588984</td>\n",
       "      <td>0.105501</td>\n",
       "      <td>-0.076636</td>\n",
       "      <td>-0.636622</td>\n",
       "      <td>1</td>\n",
       "      <td>...</td>\n",
       "      <td>0.20</td>\n",
       "      <td>0.04</td>\n",
       "      <td>0.22</td>\n",
       "      <td>0.10</td>\n",
       "      <td>0.07</td>\n",
       "      <td>0.47</td>\n",
       "      <td>-0.04</td>\n",
       "      <td>-1.11</td>\n",
       "      <td>-0.26</td>\n",
       "      <td>&lt;span style=\"background-color:#9393ff\"&gt;i&lt;/span...</td>\n",
       "    </tr>\n",
       "    <tr>\n",
       "      <th>23</th>\n",
       "      <td>7</td>\n",
       "      <td>5</td>\n",
       "      <td>0.4385</td>\n",
       "      <td>0.794903</td>\n",
       "      <td>0.202871</td>\n",
       "      <td>0.686622</td>\n",
       "      <td>0.032070</td>\n",
       "      <td>-0.247469</td>\n",
       "      <td>-1.305554</td>\n",
       "      <td>1</td>\n",
       "      <td>...</td>\n",
       "      <td>1.01</td>\n",
       "      <td>-0.33</td>\n",
       "      <td>0.15</td>\n",
       "      <td>-0.19</td>\n",
       "      <td>-0.11</td>\n",
       "      <td>0.56</td>\n",
       "      <td>-0.04</td>\n",
       "      <td>-0.98</td>\n",
       "      <td>-0.35</td>\n",
       "      <td>&lt;span style=\"background-color:#6060ff\"&gt;i&lt;/span...</td>\n",
       "    </tr>\n",
       "    <tr>\n",
       "      <th>24</th>\n",
       "      <td>7</td>\n",
       "      <td>7</td>\n",
       "      <td>0.4485</td>\n",
       "      <td>0.797330</td>\n",
       "      <td>0.047401</td>\n",
       "      <td>0.375215</td>\n",
       "      <td>-0.170479</td>\n",
       "      <td>-0.382424</td>\n",
       "      <td>-1.172442</td>\n",
       "      <td>1</td>\n",
       "      <td>...</td>\n",
       "      <td>0.95</td>\n",
       "      <td>0.02</td>\n",
       "      <td>0.07</td>\n",
       "      <td>0.17</td>\n",
       "      <td>0.06</td>\n",
       "      <td>0.67</td>\n",
       "      <td>-0.10</td>\n",
       "      <td>-1.53</td>\n",
       "      <td>-0.45</td>\n",
       "      <td>&lt;span style=\"background-color:#4141ff\"&gt;i&lt;/span...</td>\n",
       "    </tr>\n",
       "    <tr>\n",
       "      <th>25</th>\n",
       "      <td>7</td>\n",
       "      <td>10</td>\n",
       "      <td>0.4505</td>\n",
       "      <td>0.796723</td>\n",
       "      <td>0.395459</td>\n",
       "      <td>1.042943</td>\n",
       "      <td>0.022283</td>\n",
       "      <td>-0.482421</td>\n",
       "      <td>-1.941301</td>\n",
       "      <td>1</td>\n",
       "      <td>...</td>\n",
       "      <td>1.60</td>\n",
       "      <td>-0.00</td>\n",
       "      <td>-0.20</td>\n",
       "      <td>0.33</td>\n",
       "      <td>-0.32</td>\n",
       "      <td>0.64</td>\n",
       "      <td>-0.26</td>\n",
       "      <td>-2.06</td>\n",
       "      <td>-0.91</td>\n",
       "      <td>&lt;span style=\"background-color:#3030ff\"&gt;i&lt;/span...</td>\n",
       "    </tr>\n",
       "    <tr>\n",
       "      <th>26</th>\n",
       "      <td>7</td>\n",
       "      <td>15</td>\n",
       "      <td>0.4340</td>\n",
       "      <td>0.807646</td>\n",
       "      <td>-0.002777</td>\n",
       "      <td>0.469100</td>\n",
       "      <td>-0.143461</td>\n",
       "      <td>0.053381</td>\n",
       "      <td>-0.829481</td>\n",
       "      <td>1</td>\n",
       "      <td>...</td>\n",
       "      <td>1.32</td>\n",
       "      <td>-0.01</td>\n",
       "      <td>-0.21</td>\n",
       "      <td>0.17</td>\n",
       "      <td>-0.25</td>\n",
       "      <td>0.66</td>\n",
       "      <td>-0.43</td>\n",
       "      <td>-1.77</td>\n",
       "      <td>-0.58</td>\n",
       "      <td>&lt;span style=\"background-color:#5656ff\"&gt;i&lt;/span...</td>\n",
       "    </tr>\n",
       "    <tr>\n",
       "      <th>27</th>\n",
       "      <td>7</td>\n",
       "      <td>20</td>\n",
       "      <td>0.4540</td>\n",
       "      <td>0.788835</td>\n",
       "      <td>0.050483</td>\n",
       "      <td>-0.181728</td>\n",
       "      <td>-0.997377</td>\n",
       "      <td>0.402509</td>\n",
       "      <td>1.525117</td>\n",
       "      <td>4</td>\n",
       "      <td>...</td>\n",
       "      <td>0.15</td>\n",
       "      <td>0.72</td>\n",
       "      <td>0.13</td>\n",
       "      <td>-0.39</td>\n",
       "      <td>0.33</td>\n",
       "      <td>-1.09</td>\n",
       "      <td>0.13</td>\n",
       "      <td>5.43</td>\n",
       "      <td>-0.21</td>\n",
       "      <td>&lt;span style=\"background-color:#ececff\"&gt;i&lt;/span...</td>\n",
       "    </tr>\n",
       "    <tr>\n",
       "      <th>28</th>\n",
       "      <td>10</td>\n",
       "      <td>3</td>\n",
       "      <td>0.4370</td>\n",
       "      <td>0.800364</td>\n",
       "      <td>-0.011039</td>\n",
       "      <td>0.811457</td>\n",
       "      <td>-0.082622</td>\n",
       "      <td>-0.494972</td>\n",
       "      <td>-1.969455</td>\n",
       "      <td>1</td>\n",
       "      <td>...</td>\n",
       "      <td>1.08</td>\n",
       "      <td>-0.05</td>\n",
       "      <td>0.13</td>\n",
       "      <td>0.14</td>\n",
       "      <td>-0.05</td>\n",
       "      <td>0.87</td>\n",
       "      <td>-0.07</td>\n",
       "      <td>-0.94</td>\n",
       "      <td>-0.31</td>\n",
       "      <td>&lt;span style=\"background-color:#a2a2ff\"&gt;i&lt;/span...</td>\n",
       "    </tr>\n",
       "    <tr>\n",
       "      <th>29</th>\n",
       "      <td>10</td>\n",
       "      <td>4</td>\n",
       "      <td>0.4490</td>\n",
       "      <td>0.791869</td>\n",
       "      <td>0.395256</td>\n",
       "      <td>1.000959</td>\n",
       "      <td>0.175339</td>\n",
       "      <td>-0.201797</td>\n",
       "      <td>-1.324477</td>\n",
       "      <td>1</td>\n",
       "      <td>...</td>\n",
       "      <td>0.35</td>\n",
       "      <td>0.06</td>\n",
       "      <td>-0.05</td>\n",
       "      <td>0.57</td>\n",
       "      <td>0.00</td>\n",
       "      <td>0.51</td>\n",
       "      <td>-0.10</td>\n",
       "      <td>-1.57</td>\n",
       "      <td>-0.41</td>\n",
       "      <td>&lt;span style=\"background-color:#8e8eff\"&gt;i&lt;/span...</td>\n",
       "    </tr>\n",
       "    <tr>\n",
       "      <th>30</th>\n",
       "      <td>10</td>\n",
       "      <td>5</td>\n",
       "      <td>0.4290</td>\n",
       "      <td>0.783981</td>\n",
       "      <td>0.851235</td>\n",
       "      <td>1.143784</td>\n",
       "      <td>-0.160790</td>\n",
       "      <td>-0.873189</td>\n",
       "      <td>-1.829719</td>\n",
       "      <td>1</td>\n",
       "      <td>...</td>\n",
       "      <td>0.95</td>\n",
       "      <td>-0.12</td>\n",
       "      <td>0.14</td>\n",
       "      <td>-0.03</td>\n",
       "      <td>-0.03</td>\n",
       "      <td>0.72</td>\n",
       "      <td>-0.03</td>\n",
       "      <td>-1.34</td>\n",
       "      <td>-0.40</td>\n",
       "      <td>&lt;span style=\"background-color:#8e8eff\"&gt;i&lt;/span...</td>\n",
       "    </tr>\n",
       "    <tr>\n",
       "      <th>31</th>\n",
       "      <td>10</td>\n",
       "      <td>7</td>\n",
       "      <td>0.4515</td>\n",
       "      <td>0.793083</td>\n",
       "      <td>0.206834</td>\n",
       "      <td>0.766934</td>\n",
       "      <td>-0.179407</td>\n",
       "      <td>-0.320940</td>\n",
       "      <td>-1.073912</td>\n",
       "      <td>1</td>\n",
       "      <td>...</td>\n",
       "      <td>0.69</td>\n",
       "      <td>0.10</td>\n",
       "      <td>0.12</td>\n",
       "      <td>0.56</td>\n",
       "      <td>0.16</td>\n",
       "      <td>0.72</td>\n",
       "      <td>-0.05</td>\n",
       "      <td>-1.21</td>\n",
       "      <td>-0.47</td>\n",
       "      <td>&lt;span style=\"background-color:#aaaaff\"&gt;i&lt;/span...</td>\n",
       "    </tr>\n",
       "    <tr>\n",
       "      <th>32</th>\n",
       "      <td>10</td>\n",
       "      <td>10</td>\n",
       "      <td>0.4490</td>\n",
       "      <td>0.796117</td>\n",
       "      <td>-1.713714</td>\n",
       "      <td>-0.538762</td>\n",
       "      <td>-0.393460</td>\n",
       "      <td>0.545567</td>\n",
       "      <td>-0.063143</td>\n",
       "      <td>3</td>\n",
       "      <td>...</td>\n",
       "      <td>-1.35</td>\n",
       "      <td>0.86</td>\n",
       "      <td>-0.17</td>\n",
       "      <td>0.43</td>\n",
       "      <td>0.46</td>\n",
       "      <td>-0.45</td>\n",
       "      <td>0.62</td>\n",
       "      <td>2.04</td>\n",
       "      <td>0.28</td>\n",
       "      <td>&lt;span style=\"background-color:#ffe6e6\"&gt;i&lt;/span...</td>\n",
       "    </tr>\n",
       "    <tr>\n",
       "      <th>33</th>\n",
       "      <td>10</td>\n",
       "      <td>15</td>\n",
       "      <td>0.4590</td>\n",
       "      <td>0.799757</td>\n",
       "      <td>-0.550536</td>\n",
       "      <td>0.225544</td>\n",
       "      <td>-0.327804</td>\n",
       "      <td>-0.064255</td>\n",
       "      <td>-0.747808</td>\n",
       "      <td>1</td>\n",
       "      <td>...</td>\n",
       "      <td>2.23</td>\n",
       "      <td>-0.32</td>\n",
       "      <td>0.44</td>\n",
       "      <td>-0.07</td>\n",
       "      <td>-0.05</td>\n",
       "      <td>0.84</td>\n",
       "      <td>-0.38</td>\n",
       "      <td>-1.97</td>\n",
       "      <td>-0.86</td>\n",
       "      <td>&lt;span style=\"background-color:#7e7eff\"&gt;i&lt;/span...</td>\n",
       "    </tr>\n",
       "    <tr>\n",
       "      <th>34</th>\n",
       "      <td>10</td>\n",
       "      <td>20</td>\n",
       "      <td>0.4340</td>\n",
       "      <td>0.787015</td>\n",
       "      <td>1.631493</td>\n",
       "      <td>0.721900</td>\n",
       "      <td>-0.433694</td>\n",
       "      <td>-1.435800</td>\n",
       "      <td>-1.684095</td>\n",
       "      <td>0</td>\n",
       "      <td>...</td>\n",
       "      <td>2.60</td>\n",
       "      <td>0.20</td>\n",
       "      <td>0.57</td>\n",
       "      <td>-1.26</td>\n",
       "      <td>0.22</td>\n",
       "      <td>0.76</td>\n",
       "      <td>0.33</td>\n",
       "      <td>-1.13</td>\n",
       "      <td>-0.69</td>\n",
       "      <td>&lt;span style=\"background-color:#c2c2ff\"&gt;i&lt;/span...</td>\n",
       "    </tr>\n",
       "    <tr>\n",
       "      <th>35</th>\n",
       "      <td>15</td>\n",
       "      <td>3</td>\n",
       "      <td>0.4385</td>\n",
       "      <td>0.789442</td>\n",
       "      <td>0.621612</td>\n",
       "      <td>1.023866</td>\n",
       "      <td>-0.471838</td>\n",
       "      <td>-0.766982</td>\n",
       "      <td>-1.636908</td>\n",
       "      <td>1</td>\n",
       "      <td>...</td>\n",
       "      <td>0.65</td>\n",
       "      <td>-0.10</td>\n",
       "      <td>0.26</td>\n",
       "      <td>0.03</td>\n",
       "      <td>-0.06</td>\n",
       "      <td>0.52</td>\n",
       "      <td>-0.01</td>\n",
       "      <td>-0.69</td>\n",
       "      <td>0.05</td>\n",
       "      <td>&lt;span style=\"background-color:#f8f8ff\"&gt;i&lt;/span...</td>\n",
       "    </tr>\n",
       "    <tr>\n",
       "      <th>36</th>\n",
       "      <td>15</td>\n",
       "      <td>4</td>\n",
       "      <td>0.4285</td>\n",
       "      <td>0.790049</td>\n",
       "      <td>0.016586</td>\n",
       "      <td>0.921625</td>\n",
       "      <td>0.045616</td>\n",
       "      <td>-0.925760</td>\n",
       "      <td>-2.175695</td>\n",
       "      <td>1</td>\n",
       "      <td>...</td>\n",
       "      <td>0.98</td>\n",
       "      <td>-0.06</td>\n",
       "      <td>0.18</td>\n",
       "      <td>-0.27</td>\n",
       "      <td>-0.13</td>\n",
       "      <td>0.43</td>\n",
       "      <td>-0.10</td>\n",
       "      <td>-1.27</td>\n",
       "      <td>-0.14</td>\n",
       "      <td>&lt;span style=\"background-color:#babaff\"&gt;i&lt;/span...</td>\n",
       "    </tr>\n",
       "    <tr>\n",
       "      <th>37</th>\n",
       "      <td>15</td>\n",
       "      <td>5</td>\n",
       "      <td>0.4570</td>\n",
       "      <td>0.810680</td>\n",
       "      <td>1.104509</td>\n",
       "      <td>0.841718</td>\n",
       "      <td>-0.472763</td>\n",
       "      <td>-0.727338</td>\n",
       "      <td>-1.490901</td>\n",
       "      <td>0</td>\n",
       "      <td>...</td>\n",
       "      <td>2.67</td>\n",
       "      <td>-0.38</td>\n",
       "      <td>0.37</td>\n",
       "      <td>-0.62</td>\n",
       "      <td>-0.26</td>\n",
       "      <td>0.84</td>\n",
       "      <td>-0.16</td>\n",
       "      <td>-1.74</td>\n",
       "      <td>-0.28</td>\n",
       "      <td>&lt;span style=\"background-color:#b6b6ff\"&gt;i&lt;/span...</td>\n",
       "    </tr>\n",
       "    <tr>\n",
       "      <th>38</th>\n",
       "      <td>15</td>\n",
       "      <td>7</td>\n",
       "      <td>0.4390</td>\n",
       "      <td>0.797330</td>\n",
       "      <td>0.621368</td>\n",
       "      <td>0.919204</td>\n",
       "      <td>-0.386493</td>\n",
       "      <td>-0.388548</td>\n",
       "      <td>-1.634971</td>\n",
       "      <td>1</td>\n",
       "      <td>...</td>\n",
       "      <td>0.74</td>\n",
       "      <td>-0.29</td>\n",
       "      <td>-0.03</td>\n",
       "      <td>-0.25</td>\n",
       "      <td>-0.10</td>\n",
       "      <td>0.35</td>\n",
       "      <td>-0.13</td>\n",
       "      <td>-0.95</td>\n",
       "      <td>-0.20</td>\n",
       "      <td>&lt;span style=\"background-color:#0404ff\"&gt;i&lt;/span...</td>\n",
       "    </tr>\n",
       "    <tr>\n",
       "      <th>39</th>\n",
       "      <td>15</td>\n",
       "      <td>10</td>\n",
       "      <td>0.4450</td>\n",
       "      <td>0.780947</td>\n",
       "      <td>0.364253</td>\n",
       "      <td>0.379690</td>\n",
       "      <td>-0.457309</td>\n",
       "      <td>-0.785911</td>\n",
       "      <td>-1.845633</td>\n",
       "      <td>1</td>\n",
       "      <td>...</td>\n",
       "      <td>0.92</td>\n",
       "      <td>-0.17</td>\n",
       "      <td>0.10</td>\n",
       "      <td>-0.06</td>\n",
       "      <td>-0.19</td>\n",
       "      <td>0.51</td>\n",
       "      <td>-0.27</td>\n",
       "      <td>-1.24</td>\n",
       "      <td>-0.81</td>\n",
       "      <td>&lt;span style=\"background-color:#7676ff\"&gt;i&lt;/span...</td>\n",
       "    </tr>\n",
       "    <tr>\n",
       "      <th>40</th>\n",
       "      <td>15</td>\n",
       "      <td>15</td>\n",
       "      <td>0.4550</td>\n",
       "      <td>0.805218</td>\n",
       "      <td>0.468371</td>\n",
       "      <td>0.181858</td>\n",
       "      <td>-0.753747</td>\n",
       "      <td>-0.272448</td>\n",
       "      <td>-0.840296</td>\n",
       "      <td>0</td>\n",
       "      <td>...</td>\n",
       "      <td>3.26</td>\n",
       "      <td>-0.24</td>\n",
       "      <td>0.48</td>\n",
       "      <td>0.50</td>\n",
       "      <td>-0.15</td>\n",
       "      <td>1.29</td>\n",
       "      <td>-0.35</td>\n",
       "      <td>-3.51</td>\n",
       "      <td>-0.12</td>\n",
       "      <td>&lt;span style=\"background-color:#bcbcff\"&gt;i&lt;/span...</td>\n",
       "    </tr>\n",
       "    <tr>\n",
       "      <th>41</th>\n",
       "      <td>15</td>\n",
       "      <td>20</td>\n",
       "      <td>0.4435</td>\n",
       "      <td>0.822816</td>\n",
       "      <td>0.428577</td>\n",
       "      <td>0.285757</td>\n",
       "      <td>-0.846267</td>\n",
       "      <td>-0.894159</td>\n",
       "      <td>-1.493839</td>\n",
       "      <td>0</td>\n",
       "      <td>...</td>\n",
       "      <td>3.25</td>\n",
       "      <td>0.06</td>\n",
       "      <td>0.57</td>\n",
       "      <td>-1.14</td>\n",
       "      <td>0.05</td>\n",
       "      <td>0.93</td>\n",
       "      <td>-0.32</td>\n",
       "      <td>-4.42</td>\n",
       "      <td>0.18</td>\n",
       "      <td>&lt;span style=\"background-color:#b2b2ff\"&gt;i&lt;/span...</td>\n",
       "    </tr>\n",
       "    <tr>\n",
       "      <th>42</th>\n",
       "      <td>20</td>\n",
       "      <td>3</td>\n",
       "      <td>0.4335</td>\n",
       "      <td>0.802184</td>\n",
       "      <td>1.124812</td>\n",
       "      <td>1.577986</td>\n",
       "      <td>0.105534</td>\n",
       "      <td>-0.979994</td>\n",
       "      <td>-2.337184</td>\n",
       "      <td>1</td>\n",
       "      <td>...</td>\n",
       "      <td>0.81</td>\n",
       "      <td>0.29</td>\n",
       "      <td>0.11</td>\n",
       "      <td>0.19</td>\n",
       "      <td>0.23</td>\n",
       "      <td>0.53</td>\n",
       "      <td>-0.02</td>\n",
       "      <td>-1.04</td>\n",
       "      <td>-0.04</td>\n",
       "      <td>&lt;span style=\"background-color:#b6b6ff\"&gt;i&lt;/span...</td>\n",
       "    </tr>\n",
       "    <tr>\n",
       "      <th>43</th>\n",
       "      <td>20</td>\n",
       "      <td>4</td>\n",
       "      <td>0.4355</td>\n",
       "      <td>0.791869</td>\n",
       "      <td>0.615067</td>\n",
       "      <td>1.107918</td>\n",
       "      <td>-0.020603</td>\n",
       "      <td>-0.934905</td>\n",
       "      <td>-2.220119</td>\n",
       "      <td>1</td>\n",
       "      <td>...</td>\n",
       "      <td>1.09</td>\n",
       "      <td>-0.16</td>\n",
       "      <td>0.15</td>\n",
       "      <td>-0.11</td>\n",
       "      <td>-0.01</td>\n",
       "      <td>0.68</td>\n",
       "      <td>-0.05</td>\n",
       "      <td>-1.25</td>\n",
       "      <td>-0.16</td>\n",
       "      <td>&lt;span style=\"background-color:#c3c3ff\"&gt;i&lt;/span...</td>\n",
       "    </tr>\n",
       "    <tr>\n",
       "      <th>44</th>\n",
       "      <td>20</td>\n",
       "      <td>5</td>\n",
       "      <td>0.4510</td>\n",
       "      <td>0.811893</td>\n",
       "      <td>1.262991</td>\n",
       "      <td>1.009285</td>\n",
       "      <td>-0.492742</td>\n",
       "      <td>-0.473064</td>\n",
       "      <td>-1.219598</td>\n",
       "      <td>0</td>\n",
       "      <td>...</td>\n",
       "      <td>0.99</td>\n",
       "      <td>-0.09</td>\n",
       "      <td>0.22</td>\n",
       "      <td>-0.18</td>\n",
       "      <td>-0.12</td>\n",
       "      <td>0.50</td>\n",
       "      <td>-0.14</td>\n",
       "      <td>-1.47</td>\n",
       "      <td>-0.19</td>\n",
       "      <td>&lt;span style=\"background-color:#f8f8ff\"&gt;i&lt;/span...</td>\n",
       "    </tr>\n",
       "    <tr>\n",
       "      <th>45</th>\n",
       "      <td>20</td>\n",
       "      <td>7</td>\n",
       "      <td>0.4625</td>\n",
       "      <td>0.805825</td>\n",
       "      <td>0.565102</td>\n",
       "      <td>0.852865</td>\n",
       "      <td>-0.317847</td>\n",
       "      <td>-1.154289</td>\n",
       "      <td>-2.186511</td>\n",
       "      <td>1</td>\n",
       "      <td>...</td>\n",
       "      <td>1.20</td>\n",
       "      <td>-0.07</td>\n",
       "      <td>-0.00</td>\n",
       "      <td>0.57</td>\n",
       "      <td>-0.10</td>\n",
       "      <td>0.54</td>\n",
       "      <td>-0.18</td>\n",
       "      <td>-1.53</td>\n",
       "      <td>-0.42</td>\n",
       "      <td>&lt;span style=\"background-color:#7171ff\"&gt;i&lt;/span...</td>\n",
       "    </tr>\n",
       "    <tr>\n",
       "      <th>46</th>\n",
       "      <td>20</td>\n",
       "      <td>10</td>\n",
       "      <td>0.4545</td>\n",
       "      <td>0.801578</td>\n",
       "      <td>0.056861</td>\n",
       "      <td>0.420689</td>\n",
       "      <td>-0.452365</td>\n",
       "      <td>-0.647716</td>\n",
       "      <td>-1.782401</td>\n",
       "      <td>1</td>\n",
       "      <td>...</td>\n",
       "      <td>0.88</td>\n",
       "      <td>0.07</td>\n",
       "      <td>0.00</td>\n",
       "      <td>0.53</td>\n",
       "      <td>0.08</td>\n",
       "      <td>0.67</td>\n",
       "      <td>-0.18</td>\n",
       "      <td>-1.86</td>\n",
       "      <td>-0.35</td>\n",
       "      <td>&lt;span style=\"background-color:#9393ff\"&gt;i&lt;/span...</td>\n",
       "    </tr>\n",
       "    <tr>\n",
       "      <th>47</th>\n",
       "      <td>20</td>\n",
       "      <td>15</td>\n",
       "      <td>0.4525</td>\n",
       "      <td>0.773665</td>\n",
       "      <td>0.871596</td>\n",
       "      <td>1.423532</td>\n",
       "      <td>-0.626452</td>\n",
       "      <td>-1.387030</td>\n",
       "      <td>-2.147008</td>\n",
       "      <td>1</td>\n",
       "      <td>...</td>\n",
       "      <td>1.53</td>\n",
       "      <td>0.18</td>\n",
       "      <td>0.12</td>\n",
       "      <td>0.57</td>\n",
       "      <td>0.06</td>\n",
       "      <td>0.58</td>\n",
       "      <td>-0.33</td>\n",
       "      <td>-1.82</td>\n",
       "      <td>-0.43</td>\n",
       "      <td>&lt;span style=\"background-color:#6e6eff\"&gt;i&lt;/span...</td>\n",
       "    </tr>\n",
       "    <tr>\n",
       "      <th>48</th>\n",
       "      <td>20</td>\n",
       "      <td>20</td>\n",
       "      <td>0.4655</td>\n",
       "      <td>0.813714</td>\n",
       "      <td>0.991381</td>\n",
       "      <td>0.797809</td>\n",
       "      <td>-0.580056</td>\n",
       "      <td>-1.052267</td>\n",
       "      <td>-0.908465</td>\n",
       "      <td>0</td>\n",
       "      <td>...</td>\n",
       "      <td>2.95</td>\n",
       "      <td>-0.01</td>\n",
       "      <td>1.12</td>\n",
       "      <td>-0.17</td>\n",
       "      <td>0.10</td>\n",
       "      <td>1.76</td>\n",
       "      <td>-0.60</td>\n",
       "      <td>-4.26</td>\n",
       "      <td>0.56</td>\n",
       "      <td>&lt;span style=\"background-color:#dadaff\"&gt;i&lt;/span...</td>\n",
       "    </tr>\n",
       "  </tbody>\n",
       "</table>\n",
       "<p>49 rows × 21 columns</p>\n",
       "</div>"
      ],
      "text/plain": [
       "    hidden_dimensions  embedding_dimensions  fine_accuracy  coarse_accuracy  \\\n",
       "0                   3                     3         0.3025         0.549757   \n",
       "1                   3                     4         0.3635         0.686893   \n",
       "2                   3                     5         0.2815         0.518204   \n",
       "3                   3                     7         0.4170         0.774272   \n",
       "4                   3                    10         0.4270         0.766990   \n",
       "5                   3                    15         0.4260         0.776092   \n",
       "6                   3                    20         0.4365         0.788835   \n",
       "7                   4                     3         0.2825         0.527913   \n",
       "8                   4                     4         0.3900         0.759709   \n",
       "9                   4                     5         0.4110         0.782160   \n",
       "10                  4                     7         0.4255         0.795510   \n",
       "11                  4                    10         0.4260         0.776092   \n",
       "12                  4                    15         0.4305         0.790655   \n",
       "13                  4                    20         0.4235         0.799757   \n",
       "14                  5                     3         0.4110         0.773665   \n",
       "15                  5                     4         0.4135         0.776092   \n",
       "16                  5                     5         0.4255         0.787621   \n",
       "17                  5                     7         0.4205         0.768811   \n",
       "18                  5                    10         0.4425         0.779126   \n",
       "19                  5                    15         0.4425         0.815534   \n",
       "20                  5                    20         0.4355         0.773058   \n",
       "21                  7                     3         0.4120         0.782767   \n",
       "22                  7                     4         0.4350         0.779126   \n",
       "23                  7                     5         0.4385         0.794903   \n",
       "24                  7                     7         0.4485         0.797330   \n",
       "25                  7                    10         0.4505         0.796723   \n",
       "26                  7                    15         0.4340         0.807646   \n",
       "27                  7                    20         0.4540         0.788835   \n",
       "28                 10                     3         0.4370         0.800364   \n",
       "29                 10                     4         0.4490         0.791869   \n",
       "30                 10                     5         0.4290         0.783981   \n",
       "31                 10                     7         0.4515         0.793083   \n",
       "32                 10                    10         0.4490         0.796117   \n",
       "33                 10                    15         0.4590         0.799757   \n",
       "34                 10                    20         0.4340         0.787015   \n",
       "35                 15                     3         0.4385         0.789442   \n",
       "36                 15                     4         0.4285         0.790049   \n",
       "37                 15                     5         0.4570         0.810680   \n",
       "38                 15                     7         0.4390         0.797330   \n",
       "39                 15                    10         0.4450         0.780947   \n",
       "40                 15                    15         0.4550         0.805218   \n",
       "41                 15                    20         0.4435         0.822816   \n",
       "42                 20                     3         0.4335         0.802184   \n",
       "43                 20                     4         0.4355         0.791869   \n",
       "44                 20                     5         0.4510         0.811893   \n",
       "45                 20                     7         0.4625         0.805825   \n",
       "46                 20                    10         0.4545         0.801578   \n",
       "47                 20                    15         0.4525         0.773665   \n",
       "48                 20                    20         0.4655         0.813714   \n",
       "\n",
       "      pred_0    pred_1    pred_2    pred_3    pred_4  pred_class  ...  R_hate  \\\n",
       "0   0.089227  0.492903 -1.018312  1.168334  0.899401           3  ...   -0.45   \n",
       "1  -0.815323  0.228068 -0.054365  0.583400 -0.755622           3  ...    0.22   \n",
       "2  -0.404692  0.363967 -0.565312  0.502987 -0.172350           3  ...    0.61   \n",
       "3   0.052939  1.088882  0.097879 -0.328814 -2.446205           1  ...    0.90   \n",
       "4  -0.107984  0.146719 -0.093676  0.690875 -0.409942           3  ...   -0.39   \n",
       "5  -0.519133  0.585030  0.507113 -0.135155 -2.102638           1  ...    0.69   \n",
       "6   1.104751  0.985701 -0.506663 -0.425916 -0.171626           0  ...    2.29   \n",
       "7  -0.314639  0.068187 -0.615212  0.885441  0.272877           3  ...   -0.15   \n",
       "8  -0.216039  0.327693  0.188046  0.416817 -0.798839           3  ...    0.19   \n",
       "9   0.501103  1.468885  0.077201 -0.658486 -2.750711           1  ...    1.16   \n",
       "10 -0.199262  0.974723  0.268842 -0.467785 -2.722602           1  ...    1.17   \n",
       "11  0.245246  0.806252 -0.015290  0.229676 -1.306966           1  ...    1.84   \n",
       "12  1.260524  1.667611 -0.009806 -1.136322 -2.197466           1  ...    2.40   \n",
       "13  1.176804  0.758453 -0.676921  0.391611  0.120602           0  ...    2.11   \n",
       "14 -0.280760  0.788724 -0.043454 -0.351614 -1.829863           1  ...    0.71   \n",
       "15  0.325675  0.864966 -0.016040 -0.194653 -1.326800           1  ...    0.25   \n",
       "16  0.178004  0.812742  0.180672 -0.238797 -1.662482           1  ...    0.81   \n",
       "17  0.588526  0.865918 -0.040494 -0.571998 -1.760246           1  ...    1.67   \n",
       "18  0.304518  0.226620 -0.025210 -0.489502 -0.374248           0  ...    2.65   \n",
       "19  1.026456  1.228318 -0.296128 -0.053338 -0.788718           1  ...    1.00   \n",
       "20 -0.661940 -0.248854 -0.433722  0.364787 -0.001542           3  ...   -1.47   \n",
       "21  1.822697  2.110189  0.001128 -1.194630 -2.316521           1  ...    0.04   \n",
       "22 -0.081808  0.588984  0.105501 -0.076636 -0.636622           1  ...    0.20   \n",
       "23  0.202871  0.686622  0.032070 -0.247469 -1.305554           1  ...    1.01   \n",
       "24  0.047401  0.375215 -0.170479 -0.382424 -1.172442           1  ...    0.95   \n",
       "25  0.395459  1.042943  0.022283 -0.482421 -1.941301           1  ...    1.60   \n",
       "26 -0.002777  0.469100 -0.143461  0.053381 -0.829481           1  ...    1.32   \n",
       "27  0.050483 -0.181728 -0.997377  0.402509  1.525117           4  ...    0.15   \n",
       "28 -0.011039  0.811457 -0.082622 -0.494972 -1.969455           1  ...    1.08   \n",
       "29  0.395256  1.000959  0.175339 -0.201797 -1.324477           1  ...    0.35   \n",
       "30  0.851235  1.143784 -0.160790 -0.873189 -1.829719           1  ...    0.95   \n",
       "31  0.206834  0.766934 -0.179407 -0.320940 -1.073912           1  ...    0.69   \n",
       "32 -1.713714 -0.538762 -0.393460  0.545567 -0.063143           3  ...   -1.35   \n",
       "33 -0.550536  0.225544 -0.327804 -0.064255 -0.747808           1  ...    2.23   \n",
       "34  1.631493  0.721900 -0.433694 -1.435800 -1.684095           0  ...    2.60   \n",
       "35  0.621612  1.023866 -0.471838 -0.766982 -1.636908           1  ...    0.65   \n",
       "36  0.016586  0.921625  0.045616 -0.925760 -2.175695           1  ...    0.98   \n",
       "37  1.104509  0.841718 -0.472763 -0.727338 -1.490901           0  ...    2.67   \n",
       "38  0.621368  0.919204 -0.386493 -0.388548 -1.634971           1  ...    0.74   \n",
       "39  0.364253  0.379690 -0.457309 -0.785911 -1.845633           1  ...    0.92   \n",
       "40  0.468371  0.181858 -0.753747 -0.272448 -0.840296           0  ...    3.26   \n",
       "41  0.428577  0.285757 -0.846267 -0.894159 -1.493839           0  ...    3.25   \n",
       "42  1.124812  1.577986  0.105534 -0.979994 -2.337184           1  ...    0.81   \n",
       "43  0.615067  1.107918 -0.020603 -0.934905 -2.220119           1  ...    1.09   \n",
       "44  1.262991  1.009285 -0.492742 -0.473064 -1.219598           0  ...    0.99   \n",
       "45  0.565102  0.852865 -0.317847 -1.154289 -2.186511           1  ...    1.20   \n",
       "46  0.056861  0.420689 -0.452365 -0.647716 -1.782401           1  ...    0.88   \n",
       "47  0.871596  1.423532 -0.626452 -1.387030 -2.147008           1  ...    1.53   \n",
       "48  0.991381  0.797809 -0.580056 -1.052267 -0.908465           0  ...    2.95   \n",
       "\n",
       "    R_the  R_movie  R_though  R_the2  R_plot  R_is  R_interesting  R_period  \\\n",
       "0    0.21     0.01      0.30   -0.19   -0.18 -0.10           0.19     -0.15   \n",
       "1    0.20    -0.08     -0.33   -0.07   -0.13 -0.09           0.63     -0.38   \n",
       "2   -0.15    -0.08     -0.27   -0.17   -0.12 -0.11           0.19     -0.22   \n",
       "3   -0.20     0.02      0.62   -0.17    0.04 -0.03          -0.17     -0.37   \n",
       "4    0.12    -0.15      0.14    0.21   -0.10 -0.11           0.51      0.06   \n",
       "5    0.15    -0.01      0.13   -0.04    0.18 -0.04          -0.46     -0.22   \n",
       "6   -0.04     0.05     -0.35   -0.01    0.46  0.02          -1.23      0.09   \n",
       "7    0.10    -0.07     -0.19   -0.11   -0.10 -0.09           0.44     -0.30   \n",
       "8   -0.07    -0.09     -0.32   -0.04   -0.45 -0.03           0.83      0.00   \n",
       "9   -0.03     0.08      0.09   -0.32    0.43 -0.03          -0.71     -0.20   \n",
       "10  -0.01     0.13      0.36   -0.16    0.65 -0.04          -0.59     -0.44   \n",
       "11   0.06    -0.16     -0.11   -0.14    0.27 -0.20          -0.96     -0.65   \n",
       "12  -0.25     0.02     -0.09    0.05    0.86 -0.46          -2.03      0.24   \n",
       "13   0.11     0.08     -0.30   -0.09    0.16 -0.39          -0.79     -0.73   \n",
       "14  -0.08     0.00     -0.26   -0.07    0.17 -0.00          -0.77     -0.15   \n",
       "15   0.12     0.10      0.38    0.03    0.39  0.03          -0.16     -0.38   \n",
       "16   0.02     0.23      0.07   -0.08    0.86 -0.07          -1.27     -0.42   \n",
       "17   0.06    -0.00     -0.05    0.02    0.54  0.00          -1.17     -0.08   \n",
       "18   0.09     0.21      0.38    0.31    1.33 -0.09          -2.72     -0.92   \n",
       "19   0.06     0.03      0.40   -0.04    1.13 -0.32          -2.70     -0.13   \n",
       "20   0.27     0.04      0.41    0.20   -0.53  0.11           2.49     -0.43   \n",
       "21  -0.21     0.10     -0.46   -0.17    0.47 -0.08          -0.71     -0.13   \n",
       "22   0.04     0.22      0.10    0.07    0.47 -0.04          -1.11     -0.26   \n",
       "23  -0.33     0.15     -0.19   -0.11    0.56 -0.04          -0.98     -0.35   \n",
       "24   0.02     0.07      0.17    0.06    0.67 -0.10          -1.53     -0.45   \n",
       "25  -0.00    -0.20      0.33   -0.32    0.64 -0.26          -2.06     -0.91   \n",
       "26  -0.01    -0.21      0.17   -0.25    0.66 -0.43          -1.77     -0.58   \n",
       "27   0.72     0.13     -0.39    0.33   -1.09  0.13           5.43     -0.21   \n",
       "28  -0.05     0.13      0.14   -0.05    0.87 -0.07          -0.94     -0.31   \n",
       "29   0.06    -0.05      0.57    0.00    0.51 -0.10          -1.57     -0.41   \n",
       "30  -0.12     0.14     -0.03   -0.03    0.72 -0.03          -1.34     -0.40   \n",
       "31   0.10     0.12      0.56    0.16    0.72 -0.05          -1.21     -0.47   \n",
       "32   0.86    -0.17      0.43    0.46   -0.45  0.62           2.04      0.28   \n",
       "33  -0.32     0.44     -0.07   -0.05    0.84 -0.38          -1.97     -0.86   \n",
       "34   0.20     0.57     -1.26    0.22    0.76  0.33          -1.13     -0.69   \n",
       "35  -0.10     0.26      0.03   -0.06    0.52 -0.01          -0.69      0.05   \n",
       "36  -0.06     0.18     -0.27   -0.13    0.43 -0.10          -1.27     -0.14   \n",
       "37  -0.38     0.37     -0.62   -0.26    0.84 -0.16          -1.74     -0.28   \n",
       "38  -0.29    -0.03     -0.25   -0.10    0.35 -0.13          -0.95     -0.20   \n",
       "39  -0.17     0.10     -0.06   -0.19    0.51 -0.27          -1.24     -0.81   \n",
       "40  -0.24     0.48      0.50   -0.15    1.29 -0.35          -3.51     -0.12   \n",
       "41   0.06     0.57     -1.14    0.05    0.93 -0.32          -4.42      0.18   \n",
       "42   0.29     0.11      0.19    0.23    0.53 -0.02          -1.04     -0.04   \n",
       "43  -0.16     0.15     -0.11   -0.01    0.68 -0.05          -1.25     -0.16   \n",
       "44  -0.09     0.22     -0.18   -0.12    0.50 -0.14          -1.47     -0.19   \n",
       "45  -0.07    -0.00      0.57   -0.10    0.54 -0.18          -1.53     -0.42   \n",
       "46   0.07     0.00      0.53    0.08    0.67 -0.18          -1.86     -0.35   \n",
       "47   0.18     0.12      0.57    0.06    0.58 -0.33          -1.82     -0.43   \n",
       "48  -0.01     1.12     -0.17    0.10    1.76 -0.60          -4.26      0.56   \n",
       "\n",
       "                                         heatmap_html  \n",
       "0   <span style=\"background-color:#5656ff\">i</span...  \n",
       "1   <span style=\"background-color:#6c6cff\">i</span...  \n",
       "2   <span style=\"background-color:#0000ff\">i</span...  \n",
       "3   <span style=\"background-color:#3e3eff\">i</span...  \n",
       "4   <span style=\"background-color:#0000ff\">i</span...  \n",
       "5   <span style=\"background-color:#0000ff\">i</span...  \n",
       "6   <span style=\"background-color:#f8f8ff\">i</span...  \n",
       "7   <span style=\"background-color:#0e0eff\">i</span...  \n",
       "8   <span style=\"background-color:#eeeeff\">i</span...  \n",
       "9   <span style=\"background-color:#0000ff\">i</span...  \n",
       "10  <span style=\"background-color:#6868ff\">i</span...  \n",
       "11  <span style=\"background-color:#ceceff\">i</span...  \n",
       "12  <span style=\"background-color:#a2a2ff\">i</span...  \n",
       "13  <span style=\"background-color:#babaff\">i</span...  \n",
       "14  <span style=\"background-color:#dedeff\">i</span...  \n",
       "15  <span style=\"background-color:#0404ff\">i</span...  \n",
       "16  <span style=\"background-color:#6464ff\">i</span...  \n",
       "17  <span style=\"background-color:#2e2eff\">i</span...  \n",
       "18  <span style=\"background-color:#e6e6ff\">i</span...  \n",
       "19  <span style=\"background-color:#7c7cff\">i</span...  \n",
       "20  <span style=\"background-color:#ffe6e6\">i</span...  \n",
       "21  <span style=\"background-color:#bebeff\">i</span...  \n",
       "22  <span style=\"background-color:#9393ff\">i</span...  \n",
       "23  <span style=\"background-color:#6060ff\">i</span...  \n",
       "24  <span style=\"background-color:#4141ff\">i</span...  \n",
       "25  <span style=\"background-color:#3030ff\">i</span...  \n",
       "26  <span style=\"background-color:#5656ff\">i</span...  \n",
       "27  <span style=\"background-color:#ececff\">i</span...  \n",
       "28  <span style=\"background-color:#a2a2ff\">i</span...  \n",
       "29  <span style=\"background-color:#8e8eff\">i</span...  \n",
       "30  <span style=\"background-color:#8e8eff\">i</span...  \n",
       "31  <span style=\"background-color:#aaaaff\">i</span...  \n",
       "32  <span style=\"background-color:#ffe6e6\">i</span...  \n",
       "33  <span style=\"background-color:#7e7eff\">i</span...  \n",
       "34  <span style=\"background-color:#c2c2ff\">i</span...  \n",
       "35  <span style=\"background-color:#f8f8ff\">i</span...  \n",
       "36  <span style=\"background-color:#babaff\">i</span...  \n",
       "37  <span style=\"background-color:#b6b6ff\">i</span...  \n",
       "38  <span style=\"background-color:#0404ff\">i</span...  \n",
       "39  <span style=\"background-color:#7676ff\">i</span...  \n",
       "40  <span style=\"background-color:#bcbcff\">i</span...  \n",
       "41  <span style=\"background-color:#b2b2ff\">i</span...  \n",
       "42  <span style=\"background-color:#b6b6ff\">i</span...  \n",
       "43  <span style=\"background-color:#c3c3ff\">i</span...  \n",
       "44  <span style=\"background-color:#f8f8ff\">i</span...  \n",
       "45  <span style=\"background-color:#7171ff\">i</span...  \n",
       "46  <span style=\"background-color:#9393ff\">i</span...  \n",
       "47  <span style=\"background-color:#6e6eff\">i</span...  \n",
       "48  <span style=\"background-color:#dadaff\">i</span...  \n",
       "\n",
       "[49 rows x 21 columns]"
      ]
     },
     "execution_count": 3,
     "metadata": {},
     "output_type": "execute_result"
    }
   ],
   "source": [
    "lrp_output"
   ]
  },
  {
   "cell_type": "code",
   "execution_count": 4,
   "metadata": {},
   "outputs": [
    {
     "data": {
      "text/html": [
       "<div>\n",
       "<style scoped>\n",
       "    .dataframe tbody tr th:only-of-type {\n",
       "        vertical-align: middle;\n",
       "    }\n",
       "\n",
       "    .dataframe tbody tr th {\n",
       "        vertical-align: top;\n",
       "    }\n",
       "\n",
       "    .dataframe thead th {\n",
       "        text-align: right;\n",
       "    }\n",
       "</style>\n",
       "<table border=\"1\" class=\"dataframe\">\n",
       "  <thead>\n",
       "    <tr style=\"text-align: right;\">\n",
       "      <th></th>\n",
       "      <th>hidden_dimensions</th>\n",
       "      <th>embedding_dimensions</th>\n",
       "      <th>fine_accuracy</th>\n",
       "      <th>coarse_accuracy</th>\n",
       "      <th>pred_0</th>\n",
       "      <th>pred_1</th>\n",
       "      <th>pred_2</th>\n",
       "      <th>pred_3</th>\n",
       "      <th>pred_4</th>\n",
       "      <th>pred_class</th>\n",
       "      <th>R_i</th>\n",
       "      <th>R_hate</th>\n",
       "      <th>R_the</th>\n",
       "      <th>R_movie</th>\n",
       "      <th>R_though</th>\n",
       "      <th>R_the2</th>\n",
       "      <th>R_plot</th>\n",
       "      <th>R_is</th>\n",
       "      <th>R_interesting</th>\n",
       "      <th>R_period</th>\n",
       "    </tr>\n",
       "  </thead>\n",
       "  <tbody>\n",
       "    <tr>\n",
       "      <th>count</th>\n",
       "      <td>49.000000</td>\n",
       "      <td>49.000000</td>\n",
       "      <td>49.000000</td>\n",
       "      <td>49.000000</td>\n",
       "      <td>49.000000</td>\n",
       "      <td>49.000000</td>\n",
       "      <td>49.000000</td>\n",
       "      <td>49.000000</td>\n",
       "      <td>49.000000</td>\n",
       "      <td>49.000000</td>\n",
       "      <td>49.000000</td>\n",
       "      <td>49.000000</td>\n",
       "      <td>49.000000</td>\n",
       "      <td>49.000000</td>\n",
       "      <td>49.000000</td>\n",
       "      <td>49.000000</td>\n",
       "      <td>49.000000</td>\n",
       "      <td>49.000000</td>\n",
       "      <td>49.000000</td>\n",
       "      <td>49.000000</td>\n",
       "    </tr>\n",
       "    <tr>\n",
       "      <th>mean</th>\n",
       "      <td>9.142857</td>\n",
       "      <td>9.142857</td>\n",
       "      <td>0.426051</td>\n",
       "      <td>0.772724</td>\n",
       "      <td>0.320223</td>\n",
       "      <td>0.723846</td>\n",
       "      <td>-0.232060</td>\n",
       "      <td>-0.326162</td>\n",
       "      <td>-1.256631</td>\n",
       "      <td>1.204082</td>\n",
       "      <td>-0.615918</td>\n",
       "      <td>1.060204</td>\n",
       "      <td>0.014898</td>\n",
       "      <td>0.111224</td>\n",
       "      <td>0.013673</td>\n",
       "      <td>-0.023673</td>\n",
       "      <td>0.455918</td>\n",
       "      <td>-0.109796</td>\n",
       "      <td>-0.945918</td>\n",
       "      <td>-0.283265</td>\n",
       "    </tr>\n",
       "    <tr>\n",
       "      <th>std</th>\n",
       "      <td>5.901977</td>\n",
       "      <td>5.901977</td>\n",
       "      <td>0.039994</td>\n",
       "      <td>0.065375</td>\n",
       "      <td>0.663373</td>\n",
       "      <td>0.501848</td>\n",
       "      <td>0.338485</td>\n",
       "      <td>0.605014</td>\n",
       "      <td>0.932100</td>\n",
       "      <td>0.999575</td>\n",
       "      <td>0.431484</td>\n",
       "      <td>1.045661</td>\n",
       "      <td>0.226202</td>\n",
       "      <td>0.230621</td>\n",
       "      <td>0.408538</td>\n",
       "      <td>0.165248</td>\n",
       "      <td>0.507206</td>\n",
       "      <td>0.196304</td>\n",
       "      <td>1.580049</td>\n",
       "      <td>0.305385</td>\n",
       "    </tr>\n",
       "    <tr>\n",
       "      <th>min</th>\n",
       "      <td>3.000000</td>\n",
       "      <td>3.000000</td>\n",
       "      <td>0.281500</td>\n",
       "      <td>0.518204</td>\n",
       "      <td>-1.713714</td>\n",
       "      <td>-0.538762</td>\n",
       "      <td>-1.018312</td>\n",
       "      <td>-1.435800</td>\n",
       "      <td>-2.750711</td>\n",
       "      <td>0.000000</td>\n",
       "      <td>-1.670000</td>\n",
       "      <td>-1.470000</td>\n",
       "      <td>-0.380000</td>\n",
       "      <td>-0.210000</td>\n",
       "      <td>-1.260000</td>\n",
       "      <td>-0.320000</td>\n",
       "      <td>-1.090000</td>\n",
       "      <td>-0.600000</td>\n",
       "      <td>-4.420000</td>\n",
       "      <td>-0.920000</td>\n",
       "    </tr>\n",
       "    <tr>\n",
       "      <th>25%</th>\n",
       "      <td>4.000000</td>\n",
       "      <td>4.000000</td>\n",
       "      <td>0.425500</td>\n",
       "      <td>0.776092</td>\n",
       "      <td>-0.011039</td>\n",
       "      <td>0.375215</td>\n",
       "      <td>-0.471838</td>\n",
       "      <td>-0.766982</td>\n",
       "      <td>-1.941301</td>\n",
       "      <td>1.000000</td>\n",
       "      <td>-0.860000</td>\n",
       "      <td>0.610000</td>\n",
       "      <td>-0.100000</td>\n",
       "      <td>0.000000</td>\n",
       "      <td>-0.250000</td>\n",
       "      <td>-0.130000</td>\n",
       "      <td>0.180000</td>\n",
       "      <td>-0.180000</td>\n",
       "      <td>-1.570000</td>\n",
       "      <td>-0.430000</td>\n",
       "    </tr>\n",
       "    <tr>\n",
       "      <th>50%</th>\n",
       "      <td>7.000000</td>\n",
       "      <td>7.000000</td>\n",
       "      <td>0.435500</td>\n",
       "      <td>0.789442</td>\n",
       "      <td>0.304518</td>\n",
       "      <td>0.797809</td>\n",
       "      <td>-0.160790</td>\n",
       "      <td>-0.382424</td>\n",
       "      <td>-1.326800</td>\n",
       "      <td>1.000000</td>\n",
       "      <td>-0.620000</td>\n",
       "      <td>0.950000</td>\n",
       "      <td>0.000000</td>\n",
       "      <td>0.080000</td>\n",
       "      <td>0.030000</td>\n",
       "      <td>-0.050000</td>\n",
       "      <td>0.520000</td>\n",
       "      <td>-0.090000</td>\n",
       "      <td>-1.130000</td>\n",
       "      <td>-0.280000</td>\n",
       "    </tr>\n",
       "    <tr>\n",
       "      <th>75%</th>\n",
       "      <td>15.000000</td>\n",
       "      <td>15.000000</td>\n",
       "      <td>0.449000</td>\n",
       "      <td>0.799757</td>\n",
       "      <td>0.621612</td>\n",
       "      <td>1.000959</td>\n",
       "      <td>0.001128</td>\n",
       "      <td>-0.053338</td>\n",
       "      <td>-0.755622</td>\n",
       "      <td>1.000000</td>\n",
       "      <td>-0.340000</td>\n",
       "      <td>1.600000</td>\n",
       "      <td>0.100000</td>\n",
       "      <td>0.150000</td>\n",
       "      <td>0.360000</td>\n",
       "      <td>0.060000</td>\n",
       "      <td>0.720000</td>\n",
       "      <td>-0.030000</td>\n",
       "      <td>-0.590000</td>\n",
       "      <td>-0.130000</td>\n",
       "    </tr>\n",
       "    <tr>\n",
       "      <th>max</th>\n",
       "      <td>20.000000</td>\n",
       "      <td>20.000000</td>\n",
       "      <td>0.465500</td>\n",
       "      <td>0.822816</td>\n",
       "      <td>1.822697</td>\n",
       "      <td>2.110189</td>\n",
       "      <td>0.507113</td>\n",
       "      <td>1.168334</td>\n",
       "      <td>1.525117</td>\n",
       "      <td>4.000000</td>\n",
       "      <td>0.250000</td>\n",
       "      <td>3.260000</td>\n",
       "      <td>0.860000</td>\n",
       "      <td>1.120000</td>\n",
       "      <td>0.620000</td>\n",
       "      <td>0.460000</td>\n",
       "      <td>1.760000</td>\n",
       "      <td>0.620000</td>\n",
       "      <td>5.430000</td>\n",
       "      <td>0.560000</td>\n",
       "    </tr>\n",
       "  </tbody>\n",
       "</table>\n",
       "</div>"
      ],
      "text/plain": [
       "       hidden_dimensions  embedding_dimensions  fine_accuracy  \\\n",
       "count          49.000000             49.000000      49.000000   \n",
       "mean            9.142857              9.142857       0.426051   \n",
       "std             5.901977              5.901977       0.039994   \n",
       "min             3.000000              3.000000       0.281500   \n",
       "25%             4.000000              4.000000       0.425500   \n",
       "50%             7.000000              7.000000       0.435500   \n",
       "75%            15.000000             15.000000       0.449000   \n",
       "max            20.000000             20.000000       0.465500   \n",
       "\n",
       "       coarse_accuracy     pred_0     pred_1     pred_2     pred_3     pred_4  \\\n",
       "count        49.000000  49.000000  49.000000  49.000000  49.000000  49.000000   \n",
       "mean          0.772724   0.320223   0.723846  -0.232060  -0.326162  -1.256631   \n",
       "std           0.065375   0.663373   0.501848   0.338485   0.605014   0.932100   \n",
       "min           0.518204  -1.713714  -0.538762  -1.018312  -1.435800  -2.750711   \n",
       "25%           0.776092  -0.011039   0.375215  -0.471838  -0.766982  -1.941301   \n",
       "50%           0.789442   0.304518   0.797809  -0.160790  -0.382424  -1.326800   \n",
       "75%           0.799757   0.621612   1.000959   0.001128  -0.053338  -0.755622   \n",
       "max           0.822816   1.822697   2.110189   0.507113   1.168334   1.525117   \n",
       "\n",
       "       pred_class        R_i     R_hate      R_the    R_movie   R_though  \\\n",
       "count   49.000000  49.000000  49.000000  49.000000  49.000000  49.000000   \n",
       "mean     1.204082  -0.615918   1.060204   0.014898   0.111224   0.013673   \n",
       "std      0.999575   0.431484   1.045661   0.226202   0.230621   0.408538   \n",
       "min      0.000000  -1.670000  -1.470000  -0.380000  -0.210000  -1.260000   \n",
       "25%      1.000000  -0.860000   0.610000  -0.100000   0.000000  -0.250000   \n",
       "50%      1.000000  -0.620000   0.950000   0.000000   0.080000   0.030000   \n",
       "75%      1.000000  -0.340000   1.600000   0.100000   0.150000   0.360000   \n",
       "max      4.000000   0.250000   3.260000   0.860000   1.120000   0.620000   \n",
       "\n",
       "          R_the2     R_plot       R_is  R_interesting   R_period  \n",
       "count  49.000000  49.000000  49.000000      49.000000  49.000000  \n",
       "mean   -0.023673   0.455918  -0.109796      -0.945918  -0.283265  \n",
       "std     0.165248   0.507206   0.196304       1.580049   0.305385  \n",
       "min    -0.320000  -1.090000  -0.600000      -4.420000  -0.920000  \n",
       "25%    -0.130000   0.180000  -0.180000      -1.570000  -0.430000  \n",
       "50%    -0.050000   0.520000  -0.090000      -1.130000  -0.280000  \n",
       "75%     0.060000   0.720000  -0.030000      -0.590000  -0.130000  \n",
       "max     0.460000   1.760000   0.620000       5.430000   0.560000  "
      ]
     },
     "execution_count": 4,
     "metadata": {},
     "output_type": "execute_result"
    }
   ],
   "source": [
    "lrp_output.describe()"
   ]
  },
  {
   "cell_type": "code",
   "execution_count": 5,
   "metadata": {},
   "outputs": [
    {
     "name": "stdout",
     "output_type": "stream",
     "text": [
      "<class 'pandas.core.frame.DataFrame'>\n",
      "RangeIndex: 49 entries, 0 to 48\n",
      "Data columns (total 21 columns):\n",
      " #   Column                Non-Null Count  Dtype  \n",
      "---  ------                --------------  -----  \n",
      " 0   hidden_dimensions     49 non-null     int64  \n",
      " 1   embedding_dimensions  49 non-null     int64  \n",
      " 2   fine_accuracy         49 non-null     float64\n",
      " 3   coarse_accuracy       49 non-null     float64\n",
      " 4   pred_0                49 non-null     float64\n",
      " 5   pred_1                49 non-null     float64\n",
      " 6   pred_2                49 non-null     float64\n",
      " 7   pred_3                49 non-null     float64\n",
      " 8   pred_4                49 non-null     float64\n",
      " 9   pred_class            49 non-null     int64  \n",
      " 10  R_i                   49 non-null     float64\n",
      " 11  R_hate                49 non-null     float64\n",
      " 12  R_the                 49 non-null     float64\n",
      " 13  R_movie               49 non-null     float64\n",
      " 14  R_though              49 non-null     float64\n",
      " 15  R_the2                49 non-null     float64\n",
      " 16  R_plot                49 non-null     float64\n",
      " 17  R_is                  49 non-null     float64\n",
      " 18  R_interesting         49 non-null     float64\n",
      " 19  R_period              49 non-null     float64\n",
      " 20  heatmap_html          49 non-null     object \n",
      "dtypes: float64(17), int64(3), object(1)\n",
      "memory usage: 8.2+ KB\n"
     ]
    }
   ],
   "source": [
    "lrp_output.info()"
   ]
  },
  {
   "cell_type": "code",
   "execution_count": 6,
   "metadata": {},
   "outputs": [
    {
     "name": "stderr",
     "output_type": "stream",
     "text": [
      "<ipython-input-6-125b4420224a>:5: UserWarning: Matplotlib is currently using module://ipykernel.pylab.backend_inline, which is a non-GUI backend, so cannot show the figure.\n",
      "  fig.show()\n"
     ]
    },
    {
     "data": {
      "image/png": "[encoded data removed]",
      "text/plain": [
       "<Figure size 576x576 with 1 Axes>"
      ]
     },
     "metadata": {
      "needs_background": "light"
     },
     "output_type": "display_data"
    }
   ],
   "source": [
    "fig = plt.figure(figsize = (8,8))\n",
    "ax = fig.add_subplot(1,1,1)\n",
    "ax.scatter(lrp_output['embedding_dimensions'], lrp_output['fine_accuracy'])\n",
    "plt.yscale('log')\n",
    "fig.show()"
   ]
  },
  {
   "cell_type": "code",
   "execution_count": 7,
   "metadata": {},
   "outputs": [
    {
     "name": "stderr",
     "output_type": "stream",
     "text": [
      "<ipython-input-7-b537dc0d360e>:5: UserWarning: Matplotlib is currently using module://ipykernel.pylab.backend_inline, which is a non-GUI backend, so cannot show the figure.\n",
      "  fig.show()\n"
     ]
    },
    {
     "data": {
      "image/png": "[encoded data removed]",
      "text/plain": [
       "<Figure size 576x576 with 1 Axes>"
      ]
     },
     "metadata": {
      "needs_background": "light"
     },
     "output_type": "display_data"
    }
   ],
   "source": [
    "fig = plt.figure(figsize = (8,8))\n",
    "ax = fig.add_subplot(1,1,1)\n",
    "ax.scatter(lrp_output['hidden_dimensions'], lrp_output['fine_accuracy'])\n",
    "plt.yscale('log')\n",
    "fig.show()"
   ]
  },
  {
   "cell_type": "code",
   "execution_count": 8,
   "metadata": {},
   "outputs": [
    {
     "data": {
      "text/html": [
       "<div>\n",
       "<style scoped>\n",
       "    .dataframe tbody tr th:only-of-type {\n",
       "        vertical-align: middle;\n",
       "    }\n",
       "\n",
       "    .dataframe tbody tr th {\n",
       "        vertical-align: top;\n",
       "    }\n",
       "\n",
       "    .dataframe thead th {\n",
       "        text-align: right;\n",
       "    }\n",
       "</style>\n",
       "<table border=\"1\" class=\"dataframe\">\n",
       "  <thead>\n",
       "    <tr style=\"text-align: right;\">\n",
       "      <th></th>\n",
       "      <th>hidden_dimensions</th>\n",
       "      <th>embedding_dimensions</th>\n",
       "      <th>fine_accuracy</th>\n",
       "      <th>coarse_accuracy</th>\n",
       "      <th>pred_0</th>\n",
       "      <th>pred_1</th>\n",
       "      <th>pred_2</th>\n",
       "      <th>pred_3</th>\n",
       "      <th>pred_4</th>\n",
       "      <th>pred_class</th>\n",
       "      <th>...</th>\n",
       "      <th>R_hate</th>\n",
       "      <th>R_the</th>\n",
       "      <th>R_movie</th>\n",
       "      <th>R_though</th>\n",
       "      <th>R_the2</th>\n",
       "      <th>R_plot</th>\n",
       "      <th>R_is</th>\n",
       "      <th>R_interesting</th>\n",
       "      <th>R_period</th>\n",
       "      <th>heatmap_html</th>\n",
       "    </tr>\n",
       "  </thead>\n",
       "  <tbody>\n",
       "    <tr>\n",
       "      <th>0</th>\n",
       "      <td>3</td>\n",
       "      <td>3</td>\n",
       "      <td>0.3025</td>\n",
       "      <td>0.549757</td>\n",
       "      <td>0.089227</td>\n",
       "      <td>0.492903</td>\n",
       "      <td>-1.018312</td>\n",
       "      <td>1.168334</td>\n",
       "      <td>0.899401</td>\n",
       "      <td>3</td>\n",
       "      <td>...</td>\n",
       "      <td>-0.45</td>\n",
       "      <td>0.21</td>\n",
       "      <td>0.01</td>\n",
       "      <td>0.30</td>\n",
       "      <td>-0.19</td>\n",
       "      <td>-0.18</td>\n",
       "      <td>-0.10</td>\n",
       "      <td>0.19</td>\n",
       "      <td>-0.15</td>\n",
       "      <td>&lt;span style=\"background-color:#5656ff\"&gt;i&lt;/span...</td>\n",
       "    </tr>\n",
       "    <tr>\n",
       "      <th>1</th>\n",
       "      <td>3</td>\n",
       "      <td>4</td>\n",
       "      <td>0.3635</td>\n",
       "      <td>0.686893</td>\n",
       "      <td>-0.815323</td>\n",
       "      <td>0.228068</td>\n",
       "      <td>-0.054365</td>\n",
       "      <td>0.583400</td>\n",
       "      <td>-0.755622</td>\n",
       "      <td>3</td>\n",
       "      <td>...</td>\n",
       "      <td>0.22</td>\n",
       "      <td>0.20</td>\n",
       "      <td>-0.08</td>\n",
       "      <td>-0.33</td>\n",
       "      <td>-0.07</td>\n",
       "      <td>-0.13</td>\n",
       "      <td>-0.09</td>\n",
       "      <td>0.63</td>\n",
       "      <td>-0.38</td>\n",
       "      <td>&lt;span style=\"background-color:#6c6cff\"&gt;i&lt;/span...</td>\n",
       "    </tr>\n",
       "    <tr>\n",
       "      <th>2</th>\n",
       "      <td>3</td>\n",
       "      <td>5</td>\n",
       "      <td>0.2815</td>\n",
       "      <td>0.518204</td>\n",
       "      <td>-0.404692</td>\n",
       "      <td>0.363967</td>\n",
       "      <td>-0.565312</td>\n",
       "      <td>0.502987</td>\n",
       "      <td>-0.172350</td>\n",
       "      <td>3</td>\n",
       "      <td>...</td>\n",
       "      <td>0.61</td>\n",
       "      <td>-0.15</td>\n",
       "      <td>-0.08</td>\n",
       "      <td>-0.27</td>\n",
       "      <td>-0.17</td>\n",
       "      <td>-0.12</td>\n",
       "      <td>-0.11</td>\n",
       "      <td>0.19</td>\n",
       "      <td>-0.22</td>\n",
       "      <td>&lt;span style=\"background-color:#0000ff\"&gt;i&lt;/span...</td>\n",
       "    </tr>\n",
       "    <tr>\n",
       "      <th>7</th>\n",
       "      <td>4</td>\n",
       "      <td>3</td>\n",
       "      <td>0.2825</td>\n",
       "      <td>0.527913</td>\n",
       "      <td>-0.314639</td>\n",
       "      <td>0.068187</td>\n",
       "      <td>-0.615212</td>\n",
       "      <td>0.885441</td>\n",
       "      <td>0.272877</td>\n",
       "      <td>3</td>\n",
       "      <td>...</td>\n",
       "      <td>-0.15</td>\n",
       "      <td>0.10</td>\n",
       "      <td>-0.07</td>\n",
       "      <td>-0.19</td>\n",
       "      <td>-0.11</td>\n",
       "      <td>-0.10</td>\n",
       "      <td>-0.09</td>\n",
       "      <td>0.44</td>\n",
       "      <td>-0.30</td>\n",
       "      <td>&lt;span style=\"background-color:#0e0eff\"&gt;i&lt;/span...</td>\n",
       "    </tr>\n",
       "  </tbody>\n",
       "</table>\n",
       "<p>4 rows × 21 columns</p>\n",
       "</div>"
      ],
      "text/plain": [
       "   hidden_dimensions  embedding_dimensions  fine_accuracy  coarse_accuracy  \\\n",
       "0                  3                     3         0.3025         0.549757   \n",
       "1                  3                     4         0.3635         0.686893   \n",
       "2                  3                     5         0.2815         0.518204   \n",
       "7                  4                     3         0.2825         0.527913   \n",
       "\n",
       "     pred_0    pred_1    pred_2    pred_3    pred_4  pred_class  ...  R_hate  \\\n",
       "0  0.089227  0.492903 -1.018312  1.168334  0.899401           3  ...   -0.45   \n",
       "1 -0.815323  0.228068 -0.054365  0.583400 -0.755622           3  ...    0.22   \n",
       "2 -0.404692  0.363967 -0.565312  0.502987 -0.172350           3  ...    0.61   \n",
       "7 -0.314639  0.068187 -0.615212  0.885441  0.272877           3  ...   -0.15   \n",
       "\n",
       "   R_the  R_movie  R_though  R_the2  R_plot  R_is  R_interesting  R_period  \\\n",
       "0   0.21     0.01      0.30   -0.19   -0.18 -0.10           0.19     -0.15   \n",
       "1   0.20    -0.08     -0.33   -0.07   -0.13 -0.09           0.63     -0.38   \n",
       "2  -0.15    -0.08     -0.27   -0.17   -0.12 -0.11           0.19     -0.22   \n",
       "7   0.10    -0.07     -0.19   -0.11   -0.10 -0.09           0.44     -0.30   \n",
       "\n",
       "                                        heatmap_html  \n",
       "0  <span style=\"background-color:#5656ff\">i</span...  \n",
       "1  <span style=\"background-color:#6c6cff\">i</span...  \n",
       "2  <span style=\"background-color:#0000ff\">i</span...  \n",
       "7  <span style=\"background-color:#0e0eff\">i</span...  \n",
       "\n",
       "[4 rows x 21 columns]"
      ]
     },
     "execution_count": 8,
     "metadata": {},
     "output_type": "execute_result"
    }
   ],
   "source": [
    "lrp_output[lrp_output['coarse_accuracy'] < 0.7]"
   ]
  },
  {
   "cell_type": "code",
   "execution_count": 9,
   "metadata": {},
   "outputs": [
    {
     "name": "stderr",
     "output_type": "stream",
     "text": [
      "<ipython-input-9-03cee4974a9b>:4: UserWarning: Matplotlib is currently using module://ipykernel.pylab.backend_inline, which is a non-GUI backend, so cannot show the figure.\n",
      "  fig.show()\n"
     ]
    },
    {
     "data": {
      "image/png": "[encoded data removed]",
      "text/plain": [
       "<Figure size 576x576 with 1 Axes>"
      ]
     },
     "metadata": {
      "needs_background": "light"
     },
     "output_type": "display_data"
    }
   ],
   "source": [
    "fig = plt.figure(figsize = (8,8))\n",
    "ax = fig.add_subplot(1,1,1)\n",
    "ax.scatter(lrp_output['coarse_accuracy'], lrp_output['R_though'])\n",
    "fig.show()"
   ]
  },
  {
   "cell_type": "code",
   "execution_count": 10,
   "metadata": {},
   "outputs": [],
   "source": [
    "lrp_output['R_though_pct'] = lrp_output['R_though']**2 / (lrp_output['R_i']**2 + lrp_output['R_hate']**2 + lrp_output['R_the']**2 + lrp_output['R_movie']**2 + lrp_output['R_though']**2 + lrp_output['R_the2']**2 + lrp_output['R_plot']**2 + lrp_output['R_is']**2 + lrp_output['R_interesting']**2 + lrp_output['R_period']**2)"
   ]
  },
  {
   "cell_type": "code",
   "execution_count": 11,
   "metadata": {},
   "outputs": [
    {
     "name": "stderr",
     "output_type": "stream",
     "text": [
      "<ipython-input-11-69b2d5edbe56>:5: UserWarning: Matplotlib is currently using module://ipykernel.pylab.backend_inline, which is a non-GUI backend, so cannot show the figure.\n",
      "  fig.show()\n"
     ]
    },
    {
     "data": {
      "image/png": "[encoded data removed]",
      "text/plain": [
       "<Figure size 576x576 with 1 Axes>"
      ]
     },
     "metadata": {
      "needs_background": "light"
     },
     "output_type": "display_data"
    }
   ],
   "source": [
    "fig = plt.figure(figsize = (8,8))\n",
    "ax = fig.add_subplot(1,1,1)\n",
    "ax.scatter(lrp_output['fine_accuracy'], lrp_output['R_though_pct'])\n",
    "plt.xscale('log')\n",
    "fig.show()"
   ]
  },
  {
   "cell_type": "code",
   "execution_count": 12,
   "metadata": {},
   "outputs": [],
   "source": [
    "lrp_output['total_dim'] = lrp_output['hidden_dimensions'] + lrp_output['embedding_dimensions']"
   ]
  },
  {
   "cell_type": "code",
   "execution_count": 29,
   "metadata": {},
   "outputs": [
    {
     "name": "stderr",
     "output_type": "stream",
     "text": [
      "<ipython-input-29-941b1d608b7d>:8: UserWarning: Matplotlib is currently using module://ipykernel.pylab.backend_inline, which is a non-GUI backend, so cannot show the figure.\n",
      "  fig.show()\n"
     ]
    },
    {
     "data": {
      "image/png": "[encoded data removed]",
      "text/plain": [
       "<Figure size 576x576 with 1 Axes>"
      ]
     },
     "metadata": {
      "needs_background": "light"
     },
     "output_type": "display_data"
    }
   ],
   "source": [
    "fig = plt.figure(figsize = (8,8))\n",
    "ax = fig.add_subplot(1,1,1)\n",
    "ax.scatter(lrp_output['total_dim'], lrp_output['fine_accuracy'])\n",
    "plt.yscale('log')\n",
    "plt.title('Hidden Layer Dimensions + Embedding Dimensions vs Fine-Grained Accuracy')\n",
    "plt.xlabel('sum of dimensions')\n",
    "plt.ylabel('log(Fine-Grained Accuracy)')\n",
    "fig.show()"
   ]
  },
  {
   "cell_type": "code",
   "execution_count": 38,
   "metadata": {},
   "outputs": [
    {
     "name": "stderr",
     "output_type": "stream",
     "text": [
      "<ipython-input-38-965fd48abb04>:4: MatplotlibDeprecationWarning: Adding an axes using the same arguments as a previous axes currently reuses the earlier instance.  In a future version, a new instance will always be created and returned.  Meanwhile, this warning can be suppressed, and the future behavior ensured, by passing a unique label to each axes instance.\n",
      "  ax1 = fig1.add_subplot(1,1,1)\n",
      "<ipython-input-38-965fd48abb04>:16: UserWarning: Matplotlib is currently using module://ipykernel.pylab.backend_inline, which is a non-GUI backend, so cannot show the figure.\n",
      "  fig1.show()\n",
      "<ipython-input-38-965fd48abb04>:17: UserWarning: Matplotlib is currently using module://ipykernel.pylab.backend_inline, which is a non-GUI backend, so cannot show the figure.\n",
      "  fig2.show()\n"
     ]
    },
    {
     "data": {
      "image/png": "[encoded data removed]",
      "text/plain": [
       "<Figure size 288x288 with 1 Axes>"
      ]
     },
     "metadata": {
      "needs_background": "light"
     },
     "output_type": "display_data"
    },
    {
     "data": {
      "image/png": "[encoded data removed]",
      "text/plain": [
       "<Figure size 288x288 with 1 Axes>"
      ]
     },
     "metadata": {
      "needs_background": "light"
     },
     "output_type": "display_data"
    }
   ],
   "source": [
    "fig1 = plt.figure(figsize = (4,4))\n",
    "plt.title('Dimensions vs Fine-Grained Accuracy')\n",
    "\n",
    "ax1 = fig1.add_subplot(1,1,1)\n",
    "ax1.scatter(lrp_output['hidden_dimensions'], lrp_output['fine_accuracy'])\n",
    "ax1.set_xlabel('hidden dimensions')\n",
    "ax1.set_ylabel('fine-grained accuracy')\n",
    "\n",
    "fig2 = plt.figure(figsize = (4,4))\n",
    "\n",
    "ax2 = fig2.add_subplot(1,1,1)\n",
    "ax2.scatter(lrp_output['embedding_dimensions'], lrp_output['fine_accuracy'])\n",
    "ax2.set_xlabel('embedding dimensions')\n",
    "ax2.set_ylabel('fine-grained accuracy')\n",
    "\n",
    "fig1.show()\n",
    "fig2.show()"
   ]
  },
  {
   "cell_type": "code",
   "execution_count": 14,
   "metadata": {},
   "outputs": [
    {
     "name": "stderr",
     "output_type": "stream",
     "text": [
      "<ipython-input-14-fe8743a7e439>:5: UserWarning: Matplotlib is currently using module://ipykernel.pylab.backend_inline, which is a non-GUI backend, so cannot show the figure.\n",
      "  fig.show()\n"
     ]
    },
    {
     "data": {
      "image/png": "[encoded data removed]",
      "text/plain": [
       "<Figure size 576x576 with 1 Axes>"
      ]
     },
     "metadata": {
      "needs_background": "light"
     },
     "output_type": "display_data"
    }
   ],
   "source": [
    "fig = plt.figure(figsize = (8,8))\n",
    "ax = fig.add_subplot(1,1,1)\n",
    "ax.scatter(lrp_output['total_dim'], lrp_output['coarse_accuracy'])\n",
    "plt.yscale('log')\n",
    "fig.show()"
   ]
  },
  {
   "cell_type": "code",
   "execution_count": 15,
   "metadata": {},
   "outputs": [
    {
     "name": "stderr",
     "output_type": "stream",
     "text": [
      "<ipython-input-15-441a60ece2bd>:5: UserWarning: Matplotlib is currently using module://ipykernel.pylab.backend_inline, which is a non-GUI backend, so cannot show the figure.\n",
      "  fig.show()\n"
     ]
    },
    {
     "data": {
      "image/png": "[encoded data removed]",
      "text/plain": [
       "<Figure size 576x576 with 1 Axes>"
      ]
     },
     "metadata": {
      "needs_background": "light"
     },
     "output_type": "display_data"
    }
   ],
   "source": [
    "fig = plt.figure(figsize = (8,8))\n",
    "ax = fig.add_subplot(1,1,1)\n",
    "ax.scatter(lrp_output['R_interesting']**2, lrp_output['fine_accuracy'])\n",
    "plt.yscale('log')\n",
    "fig.show()"
   ]
  },
  {
   "cell_type": "code",
   "execution_count": 16,
   "metadata": {},
   "outputs": [
    {
     "name": "stderr",
     "output_type": "stream",
     "text": [
      "<ipython-input-16-e399c6832e7e>:5: UserWarning: Matplotlib is currently using module://ipykernel.pylab.backend_inline, which is a non-GUI backend, so cannot show the figure.\n",
      "  fig.show()\n"
     ]
    },
    {
     "data": {
      "image/png": "[encoded data removed]",
      "text/plain": [
       "<Figure size 576x576 with 1 Axes>"
      ]
     },
     "metadata": {
      "needs_background": "light"
     },
     "output_type": "display_data"
    }
   ],
   "source": [
    "fig = plt.figure(figsize = (8,8))\n",
    "ax = fig.add_subplot(1,1,1)\n",
    "ax.scatter(lrp_output['R_though']**2, lrp_output['fine_accuracy'])\n",
    "plt.yscale('log')\n",
    "fig.show()"
   ]
  },
  {
   "cell_type": "code",
   "execution_count": 17,
   "metadata": {},
   "outputs": [
    {
     "name": "stderr",
     "output_type": "stream",
     "text": [
      "<ipython-input-17-4ed94e3f9478>:5: UserWarning: Matplotlib is currently using module://ipykernel.pylab.backend_inline, which is a non-GUI backend, so cannot show the figure.\n",
      "  fig.show()\n"
     ]
    },
    {
     "data": {
      "image/png": "[encoded data removed]",
      "text/plain": [
       "<Figure size 576x576 with 1 Axes>"
      ]
     },
     "metadata": {
      "needs_background": "light"
     },
     "output_type": "display_data"
    }
   ],
   "source": [
    "fig = plt.figure(figsize = (8,8))\n",
    "ax = fig.add_subplot(1,1,1)\n",
    "ax.scatter(lrp_output['R_hate']**2, lrp_output['fine_accuracy'])\n",
    "plt.yscale('log')\n",
    "fig.show()"
   ]
  },
  {
   "cell_type": "code",
   "execution_count": 18,
   "metadata": {},
   "outputs": [
    {
     "name": "stderr",
     "output_type": "stream",
     "text": [
      "<ipython-input-18-8d14c20610ab>:6: UserWarning: Matplotlib is currently using module://ipykernel.pylab.backend_inline, which is a non-GUI backend, so cannot show the figure.\n",
      "  fig.show()\n"
     ]
    },
    {
     "data": {
      "image/png": "[encoded data removed]",
      "text/plain": [
       "<Figure size 576x576 with 1 Axes>"
      ]
     },
     "metadata": {
      "needs_background": "light"
     },
     "output_type": "display_data"
    }
   ],
   "source": [
    "fig = plt.figure(figsize = (8,8))\n",
    "ax = fig.add_subplot(1,1,1)\n",
    "ax.scatter(lrp_output['R_interesting']**2, lrp_output['R_though']**2)\n",
    "plt.yscale('log')\n",
    "plt.xscale('log')\n",
    "fig.show()"
   ]
  },
  {
   "cell_type": "code",
   "execution_count": 19,
   "metadata": {},
   "outputs": [],
   "source": [
    "low_hidden = lrp_output[lrp_output['hidden_dimensions'] == 3]"
   ]
  },
  {
   "cell_type": "code",
   "execution_count": 20,
   "metadata": {},
   "outputs": [],
   "source": [
    "low_embedding = lrp_output[lrp_output['embedding_dimensions'] == 3]"
   ]
  },
  {
   "cell_type": "code",
   "execution_count": 21,
   "metadata": {},
   "outputs": [
    {
     "name": "stderr",
     "output_type": "stream",
     "text": [
      "<ipython-input-21-4718dce5a5b4>:5: UserWarning: Matplotlib is currently using module://ipykernel.pylab.backend_inline, which is a non-GUI backend, so cannot show the figure.\n",
      "  fig.show()\n"
     ]
    },
    {
     "data": {
      "image/png": "[encoded data removed]",
      "text/plain": [
       "<Figure size 576x576 with 1 Axes>"
      ]
     },
     "metadata": {
      "needs_background": "light"
     },
     "output_type": "display_data"
    }
   ],
   "source": [
    "fig = plt.figure(figsize = (8,8))\n",
    "ax = fig.add_subplot(1,1,1)\n",
    "ax.plot(low_embedding['hidden_dimensions'], low_embedding['coarse_accuracy'])\n",
    "ax.plot(low_hidden['embedding_dimensions'], low_hidden['coarse_accuracy'])\n",
    "fig.show()"
   ]
  },
  {
   "cell_type": "code",
   "execution_count": 22,
   "metadata": {},
   "outputs": [
    {
     "data": {
      "text/html": [
       "<span style=\"background-color:#0000ff\">i</span> <span style=\"background-color:#ff0101\">hate</span> <span style=\"background-color:#c0c0ff\">the</span> <span style=\"background-color:#dcdcff\">movie</span> <span style=\"background-color:#9090ff\">though</span> <span style=\"background-color:#b8b8ff\">the</span> <span style=\"background-color:#ceceff\">plot</span> <span style=\"background-color:#d2d2ff\">is</span> <span style=\"background-color:#ffb2b2\">interesting</span> <span style=\"background-color:#a2a2ff\">.</span> "
      ],
      "text/plain": [
       "<IPython.core.display.HTML object>"
      ]
     },
     "metadata": {},
     "output_type": "display_data"
    },
    {
     "data": {
      "text/html": [
       "<span style=\"background-color:#0e0eff\">i</span> <span style=\"background-color:#a8a8ff\">hate</span> <span style=\"background-color:#ffc3c3\">the</span> <span style=\"background-color:#d8d8ff\">movie</span> <span style=\"background-color:#9090ff\">though</span> <span style=\"background-color:#c0c0ff\">the</span> <span style=\"background-color:#c3c3ff\">plot</span> <span style=\"background-color:#cacaff\">is</span> <span style=\"background-color:#ff0000\">interesting</span> <span style=\"background-color:#5151ff\">.</span> "
      ],
      "text/plain": [
       "<IPython.core.display.HTML object>"
      ]
     },
     "metadata": {},
     "output_type": "display_data"
    },
    {
     "data": {
      "text/html": [
       "<span style=\"background-color:#5656ff\">i</span> <span style=\"background-color:#0000ff\">hate</span> <span style=\"background-color:#ff8686\">the</span> <span style=\"background-color:#fff8f8\">movie</span> <span style=\"background-color:#ff5050\">though</span> <span style=\"background-color:#9292ff\">the</span> <span style=\"background-color:#9a9aff\">plot</span> <span style=\"background-color:#c8c8ff\">is</span> <span style=\"background-color:#ff9292\">interesting</span> <span style=\"background-color:#aaaaff\">.</span> "
      ],
      "text/plain": [
       "<IPython.core.display.HTML object>"
      ]
     },
     "metadata": {},
     "output_type": "display_data"
    },
    {
     "data": {
      "text/html": [
       "<span style=\"background-color:#6c6cff\">i</span> <span style=\"background-color:#ffa6a6\">hate</span> <span style=\"background-color:#ffb0b0\">the</span> <span style=\"background-color:#dedeff\">movie</span> <span style=\"background-color:#7878ff\">though</span> <span style=\"background-color:#e3e3ff\">the</span> <span style=\"background-color:#ccccff\">plot</span> <span style=\"background-color:#dadaff\">is</span> <span style=\"background-color:#ff0000\">interesting</span> <span style=\"background-color:#6666ff\">.</span> "
      ],
      "text/plain": [
       "<IPython.core.display.HTML object>"
      ]
     },
     "metadata": {},
     "output_type": "display_data"
    },
    {
     "data": {
      "text/html": [
       "<span style=\"background-color:#eeeeff\">i</span> <span style=\"background-color:#ffc2c2\">hate</span> <span style=\"background-color:#e8e8ff\">the</span> <span style=\"background-color:#e2e2ff\">movie</span> <span style=\"background-color:#9e9eff\">though</span> <span style=\"background-color:#f2f2ff\">the</span> <span style=\"background-color:#7474ff\">plot</span> <span style=\"background-color:#f6f6ff\">is</span> <span style=\"background-color:#ff0000\">interesting</span> <span style=\"background-color:#fffefe\">.</span> "
      ],
      "text/plain": [
       "<IPython.core.display.HTML object>"
      ]
     },
     "metadata": {},
     "output_type": "display_data"
    },
    {
     "data": {
      "text/html": [
       "<span style=\"background-color:#dedeff\">i</span> <span style=\"background-color:#ff1111\">hate</span> <span style=\"background-color:#e3e3ff\">the</span> <span style=\"background-color:#fffefe\">movie</span> <span style=\"background-color:#aaaaff\">though</span> <span style=\"background-color:#e8e8ff\">the</span> <span style=\"background-color:#ffc8c8\">plot</span> <span style=\"background-color:#fefeff\">is</span> <span style=\"background-color:#0000ff\">interesting</span> <span style=\"background-color:#ccccff\">.</span> "
      ],
      "text/plain": [
       "<IPython.core.display.HTML object>"
      ]
     },
     "metadata": {},
     "output_type": "display_data"
    },
    {
     "data": {
      "text/html": [
       "<span style=\"background-color:#0000ff\">i</span> <span style=\"background-color:#ff2020\">hate</span> <span style=\"background-color:#f8f8ff\">the</span> <span style=\"background-color:#ffeeee\">movie</span> <span style=\"background-color:#ffeeee\">though</span> <span style=\"background-color:#c2c2ff\">the</span> <span style=\"background-color:#ffacac\">plot</span> <span style=\"background-color:#f8f8ff\">is</span> <span style=\"background-color:#7676ff\">interesting</span> <span style=\"background-color:#dadaff\">.</span> "
      ],
      "text/plain": [
       "<IPython.core.display.HTML object>"
      ]
     },
     "metadata": {},
     "output_type": "display_data"
    },
    {
     "data": {
      "text/html": [
       "<span style=\"background-color:#bebeff\">i</span> <span style=\"background-color:#fff0f0\">hate</span> <span style=\"background-color:#b3b3ff\">the</span> <span style=\"background-color:#ffdada\">movie</span> <span style=\"background-color:#5959ff\">though</span> <span style=\"background-color:#c2c2ff\">the</span> <span style=\"background-color:#ff5656\">plot</span> <span style=\"background-color:#e0e0ff\">is</span> <span style=\"background-color:#0000ff\">interesting</span> <span style=\"background-color:#d2d2ff\">.</span> "
      ],
      "text/plain": [
       "<IPython.core.display.HTML object>"
      ]
     },
     "metadata": {},
     "output_type": "display_data"
    },
    {
     "data": {
      "text/html": [
       "<span style=\"background-color:#0404ff\">i</span> <span style=\"background-color:#ff5959\">hate</span> <span style=\"background-color:#ffaeae\">the</span> <span style=\"background-color:#ffc0c0\">movie</span> <span style=\"background-color:#ff0808\">though</span> <span style=\"background-color:#ffecec\">the</span> <span style=\"background-color:#ff0000\">plot</span> <span style=\"background-color:#ffecec\">is</span> <span style=\"background-color:#9393ff\">interesting</span> <span style=\"background-color:#0808ff\">.</span> "
      ],
      "text/plain": [
       "<IPython.core.display.HTML object>"
      ]
     },
     "metadata": {},
     "output_type": "display_data"
    },
    {
     "data": {
      "text/html": [
       "<span style=\"background-color:#3e3eff\">i</span> <span style=\"background-color:#ff0000\">hate</span> <span style=\"background-color:#c6c6ff\">the</span> <span style=\"background-color:#fffafa\">movie</span> <span style=\"background-color:#ff5050\">though</span> <span style=\"background-color:#d0d0ff\">the</span> <span style=\"background-color:#fff6f6\">plot</span> <span style=\"background-color:#f6f6ff\">is</span> <span style=\"background-color:#d0d0ff\">interesting</span> <span style=\"background-color:#9696ff\">.</span> "
      ],
      "text/plain": [
       "<IPython.core.display.HTML object>"
      ]
     },
     "metadata": {},
     "output_type": "display_data"
    },
    {
     "data": {
      "text/html": [
       "<span style=\"background-color:#2e2eff\">i</span> <span style=\"background-color:#ff0000\">hate</span> <span style=\"background-color:#fff6f6\">the</span> <span style=\"background-color:#fefeff\">movie</span> <span style=\"background-color:#f6f6ff\">though</span> <span style=\"background-color:#fffcfc\">the</span> <span style=\"background-color:#ffacac\">plot</span> <span style=\"background-color:#fffefe\">is</span> <span style=\"background-color:#4c4cff\">interesting</span> <span style=\"background-color:#f3f3ff\">.</span> "
      ],
      "text/plain": [
       "<IPython.core.display.HTML object>"
      ]
     },
     "metadata": {},
     "output_type": "display_data"
    },
    {
     "data": {
      "text/html": [
       "<span style=\"background-color:#babaff\">i</span> <span style=\"background-color:#ff0000\">hate</span> <span style=\"background-color:#fff2f2\">the</span> <span style=\"background-color:#fff6f6\">movie</span> <span style=\"background-color:#dcdcff\">though</span> <span style=\"background-color:#f3f3ff\">the</span> <span style=\"background-color:#ffecec\">plot</span> <span style=\"background-color:#d0d0ff\">is</span> <span style=\"background-color:#a0a0ff\">interesting</span> <span style=\"background-color:#a6a6ff\">.</span> "
      ],
      "text/plain": [
       "<IPython.core.display.HTML object>"
      ]
     },
     "metadata": {},
     "output_type": "display_data"
    },
    {
     "data": {
      "text/html": [
       "<span style=\"background-color:#6464ff\">i</span> <span style=\"background-color:#ff5c5c\">hate</span> <span style=\"background-color:#fffafa\">the</span> <span style=\"background-color:#ffd0d0\">movie</span> <span style=\"background-color:#fff0f0\">though</span> <span style=\"background-color:#eeeeff\">the</span> <span style=\"background-color:#ff5151\">plot</span> <span style=\"background-color:#f0f0ff\">is</span> <span style=\"background-color:#0000ff\">interesting</span> <span style=\"background-color:#aaaaff\">.</span> "
      ],
      "text/plain": [
       "<IPython.core.display.HTML object>"
      ]
     },
     "metadata": {},
     "output_type": "display_data"
    },
    {
     "data": {
      "text/html": [
       "<span style=\"background-color:#6868ff\">i</span> <span style=\"background-color:#ff0000\">hate</span> <span style=\"background-color:#fefeff\">the</span> <span style=\"background-color:#ffe2e2\">movie</span> <span style=\"background-color:#ffb0b0\">though</span> <span style=\"background-color:#dcdcff\">the</span> <span style=\"background-color:#ff7070\">plot</span> <span style=\"background-color:#f6f6ff\">is</span> <span style=\"background-color:#8080ff\">interesting</span> <span style=\"background-color:#a0a0ff\">.</span> "
      ],
      "text/plain": [
       "<IPython.core.display.HTML object>"
      ]
     },
     "metadata": {},
     "output_type": "display_data"
    },
    {
     "data": {
      "text/html": [
       "<span style=\"background-color:#ceceff\">i</span> <span style=\"background-color:#ff0000\">hate</span> <span style=\"background-color:#fff6f6\">the</span> <span style=\"background-color:#e8e8ff\">movie</span> <span style=\"background-color:#f0f0ff\">though</span> <span style=\"background-color:#ececff\">the</span> <span style=\"background-color:#ffdada\">plot</span> <span style=\"background-color:#e2e2ff\">is</span> <span style=\"background-color:#7878ff\">interesting</span> <span style=\"background-color:#a6a6ff\">.</span> "
      ],
      "text/plain": [
       "<IPython.core.display.HTML object>"
      ]
     },
     "metadata": {},
     "output_type": "display_data"
    },
    {
     "data": {
      "text/html": [
       "<span style=\"background-color:#0000ff\">i</span> <span style=\"background-color:#ff1c1c\">hate</span> <span style=\"background-color:#ffcccc\">the</span> <span style=\"background-color:#fafaff\">movie</span> <span style=\"background-color:#ffd3d3\">though</span> <span style=\"background-color:#f0f0ff\">the</span> <span style=\"background-color:#ffc2c2\">plot</span> <span style=\"background-color:#f2f2ff\">is</span> <span style=\"background-color:#6868ff\">interesting</span> <span style=\"background-color:#b8b8ff\">.</span> "
      ],
      "text/plain": [
       "<IPython.core.display.HTML object>"
      ]
     },
     "metadata": {},
     "output_type": "display_data"
    },
    {
     "data": {
      "text/html": [
       "<span style=\"background-color:#0000ff\">i</span> <span style=\"background-color:#9e9eff\">hate</span> <span style=\"background-color:#ffe0e0\">the</span> <span style=\"background-color:#dadaff\">movie</span> <span style=\"background-color:#ffdcdc\">though</span> <span style=\"background-color:#ffcccc\">the</span> <span style=\"background-color:#e3e3ff\">plot</span> <span style=\"background-color:#e3e3ff\">is</span> <span style=\"background-color:#ff8080\">interesting</span> <span style=\"background-color:#fff0f0\">.</span> "
      ],
      "text/plain": [
       "<IPython.core.display.HTML object>"
      ]
     },
     "metadata": {},
     "output_type": "display_data"
    },
    {
     "data": {
      "text/html": [
       "<span style=\"background-color:#babaff\">i</span> <span style=\"background-color:#ff3939\">hate</span> <span style=\"background-color:#f2f2ff\">the</span> <span style=\"background-color:#ffdcdc\">movie</span> <span style=\"background-color:#c8c8ff\">though</span> <span style=\"background-color:#e6e6ff\">the</span> <span style=\"background-color:#ffa8a8\">plot</span> <span style=\"background-color:#eaeaff\">is</span> <span style=\"background-color:#0000ff\">interesting</span> <span style=\"background-color:#e3e3ff\">.</span> "
      ],
      "text/plain": [
       "<IPython.core.display.HTML object>"
      ]
     },
     "metadata": {},
     "output_type": "display_data"
    },
    {
     "data": {
      "text/html": [
       "<span style=\"background-color:#8e8eff\">i</span> <span style=\"background-color:#ff4949\">hate</span> <span style=\"background-color:#eaeaff\">the</span> <span style=\"background-color:#ffe4e4\">movie</span> <span style=\"background-color:#fafaff\">though</span> <span style=\"background-color:#fafaff\">the</span> <span style=\"background-color:#ff7676\">plot</span> <span style=\"background-color:#fafaff\">is</span> <span style=\"background-color:#0000ff\">interesting</span> <span style=\"background-color:#b2b2ff\">.</span> "
      ],
      "text/plain": [
       "<IPython.core.display.HTML object>"
      ]
     },
     "metadata": {},
     "output_type": "display_data"
    },
    {
     "data": {
      "text/html": [
       "<span style=\"background-color:#a2a2ff\">i</span> <span style=\"background-color:#ff0000\">hate</span> <span style=\"background-color:#e3e3ff\">the</span> <span style=\"background-color:#fffcfc\">movie</span> <span style=\"background-color:#f3f3ff\">though</span> <span style=\"background-color:#fffafa\">the</span> <span style=\"background-color:#ffa3a3\">plot</span> <span style=\"background-color:#ceceff\">is</span> <span style=\"background-color:#2626ff\">interesting</span> <span style=\"background-color:#ffe6e6\">.</span> "
      ],
      "text/plain": [
       "<IPython.core.display.HTML object>"
      ]
     },
     "metadata": {},
     "output_type": "display_data"
    },
    {
     "data": {
      "text/html": [
       "<span style=\"background-color:#b6b6ff\">i</span> <span style=\"background-color:#ff3838\">hate</span> <span style=\"background-color:#ffb8b8\">the</span> <span style=\"background-color:#ffe2e2\">movie</span> <span style=\"background-color:#ffd0d0\">though</span> <span style=\"background-color:#ffc6c6\">the</span> <span style=\"background-color:#ff7e7e\">plot</span> <span style=\"background-color:#fafaff\">is</span> <span style=\"background-color:#0000ff\">interesting</span> <span style=\"background-color:#f3f3ff\">.</span> "
      ],
      "text/plain": [
       "<IPython.core.display.HTML object>"
      ]
     },
     "metadata": {},
     "output_type": "display_data"
    },
    {
     "data": {
      "text/html": [
       "<span style=\"background-color:#5656ff\">i</span> <span style=\"background-color:#ff4040\">hate</span> <span style=\"background-color:#fefeff\">the</span> <span style=\"background-color:#e0e0ff\">movie</span> <span style=\"background-color:#ffe6e6\">though</span> <span style=\"background-color:#dcdcff\">the</span> <span style=\"background-color:#ffa0a0\">plot</span> <span style=\"background-color:#c0c0ff\">is</span> <span style=\"background-color:#0000ff\">interesting</span> <span style=\"background-color:#aaaaff\">.</span> "
      ],
      "text/plain": [
       "<IPython.core.display.HTML object>"
      ]
     },
     "metadata": {},
     "output_type": "display_data"
    },
    {
     "data": {
      "text/html": [
       "<span style=\"background-color:#c2c2ff\">i</span> <span style=\"background-color:#ff0000\">hate</span> <span style=\"background-color:#ffecec\">the</span> <span style=\"background-color:#ffc8c8\">movie</span> <span style=\"background-color:#8383ff\">though</span> <span style=\"background-color:#ffeaea\">the</span> <span style=\"background-color:#ffb3b3\">plot</span> <span style=\"background-color:#ffdede\">is</span> <span style=\"background-color:#9090ff\">interesting</span> <span style=\"background-color:#babaff\">.</span> "
      ],
      "text/plain": [
       "<IPython.core.display.HTML object>"
      ]
     },
     "metadata": {},
     "output_type": "display_data"
    },
    {
     "data": {
      "text/html": [
       "<span style=\"background-color:#9393ff\">i</span> <span style=\"background-color:#ffd0d0\">hate</span> <span style=\"background-color:#fff6f6\">the</span> <span style=\"background-color:#ffcccc\">movie</span> <span style=\"background-color:#ffe8e8\">though</span> <span style=\"background-color:#ffeeee\">the</span> <span style=\"background-color:#ff9393\">plot</span> <span style=\"background-color:#f3f3ff\">is</span> <span style=\"background-color:#0000ff\">interesting</span> <span style=\"background-color:#c3c3ff\">.</span> "
      ],
      "text/plain": [
       "<IPython.core.display.HTML object>"
      ]
     },
     "metadata": {},
     "output_type": "display_data"
    },
    {
     "data": {
      "text/html": [
       "<span style=\"background-color:#c3c3ff\">i</span> <span style=\"background-color:#ff2020\">hate</span> <span style=\"background-color:#dedeff\">the</span> <span style=\"background-color:#ffe0e0\">movie</span> <span style=\"background-color:#eaeaff\">though</span> <span style=\"background-color:#fefeff\">the</span> <span style=\"background-color:#ff7474\">plot</span> <span style=\"background-color:#f6f6ff\">is</span> <span style=\"background-color:#0000ff\">interesting</span> <span style=\"background-color:#dedeff\">.</span> "
      ],
      "text/plain": [
       "<IPython.core.display.HTML object>"
      ]
     },
     "metadata": {},
     "output_type": "display_data"
    },
    {
     "data": {
      "text/html": [
       "<span style=\"background-color:#ffe6e6\">i</span> <span style=\"background-color:#6868ff\">hate</span> <span style=\"background-color:#ffe4e4\">the</span> <span style=\"background-color:#fffcfc\">movie</span> <span style=\"background-color:#ffd6d6\">though</span> <span style=\"background-color:#ffeaea\">the</span> <span style=\"background-color:#c8c8ff\">plot</span> <span style=\"background-color:#fff4f4\">is</span> <span style=\"background-color:#ff0000\">interesting</span> <span style=\"background-color:#d3d3ff\">.</span> "
      ],
      "text/plain": [
       "<IPython.core.display.HTML object>"
      ]
     },
     "metadata": {},
     "output_type": "display_data"
    },
    {
     "data": {
      "text/html": [
       "<span style=\"background-color:#f8f8ff\">i</span> <span style=\"background-color:#ff0000\">hate</span> <span style=\"background-color:#fafaff\">the</span> <span style=\"background-color:#fffafa\">movie</span> <span style=\"background-color:#d8d8ff\">though</span> <span style=\"background-color:#fefeff\">the</span> <span style=\"background-color:#ffcccc\">plot</span> <span style=\"background-color:#fffefe\">is</span> <span style=\"background-color:#7676ff\">interesting</span> <span style=\"background-color:#fff4f4\">.</span> "
      ],
      "text/plain": [
       "<IPython.core.display.HTML object>"
      ]
     },
     "metadata": {},
     "output_type": "display_data"
    },
    {
     "data": {
      "text/html": [
       "<span style=\"background-color:#a2a2ff\">i</span> <span style=\"background-color:#ff0000\">hate</span> <span style=\"background-color:#f3f3ff\">the</span> <span style=\"background-color:#ffe0e0\">movie</span> <span style=\"background-color:#ffdede\">though</span> <span style=\"background-color:#f3f3ff\">the</span> <span style=\"background-color:#ff3030\">plot</span> <span style=\"background-color:#eeeeff\">is</span> <span style=\"background-color:#2020ff\">interesting</span> <span style=\"background-color:#b6b6ff\">.</span> "
      ],
      "text/plain": [
       "<IPython.core.display.HTML object>"
      ]
     },
     "metadata": {},
     "output_type": "display_data"
    },
    {
     "data": {
      "text/html": [
       "<span style=\"background-color:#6060ff\">i</span> <span style=\"background-color:#ff0000\">hate</span> <span style=\"background-color:#aaaaff\">the</span> <span style=\"background-color:#ffd8d8\">movie</span> <span style=\"background-color:#d0d0ff\">though</span> <span style=\"background-color:#e2e2ff\">the</span> <span style=\"background-color:#ff7070\">plot</span> <span style=\"background-color:#f3f3ff\">is</span> <span style=\"background-color:#0606ff\">interesting</span> <span style=\"background-color:#a6a6ff\">.</span> "
      ],
      "text/plain": [
       "<IPython.core.display.HTML object>"
      ]
     },
     "metadata": {},
     "output_type": "display_data"
    },
    {
     "data": {
      "text/html": [
       "<span style=\"background-color:#f8f8ff\">i</span> <span style=\"background-color:#ff0e0e\">hate</span> <span style=\"background-color:#dadaff\">the</span> <span style=\"background-color:#ff9e9e\">movie</span> <span style=\"background-color:#fff4f4\">though</span> <span style=\"background-color:#e6e6ff\">the</span> <span style=\"background-color:#ff4040\">plot</span> <span style=\"background-color:#fcfcff\">is</span> <span style=\"background-color:#0000ff\">interesting</span> <span style=\"background-color:#ffeeee\">.</span> "
      ],
      "text/plain": [
       "<IPython.core.display.HTML object>"
      ]
     },
     "metadata": {},
     "output_type": "display_data"
    },
    {
     "data": {
      "text/html": [
       "<span style=\"background-color:#0404ff\">i</span> <span style=\"background-color:#ff3636\">hate</span> <span style=\"background-color:#b0b0ff\">the</span> <span style=\"background-color:#f8f8ff\">movie</span> <span style=\"background-color:#bcbcff\">though</span> <span style=\"background-color:#e6e6ff\">the</span> <span style=\"background-color:#ffa0a0\">plot</span> <span style=\"background-color:#dcdcff\">is</span> <span style=\"background-color:#0000ff\">interesting</span> <span style=\"background-color:#cacaff\">.</span> "
      ],
      "text/plain": [
       "<IPython.core.display.HTML object>"
      ]
     },
     "metadata": {},
     "output_type": "display_data"
    },
    {
     "data": {
      "text/html": [
       "<span style=\"background-color:#7c7cff\">i</span> <span style=\"background-color:#ffa0a0\">hate</span> <span style=\"background-color:#fffafa\">the</span> <span style=\"background-color:#fffcfc\">movie</span> <span style=\"background-color:#ffdada\">though</span> <span style=\"background-color:#fcfcff\">the</span> <span style=\"background-color:#ff9393\">plot</span> <span style=\"background-color:#e0e0ff\">is</span> <span style=\"background-color:#0000ff\">interesting</span> <span style=\"background-color:#f3f3ff\">.</span> "
      ],
      "text/plain": [
       "<IPython.core.display.HTML object>"
      ]
     },
     "metadata": {},
     "output_type": "display_data"
    },
    {
     "data": {
      "text/html": [
       "<span style=\"background-color:#e6e6ff\">i</span> <span style=\"background-color:#ff0606\">hate</span> <span style=\"background-color:#fff6f6\">the</span> <span style=\"background-color:#ffecec\">movie</span> <span style=\"background-color:#ffdcdc\">though</span> <span style=\"background-color:#ffe2e2\">the</span> <span style=\"background-color:#ff8282\">plot</span> <span style=\"background-color:#f6f6ff\">is</span> <span style=\"background-color:#0000ff\">interesting</span> <span style=\"background-color:#a8a8ff\">.</span> "
      ],
      "text/plain": [
       "<IPython.core.display.HTML object>"
      ]
     },
     "metadata": {},
     "output_type": "display_data"
    },
    {
     "data": {
      "text/html": [
       "<span style=\"background-color:#b2b2ff\">i</span> <span style=\"background-color:#ff4141\">hate</span> <span style=\"background-color:#fffcfc\">the</span> <span style=\"background-color:#ffdede\">movie</span> <span style=\"background-color:#bebeff\">though</span> <span style=\"background-color:#fffcfc\">the</span> <span style=\"background-color:#ffc8c8\">plot</span> <span style=\"background-color:#ececff\">is</span> <span style=\"background-color:#0000ff\">interesting</span> <span style=\"background-color:#fff4f4\">.</span> "
      ],
      "text/plain": [
       "<IPython.core.display.HTML object>"
      ]
     },
     "metadata": {},
     "output_type": "display_data"
    },
    {
     "data": {
      "text/html": [
       "<span style=\"background-color:#7676ff\">i</span> <span style=\"background-color:#ff4141\">hate</span> <span style=\"background-color:#dadaff\">the</span> <span style=\"background-color:#ffeaea\">movie</span> <span style=\"background-color:#f2f2ff\">though</span> <span style=\"background-color:#d8d8ff\">the</span> <span style=\"background-color:#ff9696\">plot</span> <span style=\"background-color:#c6c6ff\">is</span> <span style=\"background-color:#0000ff\">interesting</span> <span style=\"background-color:#5858ff\">.</span> "
      ],
      "text/plain": [
       "<IPython.core.display.HTML object>"
      ]
     },
     "metadata": {},
     "output_type": "display_data"
    },
    {
     "data": {
      "text/html": [
       "<span style=\"background-color:#4141ff\">i</span> <span style=\"background-color:#ff6060\">hate</span> <span style=\"background-color:#fffcfc\">the</span> <span style=\"background-color:#fff4f4\">movie</span> <span style=\"background-color:#ffe2e2\">though</span> <span style=\"background-color:#fff4f4\">the</span> <span style=\"background-color:#ff8e8e\">plot</span> <span style=\"background-color:#eeeeff\">is</span> <span style=\"background-color:#0000ff\">interesting</span> <span style=\"background-color:#b3b3ff\">.</span> "
      ],
      "text/plain": [
       "<IPython.core.display.HTML object>"
      ]
     },
     "metadata": {},
     "output_type": "display_data"
    },
    {
     "data": {
      "text/html": [
       "<span style=\"background-color:#ffe6e6\">i</span> <span style=\"background-color:#5656ff\">hate</span> <span style=\"background-color:#ff9393\">the</span> <span style=\"background-color:#eaeaff\">movie</span> <span style=\"background-color:#ffc8c8\">though</span> <span style=\"background-color:#ffc6c6\">the</span> <span style=\"background-color:#c6c6ff\">plot</span> <span style=\"background-color:#ffb2b2\">is</span> <span style=\"background-color:#ff0000\">interesting</span> <span style=\"background-color:#ffdcdc\">.</span> "
      ],
      "text/plain": [
       "<IPython.core.display.HTML object>"
      ]
     },
     "metadata": {},
     "output_type": "display_data"
    },
    {
     "data": {
      "text/html": [
       "<span style=\"background-color:#8e8eff\">i</span> <span style=\"background-color:#ffc6c6\">hate</span> <span style=\"background-color:#fff6f6\">the</span> <span style=\"background-color:#f6f6ff\">movie</span> <span style=\"background-color:#ffa2a2\">though</span> <span style=\"background-color:#fffefe\">the</span> <span style=\"background-color:#ffacac\">plot</span> <span style=\"background-color:#eeeeff\">is</span> <span style=\"background-color:#0000ff\">interesting</span> <span style=\"background-color:#bcbcff\">.</span> "
      ],
      "text/plain": [
       "<IPython.core.display.HTML object>"
      ]
     },
     "metadata": {},
     "output_type": "display_data"
    },
    {
     "data": {
      "text/html": [
       "<span style=\"background-color:#3030ff\">i</span> <span style=\"background-color:#ff3838\">hate</span> <span style=\"background-color:#fefeff\">the</span> <span style=\"background-color:#e6e6ff\">movie</span> <span style=\"background-color:#ffd6d6\">though</span> <span style=\"background-color:#d6d6ff\">the</span> <span style=\"background-color:#ffaeae\">plot</span> <span style=\"background-color:#dedeff\">is</span> <span style=\"background-color:#0000ff\">interesting</span> <span style=\"background-color:#8e8eff\">.</span> "
      ],
      "text/plain": [
       "<IPython.core.display.HTML object>"
      ]
     },
     "metadata": {},
     "output_type": "display_data"
    },
    {
     "data": {
      "text/html": [
       "<span style=\"background-color:#f8f8ff\">i</span> <span style=\"background-color:#ff5454\">hate</span> <span style=\"background-color:#f0f0ff\">the</span> <span style=\"background-color:#ffd8d8\">movie</span> <span style=\"background-color:#e0e0ff\">though</span> <span style=\"background-color:#eaeaff\">the</span> <span style=\"background-color:#ffa8a8\">plot</span> <span style=\"background-color:#e6e6ff\">is</span> <span style=\"background-color:#0000ff\">interesting</span> <span style=\"background-color:#dedeff\">.</span> "
      ],
      "text/plain": [
       "<IPython.core.display.HTML object>"
      ]
     },
     "metadata": {},
     "output_type": "display_data"
    },
    {
     "data": {
      "text/html": [
       "<span style=\"background-color:#aaaaff\">i</span> <span style=\"background-color:#ff6e6e\">hate</span> <span style=\"background-color:#ffeaea\">the</span> <span style=\"background-color:#ffe6e6\">movie</span> <span style=\"background-color:#ff8888\">though</span> <span style=\"background-color:#ffdcdc\">the</span> <span style=\"background-color:#ff6666\">plot</span> <span style=\"background-color:#f3f3ff\">is</span> <span style=\"background-color:#0000ff\">interesting</span> <span style=\"background-color:#9c9cff\">.</span> "
      ],
      "text/plain": [
       "<IPython.core.display.HTML object>"
      ]
     },
     "metadata": {},
     "output_type": "display_data"
    },
    {
     "data": {
      "text/html": [
       "<span style=\"background-color:#6e6eff\">i</span> <span style=\"background-color:#ff2828\">hate</span> <span style=\"background-color:#ffe6e6\">the</span> <span style=\"background-color:#ffeeee\">movie</span> <span style=\"background-color:#ffaeae\">though</span> <span style=\"background-color:#fff6f6\">the</span> <span style=\"background-color:#ffaeae\">plot</span> <span style=\"background-color:#d0d0ff\">is</span> <span style=\"background-color:#0000ff\">interesting</span> <span style=\"background-color:#c2c2ff\">.</span> "
      ],
      "text/plain": [
       "<IPython.core.display.HTML object>"
      ]
     },
     "metadata": {},
     "output_type": "display_data"
    },
    {
     "data": {
      "text/html": [
       "<span style=\"background-color:#ececff\">i</span> <span style=\"background-color:#fff8f8\">hate</span> <span style=\"background-color:#ffdcdc\">the</span> <span style=\"background-color:#fffafa\">movie</span> <span style=\"background-color:#ececff\">though</span> <span style=\"background-color:#fff0f0\">the</span> <span style=\"background-color:#ccccff\">plot</span> <span style=\"background-color:#fff8f8\">is</span> <span style=\"background-color:#ff0000\">interesting</span> <span style=\"background-color:#f3f3ff\">.</span> "
      ],
      "text/plain": [
       "<IPython.core.display.HTML object>"
      ]
     },
     "metadata": {},
     "output_type": "display_data"
    },
    {
     "data": {
      "text/html": [
       "<span style=\"background-color:#9393ff\">i</span> <span style=\"background-color:#ff8686\">hate</span> <span style=\"background-color:#fff6f6\">the</span> <span style=\"background-color:#fffefe\">movie</span> <span style=\"background-color:#ffb6b6\">though</span> <span style=\"background-color:#fff4f4\">the</span> <span style=\"background-color:#ffa2a2\">plot</span> <span style=\"background-color:#e6e6ff\">is</span> <span style=\"background-color:#0000ff\">interesting</span> <span style=\"background-color:#d0d0ff\">.</span> "
      ],
      "text/plain": [
       "<IPython.core.display.HTML object>"
      ]
     },
     "metadata": {},
     "output_type": "display_data"
    },
    {
     "data": {
      "text/html": [
       "<span style=\"background-color:#bcbcff\">i</span> <span style=\"background-color:#ff1111\">hate</span> <span style=\"background-color:#eeeeff\">the</span> <span style=\"background-color:#ffdcdc\">movie</span> <span style=\"background-color:#ffdada\">though</span> <span style=\"background-color:#f3f3ff\">the</span> <span style=\"background-color:#ffa2a2\">plot</span> <span style=\"background-color:#e6e6ff\">is</span> <span style=\"background-color:#0000ff\">interesting</span> <span style=\"background-color:#f6f6ff\">.</span> "
      ],
      "text/plain": [
       "<IPython.core.display.HTML object>"
      ]
     },
     "metadata": {},
     "output_type": "display_data"
    },
    {
     "data": {
      "text/html": [
       "<span style=\"background-color:#b6b6ff\">i</span> <span style=\"background-color:#ff0000\">hate</span> <span style=\"background-color:#dadaff\">the</span> <span style=\"background-color:#ffdcdc\">movie</span> <span style=\"background-color:#c3c3ff\">though</span> <span style=\"background-color:#e6e6ff\">the</span> <span style=\"background-color:#ffaeae\">plot</span> <span style=\"background-color:#f0f0ff\">is</span> <span style=\"background-color:#5858ff\">interesting</span> <span style=\"background-color:#e3e3ff\">.</span> "
      ],
      "text/plain": [
       "<IPython.core.display.HTML object>"
      ]
     },
     "metadata": {},
     "output_type": "display_data"
    },
    {
     "data": {
      "text/html": [
       "<span style=\"background-color:#7e7eff\">i</span> <span style=\"background-color:#ff0000\">hate</span> <span style=\"background-color:#dadaff\">the</span> <span style=\"background-color:#ffcccc\">movie</span> <span style=\"background-color:#f6f6ff\">though</span> <span style=\"background-color:#f8f8ff\">the</span> <span style=\"background-color:#ff9e9e\">plot</span> <span style=\"background-color:#d3d3ff\">is</span> <span style=\"background-color:#1c1cff\">interesting</span> <span style=\"background-color:#9c9cff\">.</span> "
      ],
      "text/plain": [
       "<IPython.core.display.HTML object>"
      ]
     },
     "metadata": {},
     "output_type": "display_data"
    },
    {
     "data": {
      "text/html": [
       "<span style=\"background-color:#7171ff\">i</span> <span style=\"background-color:#ff3636\">hate</span> <span style=\"background-color:#f3f3ff\">the</span> <span style=\"background-color:#fefeff\">movie</span> <span style=\"background-color:#ffa0a0\">though</span> <span style=\"background-color:#eeeeff\">the</span> <span style=\"background-color:#ffa6a6\">plot</span> <span style=\"background-color:#e0e0ff\">is</span> <span style=\"background-color:#0000ff\">interesting</span> <span style=\"background-color:#babaff\">.</span> "
      ],
      "text/plain": [
       "<IPython.core.display.HTML object>"
      ]
     },
     "metadata": {},
     "output_type": "display_data"
    },
    {
     "data": {
      "text/html": [
       "<span style=\"background-color:#dadaff\">i</span> <span style=\"background-color:#ff4e4e\">hate</span> <span style=\"background-color:#fefeff\">the</span> <span style=\"background-color:#ffbcbc\">movie</span> <span style=\"background-color:#f6f6ff\">though</span> <span style=\"background-color:#fff8f8\">the</span> <span style=\"background-color:#ff9696\">plot</span> <span style=\"background-color:#dadaff\">is</span> <span style=\"background-color:#0000ff\">interesting</span> <span style=\"background-color:#ffdede\">.</span> "
      ],
      "text/plain": [
       "<IPython.core.display.HTML object>"
      ]
     },
     "metadata": {},
     "output_type": "display_data"
    }
   ],
   "source": [
    "for sentence in lrp_output.sort_values(by=['fine_accuracy'])['heatmap_html']:\n",
    "    display(HTML(sentence))"
   ]
  },
  {
   "cell_type": "code",
   "execution_count": 23,
   "metadata": {},
   "outputs": [
    {
     "data": {
      "text/html": [
       "<div>\n",
       "<style scoped>\n",
       "    .dataframe tbody tr th:only-of-type {\n",
       "        vertical-align: middle;\n",
       "    }\n",
       "\n",
       "    .dataframe tbody tr th {\n",
       "        vertical-align: top;\n",
       "    }\n",
       "\n",
       "    .dataframe thead th {\n",
       "        text-align: right;\n",
       "    }\n",
       "</style>\n",
       "<table border=\"1\" class=\"dataframe\">\n",
       "  <thead>\n",
       "    <tr style=\"text-align: right;\">\n",
       "      <th></th>\n",
       "      <th>hidden_dimensions</th>\n",
       "      <th>embedding_dimensions</th>\n",
       "      <th>fine_accuracy</th>\n",
       "      <th>coarse_accuracy</th>\n",
       "      <th>pred_0</th>\n",
       "      <th>pred_1</th>\n",
       "      <th>pred_2</th>\n",
       "      <th>pred_3</th>\n",
       "      <th>pred_4</th>\n",
       "      <th>pred_class</th>\n",
       "      <th>...</th>\n",
       "      <th>R_movie</th>\n",
       "      <th>R_though</th>\n",
       "      <th>R_the2</th>\n",
       "      <th>R_plot</th>\n",
       "      <th>R_is</th>\n",
       "      <th>R_interesting</th>\n",
       "      <th>R_period</th>\n",
       "      <th>heatmap_html</th>\n",
       "      <th>R_though_pct</th>\n",
       "      <th>total_dim</th>\n",
       "    </tr>\n",
       "  </thead>\n",
       "  <tbody>\n",
       "    <tr>\n",
       "      <th>2</th>\n",
       "      <td>3</td>\n",
       "      <td>5</td>\n",
       "      <td>0.2815</td>\n",
       "      <td>0.518204</td>\n",
       "      <td>-0.404692</td>\n",
       "      <td>0.363967</td>\n",
       "      <td>-0.565312</td>\n",
       "      <td>0.502987</td>\n",
       "      <td>-0.172350</td>\n",
       "      <td>3</td>\n",
       "      <td>...</td>\n",
       "      <td>-0.08</td>\n",
       "      <td>-0.27</td>\n",
       "      <td>-0.17</td>\n",
       "      <td>-0.12</td>\n",
       "      <td>-0.11</td>\n",
       "      <td>0.19</td>\n",
       "      <td>-0.22</td>\n",
       "      <td>&lt;span style=\"background-color:#0000ff\"&gt;i&lt;/span...</td>\n",
       "      <td>0.073943</td>\n",
       "      <td>8</td>\n",
       "    </tr>\n",
       "    <tr>\n",
       "      <th>7</th>\n",
       "      <td>4</td>\n",
       "      <td>3</td>\n",
       "      <td>0.2825</td>\n",
       "      <td>0.527913</td>\n",
       "      <td>-0.314639</td>\n",
       "      <td>0.068187</td>\n",
       "      <td>-0.615212</td>\n",
       "      <td>0.885441</td>\n",
       "      <td>0.272877</td>\n",
       "      <td>3</td>\n",
       "      <td>...</td>\n",
       "      <td>-0.07</td>\n",
       "      <td>-0.19</td>\n",
       "      <td>-0.11</td>\n",
       "      <td>-0.10</td>\n",
       "      <td>-0.09</td>\n",
       "      <td>0.44</td>\n",
       "      <td>-0.30</td>\n",
       "      <td>&lt;span style=\"background-color:#0e0eff\"&gt;i&lt;/span...</td>\n",
       "      <td>0.064998</td>\n",
       "      <td>7</td>\n",
       "    </tr>\n",
       "    <tr>\n",
       "      <th>0</th>\n",
       "      <td>3</td>\n",
       "      <td>3</td>\n",
       "      <td>0.3025</td>\n",
       "      <td>0.549757</td>\n",
       "      <td>0.089227</td>\n",
       "      <td>0.492903</td>\n",
       "      <td>-1.018312</td>\n",
       "      <td>1.168334</td>\n",
       "      <td>0.899401</td>\n",
       "      <td>3</td>\n",
       "      <td>...</td>\n",
       "      <td>0.01</td>\n",
       "      <td>0.30</td>\n",
       "      <td>-0.19</td>\n",
       "      <td>-0.18</td>\n",
       "      <td>-0.10</td>\n",
       "      <td>0.19</td>\n",
       "      <td>-0.15</td>\n",
       "      <td>&lt;span style=\"background-color:#5656ff\"&gt;i&lt;/span...</td>\n",
       "      <td>0.161319</td>\n",
       "      <td>6</td>\n",
       "    </tr>\n",
       "    <tr>\n",
       "      <th>1</th>\n",
       "      <td>3</td>\n",
       "      <td>4</td>\n",
       "      <td>0.3635</td>\n",
       "      <td>0.686893</td>\n",
       "      <td>-0.815323</td>\n",
       "      <td>0.228068</td>\n",
       "      <td>-0.054365</td>\n",
       "      <td>0.583400</td>\n",
       "      <td>-0.755622</td>\n",
       "      <td>3</td>\n",
       "      <td>...</td>\n",
       "      <td>-0.08</td>\n",
       "      <td>-0.33</td>\n",
       "      <td>-0.07</td>\n",
       "      <td>-0.13</td>\n",
       "      <td>-0.09</td>\n",
       "      <td>0.63</td>\n",
       "      <td>-0.38</td>\n",
       "      <td>&lt;span style=\"background-color:#6c6cff\"&gt;i&lt;/span...</td>\n",
       "      <td>0.120398</td>\n",
       "      <td>7</td>\n",
       "    </tr>\n",
       "    <tr>\n",
       "      <th>8</th>\n",
       "      <td>4</td>\n",
       "      <td>4</td>\n",
       "      <td>0.3900</td>\n",
       "      <td>0.759709</td>\n",
       "      <td>-0.216039</td>\n",
       "      <td>0.327693</td>\n",
       "      <td>0.188046</td>\n",
       "      <td>0.416817</td>\n",
       "      <td>-0.798839</td>\n",
       "      <td>3</td>\n",
       "      <td>...</td>\n",
       "      <td>-0.09</td>\n",
       "      <td>-0.32</td>\n",
       "      <td>-0.04</td>\n",
       "      <td>-0.45</td>\n",
       "      <td>-0.03</td>\n",
       "      <td>0.83</td>\n",
       "      <td>0.00</td>\n",
       "      <td>&lt;span style=\"background-color:#eeeeff\"&gt;i&lt;/span...</td>\n",
       "      <td>0.097719</td>\n",
       "      <td>8</td>\n",
       "    </tr>\n",
       "    <tr>\n",
       "      <th>14</th>\n",
       "      <td>5</td>\n",
       "      <td>3</td>\n",
       "      <td>0.4110</td>\n",
       "      <td>0.773665</td>\n",
       "      <td>-0.280760</td>\n",
       "      <td>0.788724</td>\n",
       "      <td>-0.043454</td>\n",
       "      <td>-0.351614</td>\n",
       "      <td>-1.829863</td>\n",
       "      <td>1</td>\n",
       "      <td>...</td>\n",
       "      <td>0.00</td>\n",
       "      <td>-0.26</td>\n",
       "      <td>-0.07</td>\n",
       "      <td>0.17</td>\n",
       "      <td>-0.00</td>\n",
       "      <td>-0.77</td>\n",
       "      <td>-0.15</td>\n",
       "      <td>&lt;span style=\"background-color:#dedeff\"&gt;i&lt;/span...</td>\n",
       "      <td>0.054635</td>\n",
       "      <td>8</td>\n",
       "    </tr>\n",
       "    <tr>\n",
       "      <th>9</th>\n",
       "      <td>4</td>\n",
       "      <td>5</td>\n",
       "      <td>0.4110</td>\n",
       "      <td>0.782160</td>\n",
       "      <td>0.501103</td>\n",
       "      <td>1.468885</td>\n",
       "      <td>0.077201</td>\n",
       "      <td>-0.658486</td>\n",
       "      <td>-2.750711</td>\n",
       "      <td>1</td>\n",
       "      <td>...</td>\n",
       "      <td>0.08</td>\n",
       "      <td>0.09</td>\n",
       "      <td>-0.32</td>\n",
       "      <td>0.43</td>\n",
       "      <td>-0.03</td>\n",
       "      <td>-0.71</td>\n",
       "      <td>-0.20</td>\n",
       "      <td>&lt;span style=\"background-color:#0000ff\"&gt;i&lt;/span...</td>\n",
       "      <td>0.002044</td>\n",
       "      <td>9</td>\n",
       "    </tr>\n",
       "    <tr>\n",
       "      <th>21</th>\n",
       "      <td>7</td>\n",
       "      <td>3</td>\n",
       "      <td>0.4120</td>\n",
       "      <td>0.782767</td>\n",
       "      <td>1.822697</td>\n",
       "      <td>2.110189</td>\n",
       "      <td>0.001128</td>\n",
       "      <td>-1.194630</td>\n",
       "      <td>-2.316521</td>\n",
       "      <td>1</td>\n",
       "      <td>...</td>\n",
       "      <td>0.10</td>\n",
       "      <td>-0.46</td>\n",
       "      <td>-0.17</td>\n",
       "      <td>0.47</td>\n",
       "      <td>-0.08</td>\n",
       "      <td>-0.71</td>\n",
       "      <td>-0.13</td>\n",
       "      <td>&lt;span style=\"background-color:#bebeff\"&gt;i&lt;/span...</td>\n",
       "      <td>0.196490</td>\n",
       "      <td>10</td>\n",
       "    </tr>\n",
       "    <tr>\n",
       "      <th>15</th>\n",
       "      <td>5</td>\n",
       "      <td>4</td>\n",
       "      <td>0.4135</td>\n",
       "      <td>0.776092</td>\n",
       "      <td>0.325675</td>\n",
       "      <td>0.864966</td>\n",
       "      <td>-0.016040</td>\n",
       "      <td>-0.194653</td>\n",
       "      <td>-1.326800</td>\n",
       "      <td>1</td>\n",
       "      <td>...</td>\n",
       "      <td>0.10</td>\n",
       "      <td>0.38</td>\n",
       "      <td>0.03</td>\n",
       "      <td>0.39</td>\n",
       "      <td>0.03</td>\n",
       "      <td>-0.16</td>\n",
       "      <td>-0.38</td>\n",
       "      <td>&lt;span style=\"background-color:#0404ff\"&gt;i&lt;/span...</td>\n",
       "      <td>0.204157</td>\n",
       "      <td>9</td>\n",
       "    </tr>\n",
       "    <tr>\n",
       "      <th>3</th>\n",
       "      <td>3</td>\n",
       "      <td>7</td>\n",
       "      <td>0.4170</td>\n",
       "      <td>0.774272</td>\n",
       "      <td>0.052939</td>\n",
       "      <td>1.088882</td>\n",
       "      <td>0.097879</td>\n",
       "      <td>-0.328814</td>\n",
       "      <td>-2.446205</td>\n",
       "      <td>1</td>\n",
       "      <td>...</td>\n",
       "      <td>0.02</td>\n",
       "      <td>0.62</td>\n",
       "      <td>-0.17</td>\n",
       "      <td>0.04</td>\n",
       "      <td>-0.03</td>\n",
       "      <td>-0.17</td>\n",
       "      <td>-0.37</td>\n",
       "      <td>&lt;span style=\"background-color:#3e3eff\"&gt;i&lt;/span...</td>\n",
       "      <td>0.202914</td>\n",
       "      <td>10</td>\n",
       "    </tr>\n",
       "    <tr>\n",
       "      <th>17</th>\n",
       "      <td>5</td>\n",
       "      <td>7</td>\n",
       "      <td>0.4205</td>\n",
       "      <td>0.768811</td>\n",
       "      <td>0.588526</td>\n",
       "      <td>0.865918</td>\n",
       "      <td>-0.040494</td>\n",
       "      <td>-0.571998</td>\n",
       "      <td>-1.760246</td>\n",
       "      <td>1</td>\n",
       "      <td>...</td>\n",
       "      <td>-0.00</td>\n",
       "      <td>-0.05</td>\n",
       "      <td>0.02</td>\n",
       "      <td>0.54</td>\n",
       "      <td>0.00</td>\n",
       "      <td>-1.17</td>\n",
       "      <td>-0.08</td>\n",
       "      <td>&lt;span style=\"background-color:#2e2eff\"&gt;i&lt;/span...</td>\n",
       "      <td>0.000396</td>\n",
       "      <td>12</td>\n",
       "    </tr>\n",
       "    <tr>\n",
       "      <th>13</th>\n",
       "      <td>4</td>\n",
       "      <td>20</td>\n",
       "      <td>0.4235</td>\n",
       "      <td>0.799757</td>\n",
       "      <td>1.176804</td>\n",
       "      <td>0.758453</td>\n",
       "      <td>-0.676921</td>\n",
       "      <td>0.391611</td>\n",
       "      <td>0.120602</td>\n",
       "      <td>0</td>\n",
       "      <td>...</td>\n",
       "      <td>0.08</td>\n",
       "      <td>-0.30</td>\n",
       "      <td>-0.09</td>\n",
       "      <td>0.16</td>\n",
       "      <td>-0.39</td>\n",
       "      <td>-0.79</td>\n",
       "      <td>-0.73</td>\n",
       "      <td>&lt;span style=\"background-color:#babaff\"&gt;i&lt;/span...</td>\n",
       "      <td>0.014450</td>\n",
       "      <td>24</td>\n",
       "    </tr>\n",
       "    <tr>\n",
       "      <th>16</th>\n",
       "      <td>5</td>\n",
       "      <td>5</td>\n",
       "      <td>0.4255</td>\n",
       "      <td>0.787621</td>\n",
       "      <td>0.178004</td>\n",
       "      <td>0.812742</td>\n",
       "      <td>0.180672</td>\n",
       "      <td>-0.238797</td>\n",
       "      <td>-1.662482</td>\n",
       "      <td>1</td>\n",
       "      <td>...</td>\n",
       "      <td>0.23</td>\n",
       "      <td>0.07</td>\n",
       "      <td>-0.08</td>\n",
       "      <td>0.86</td>\n",
       "      <td>-0.07</td>\n",
       "      <td>-1.27</td>\n",
       "      <td>-0.42</td>\n",
       "      <td>&lt;span style=\"background-color:#6464ff\"&gt;i&lt;/span...</td>\n",
       "      <td>0.001279</td>\n",
       "      <td>10</td>\n",
       "    </tr>\n",
       "    <tr>\n",
       "      <th>10</th>\n",
       "      <td>4</td>\n",
       "      <td>7</td>\n",
       "      <td>0.4255</td>\n",
       "      <td>0.795510</td>\n",
       "      <td>-0.199262</td>\n",
       "      <td>0.974723</td>\n",
       "      <td>0.268842</td>\n",
       "      <td>-0.467785</td>\n",
       "      <td>-2.722602</td>\n",
       "      <td>1</td>\n",
       "      <td>...</td>\n",
       "      <td>0.13</td>\n",
       "      <td>0.36</td>\n",
       "      <td>-0.16</td>\n",
       "      <td>0.65</td>\n",
       "      <td>-0.04</td>\n",
       "      <td>-0.59</td>\n",
       "      <td>-0.44</td>\n",
       "      <td>&lt;span style=\"background-color:#6868ff\"&gt;i&lt;/span...</td>\n",
       "      <td>0.043446</td>\n",
       "      <td>11</td>\n",
       "    </tr>\n",
       "    <tr>\n",
       "      <th>11</th>\n",
       "      <td>4</td>\n",
       "      <td>10</td>\n",
       "      <td>0.4260</td>\n",
       "      <td>0.776092</td>\n",
       "      <td>0.245246</td>\n",
       "      <td>0.806252</td>\n",
       "      <td>-0.015290</td>\n",
       "      <td>0.229676</td>\n",
       "      <td>-1.306966</td>\n",
       "      <td>1</td>\n",
       "      <td>...</td>\n",
       "      <td>-0.16</td>\n",
       "      <td>-0.11</td>\n",
       "      <td>-0.14</td>\n",
       "      <td>0.27</td>\n",
       "      <td>-0.20</td>\n",
       "      <td>-0.96</td>\n",
       "      <td>-0.65</td>\n",
       "      <td>&lt;span style=\"background-color:#ceceff\"&gt;i&lt;/span...</td>\n",
       "      <td>0.002407</td>\n",
       "      <td>14</td>\n",
       "    </tr>\n",
       "    <tr>\n",
       "      <th>5</th>\n",
       "      <td>3</td>\n",
       "      <td>15</td>\n",
       "      <td>0.4260</td>\n",
       "      <td>0.776092</td>\n",
       "      <td>-0.519133</td>\n",
       "      <td>0.585030</td>\n",
       "      <td>0.507113</td>\n",
       "      <td>-0.135155</td>\n",
       "      <td>-2.102638</td>\n",
       "      <td>1</td>\n",
       "      <td>...</td>\n",
       "      <td>-0.01</td>\n",
       "      <td>0.13</td>\n",
       "      <td>-0.04</td>\n",
       "      <td>0.18</td>\n",
       "      <td>-0.04</td>\n",
       "      <td>-0.46</td>\n",
       "      <td>-0.22</td>\n",
       "      <td>&lt;span style=\"background-color:#0000ff\"&gt;i&lt;/span...</td>\n",
       "      <td>0.011905</td>\n",
       "      <td>18</td>\n",
       "    </tr>\n",
       "    <tr>\n",
       "      <th>4</th>\n",
       "      <td>3</td>\n",
       "      <td>10</td>\n",
       "      <td>0.4270</td>\n",
       "      <td>0.766990</td>\n",
       "      <td>-0.107984</td>\n",
       "      <td>0.146719</td>\n",
       "      <td>-0.093676</td>\n",
       "      <td>0.690875</td>\n",
       "      <td>-0.409942</td>\n",
       "      <td>3</td>\n",
       "      <td>...</td>\n",
       "      <td>-0.15</td>\n",
       "      <td>0.14</td>\n",
       "      <td>0.21</td>\n",
       "      <td>-0.10</td>\n",
       "      <td>-0.11</td>\n",
       "      <td>0.51</td>\n",
       "      <td>0.06</td>\n",
       "      <td>&lt;span style=\"background-color:#0000ff\"&gt;i&lt;/span...</td>\n",
       "      <td>0.012255</td>\n",
       "      <td>13</td>\n",
       "    </tr>\n",
       "    <tr>\n",
       "      <th>36</th>\n",
       "      <td>15</td>\n",
       "      <td>4</td>\n",
       "      <td>0.4285</td>\n",
       "      <td>0.790049</td>\n",
       "      <td>0.016586</td>\n",
       "      <td>0.921625</td>\n",
       "      <td>0.045616</td>\n",
       "      <td>-0.925760</td>\n",
       "      <td>-2.175695</td>\n",
       "      <td>1</td>\n",
       "      <td>...</td>\n",
       "      <td>0.18</td>\n",
       "      <td>-0.27</td>\n",
       "      <td>-0.13</td>\n",
       "      <td>0.43</td>\n",
       "      <td>-0.10</td>\n",
       "      <td>-1.27</td>\n",
       "      <td>-0.14</td>\n",
       "      <td>&lt;span style=\"background-color:#babaff\"&gt;i&lt;/span...</td>\n",
       "      <td>0.024066</td>\n",
       "      <td>19</td>\n",
       "    </tr>\n",
       "    <tr>\n",
       "      <th>30</th>\n",
       "      <td>10</td>\n",
       "      <td>5</td>\n",
       "      <td>0.4290</td>\n",
       "      <td>0.783981</td>\n",
       "      <td>0.851235</td>\n",
       "      <td>1.143784</td>\n",
       "      <td>-0.160790</td>\n",
       "      <td>-0.873189</td>\n",
       "      <td>-1.829719</td>\n",
       "      <td>1</td>\n",
       "      <td>...</td>\n",
       "      <td>0.14</td>\n",
       "      <td>-0.03</td>\n",
       "      <td>-0.03</td>\n",
       "      <td>0.72</td>\n",
       "      <td>-0.03</td>\n",
       "      <td>-1.34</td>\n",
       "      <td>-0.40</td>\n",
       "      <td>&lt;span style=\"background-color:#8e8eff\"&gt;i&lt;/span...</td>\n",
       "      <td>0.000239</td>\n",
       "      <td>15</td>\n",
       "    </tr>\n",
       "    <tr>\n",
       "      <th>12</th>\n",
       "      <td>4</td>\n",
       "      <td>15</td>\n",
       "      <td>0.4305</td>\n",
       "      <td>0.790655</td>\n",
       "      <td>1.260524</td>\n",
       "      <td>1.667611</td>\n",
       "      <td>-0.009806</td>\n",
       "      <td>-1.136322</td>\n",
       "      <td>-2.197466</td>\n",
       "      <td>1</td>\n",
       "      <td>...</td>\n",
       "      <td>0.02</td>\n",
       "      <td>-0.09</td>\n",
       "      <td>0.05</td>\n",
       "      <td>0.86</td>\n",
       "      <td>-0.46</td>\n",
       "      <td>-2.03</td>\n",
       "      <td>0.24</td>\n",
       "      <td>&lt;span style=\"background-color:#a2a2ff\"&gt;i&lt;/span...</td>\n",
       "      <td>0.000692</td>\n",
       "      <td>19</td>\n",
       "    </tr>\n",
       "    <tr>\n",
       "      <th>42</th>\n",
       "      <td>20</td>\n",
       "      <td>3</td>\n",
       "      <td>0.4335</td>\n",
       "      <td>0.802184</td>\n",
       "      <td>1.124812</td>\n",
       "      <td>1.577986</td>\n",
       "      <td>0.105534</td>\n",
       "      <td>-0.979994</td>\n",
       "      <td>-2.337184</td>\n",
       "      <td>1</td>\n",
       "      <td>...</td>\n",
       "      <td>0.11</td>\n",
       "      <td>0.19</td>\n",
       "      <td>0.23</td>\n",
       "      <td>0.53</td>\n",
       "      <td>-0.02</td>\n",
       "      <td>-1.04</td>\n",
       "      <td>-0.04</td>\n",
       "      <td>&lt;span style=\"background-color:#b6b6ff\"&gt;i&lt;/span...</td>\n",
       "      <td>0.015765</td>\n",
       "      <td>23</td>\n",
       "    </tr>\n",
       "    <tr>\n",
       "      <th>26</th>\n",
       "      <td>7</td>\n",
       "      <td>15</td>\n",
       "      <td>0.4340</td>\n",
       "      <td>0.807646</td>\n",
       "      <td>-0.002777</td>\n",
       "      <td>0.469100</td>\n",
       "      <td>-0.143461</td>\n",
       "      <td>0.053381</td>\n",
       "      <td>-0.829481</td>\n",
       "      <td>1</td>\n",
       "      <td>...</td>\n",
       "      <td>-0.21</td>\n",
       "      <td>0.17</td>\n",
       "      <td>-0.25</td>\n",
       "      <td>0.66</td>\n",
       "      <td>-0.43</td>\n",
       "      <td>-1.77</td>\n",
       "      <td>-0.58</td>\n",
       "      <td>&lt;span style=\"background-color:#5656ff\"&gt;i&lt;/span...</td>\n",
       "      <td>0.003939</td>\n",
       "      <td>22</td>\n",
       "    </tr>\n",
       "    <tr>\n",
       "      <th>34</th>\n",
       "      <td>10</td>\n",
       "      <td>20</td>\n",
       "      <td>0.4340</td>\n",
       "      <td>0.787015</td>\n",
       "      <td>1.631493</td>\n",
       "      <td>0.721900</td>\n",
       "      <td>-0.433694</td>\n",
       "      <td>-1.435800</td>\n",
       "      <td>-1.684095</td>\n",
       "      <td>0</td>\n",
       "      <td>...</td>\n",
       "      <td>0.57</td>\n",
       "      <td>-1.26</td>\n",
       "      <td>0.22</td>\n",
       "      <td>0.76</td>\n",
       "      <td>0.33</td>\n",
       "      <td>-1.13</td>\n",
       "      <td>-0.69</td>\n",
       "      <td>&lt;span style=\"background-color:#c2c2ff\"&gt;i&lt;/span...</td>\n",
       "      <td>0.136894</td>\n",
       "      <td>30</td>\n",
       "    </tr>\n",
       "    <tr>\n",
       "      <th>22</th>\n",
       "      <td>7</td>\n",
       "      <td>4</td>\n",
       "      <td>0.4350</td>\n",
       "      <td>0.779126</td>\n",
       "      <td>-0.081808</td>\n",
       "      <td>0.588984</td>\n",
       "      <td>0.105501</td>\n",
       "      <td>-0.076636</td>\n",
       "      <td>-0.636622</td>\n",
       "      <td>1</td>\n",
       "      <td>...</td>\n",
       "      <td>0.22</td>\n",
       "      <td>0.10</td>\n",
       "      <td>0.07</td>\n",
       "      <td>0.47</td>\n",
       "      <td>-0.04</td>\n",
       "      <td>-1.11</td>\n",
       "      <td>-0.26</td>\n",
       "      <td>&lt;span style=\"background-color:#9393ff\"&gt;i&lt;/span...</td>\n",
       "      <td>0.005439</td>\n",
       "      <td>11</td>\n",
       "    </tr>\n",
       "    <tr>\n",
       "      <th>43</th>\n",
       "      <td>20</td>\n",
       "      <td>4</td>\n",
       "      <td>0.4355</td>\n",
       "      <td>0.791869</td>\n",
       "      <td>0.615067</td>\n",
       "      <td>1.107918</td>\n",
       "      <td>-0.020603</td>\n",
       "      <td>-0.934905</td>\n",
       "      <td>-2.220119</td>\n",
       "      <td>1</td>\n",
       "      <td>...</td>\n",
       "      <td>0.15</td>\n",
       "      <td>-0.11</td>\n",
       "      <td>-0.01</td>\n",
       "      <td>0.68</td>\n",
       "      <td>-0.05</td>\n",
       "      <td>-1.25</td>\n",
       "      <td>-0.16</td>\n",
       "      <td>&lt;span style=\"background-color:#c3c3ff\"&gt;i&lt;/span...</td>\n",
       "      <td>0.003574</td>\n",
       "      <td>24</td>\n",
       "    </tr>\n",
       "    <tr>\n",
       "      <th>20</th>\n",
       "      <td>5</td>\n",
       "      <td>20</td>\n",
       "      <td>0.4355</td>\n",
       "      <td>0.773058</td>\n",
       "      <td>-0.661940</td>\n",
       "      <td>-0.248854</td>\n",
       "      <td>-0.433722</td>\n",
       "      <td>0.364787</td>\n",
       "      <td>-0.001542</td>\n",
       "      <td>3</td>\n",
       "      <td>...</td>\n",
       "      <td>0.04</td>\n",
       "      <td>0.41</td>\n",
       "      <td>0.20</td>\n",
       "      <td>-0.53</td>\n",
       "      <td>0.11</td>\n",
       "      <td>2.49</td>\n",
       "      <td>-0.43</td>\n",
       "      <td>&lt;span style=\"background-color:#ffe6e6\"&gt;i&lt;/span...</td>\n",
       "      <td>0.018304</td>\n",
       "      <td>25</td>\n",
       "    </tr>\n",
       "    <tr>\n",
       "      <th>6</th>\n",
       "      <td>3</td>\n",
       "      <td>20</td>\n",
       "      <td>0.4365</td>\n",
       "      <td>0.788835</td>\n",
       "      <td>1.104751</td>\n",
       "      <td>0.985701</td>\n",
       "      <td>-0.506663</td>\n",
       "      <td>-0.425916</td>\n",
       "      <td>-0.171626</td>\n",
       "      <td>0</td>\n",
       "      <td>...</td>\n",
       "      <td>0.05</td>\n",
       "      <td>-0.35</td>\n",
       "      <td>-0.01</td>\n",
       "      <td>0.46</td>\n",
       "      <td>0.02</td>\n",
       "      <td>-1.23</td>\n",
       "      <td>0.09</td>\n",
       "      <td>&lt;span style=\"background-color:#f8f8ff\"&gt;i&lt;/span...</td>\n",
       "      <td>0.017236</td>\n",
       "      <td>23</td>\n",
       "    </tr>\n",
       "    <tr>\n",
       "      <th>28</th>\n",
       "      <td>10</td>\n",
       "      <td>3</td>\n",
       "      <td>0.4370</td>\n",
       "      <td>0.800364</td>\n",
       "      <td>-0.011039</td>\n",
       "      <td>0.811457</td>\n",
       "      <td>-0.082622</td>\n",
       "      <td>-0.494972</td>\n",
       "      <td>-1.969455</td>\n",
       "      <td>1</td>\n",
       "      <td>...</td>\n",
       "      <td>0.13</td>\n",
       "      <td>0.14</td>\n",
       "      <td>-0.05</td>\n",
       "      <td>0.87</td>\n",
       "      <td>-0.07</td>\n",
       "      <td>-0.94</td>\n",
       "      <td>-0.31</td>\n",
       "      <td>&lt;span style=\"background-color:#a2a2ff\"&gt;i&lt;/span...</td>\n",
       "      <td>0.006320</td>\n",
       "      <td>13</td>\n",
       "    </tr>\n",
       "    <tr>\n",
       "      <th>23</th>\n",
       "      <td>7</td>\n",
       "      <td>5</td>\n",
       "      <td>0.4385</td>\n",
       "      <td>0.794903</td>\n",
       "      <td>0.202871</td>\n",
       "      <td>0.686622</td>\n",
       "      <td>0.032070</td>\n",
       "      <td>-0.247469</td>\n",
       "      <td>-1.305554</td>\n",
       "      <td>1</td>\n",
       "      <td>...</td>\n",
       "      <td>0.15</td>\n",
       "      <td>-0.19</td>\n",
       "      <td>-0.11</td>\n",
       "      <td>0.56</td>\n",
       "      <td>-0.04</td>\n",
       "      <td>-0.98</td>\n",
       "      <td>-0.35</td>\n",
       "      <td>&lt;span style=\"background-color:#6060ff\"&gt;i&lt;/span...</td>\n",
       "      <td>0.012055</td>\n",
       "      <td>12</td>\n",
       "    </tr>\n",
       "    <tr>\n",
       "      <th>35</th>\n",
       "      <td>15</td>\n",
       "      <td>3</td>\n",
       "      <td>0.4385</td>\n",
       "      <td>0.789442</td>\n",
       "      <td>0.621612</td>\n",
       "      <td>1.023866</td>\n",
       "      <td>-0.471838</td>\n",
       "      <td>-0.766982</td>\n",
       "      <td>-1.636908</td>\n",
       "      <td>1</td>\n",
       "      <td>...</td>\n",
       "      <td>0.26</td>\n",
       "      <td>0.03</td>\n",
       "      <td>-0.06</td>\n",
       "      <td>0.52</td>\n",
       "      <td>-0.01</td>\n",
       "      <td>-0.69</td>\n",
       "      <td>0.05</td>\n",
       "      <td>&lt;span style=\"background-color:#f8f8ff\"&gt;i&lt;/span...</td>\n",
       "      <td>0.000718</td>\n",
       "      <td>18</td>\n",
       "    </tr>\n",
       "    <tr>\n",
       "      <th>38</th>\n",
       "      <td>15</td>\n",
       "      <td>7</td>\n",
       "      <td>0.4390</td>\n",
       "      <td>0.797330</td>\n",
       "      <td>0.621368</td>\n",
       "      <td>0.919204</td>\n",
       "      <td>-0.386493</td>\n",
       "      <td>-0.388548</td>\n",
       "      <td>-1.634971</td>\n",
       "      <td>1</td>\n",
       "      <td>...</td>\n",
       "      <td>-0.03</td>\n",
       "      <td>-0.25</td>\n",
       "      <td>-0.10</td>\n",
       "      <td>0.35</td>\n",
       "      <td>-0.13</td>\n",
       "      <td>-0.95</td>\n",
       "      <td>-0.20</td>\n",
       "      <td>&lt;span style=\"background-color:#0404ff\"&gt;i&lt;/span...</td>\n",
       "      <td>0.023568</td>\n",
       "      <td>22</td>\n",
       "    </tr>\n",
       "    <tr>\n",
       "      <th>19</th>\n",
       "      <td>5</td>\n",
       "      <td>15</td>\n",
       "      <td>0.4425</td>\n",
       "      <td>0.815534</td>\n",
       "      <td>1.026456</td>\n",
       "      <td>1.228318</td>\n",
       "      <td>-0.296128</td>\n",
       "      <td>-0.053338</td>\n",
       "      <td>-0.788718</td>\n",
       "      <td>1</td>\n",
       "      <td>...</td>\n",
       "      <td>0.03</td>\n",
       "      <td>0.40</td>\n",
       "      <td>-0.04</td>\n",
       "      <td>1.13</td>\n",
       "      <td>-0.32</td>\n",
       "      <td>-2.70</td>\n",
       "      <td>-0.13</td>\n",
       "      <td>&lt;span style=\"background-color:#7c7cff\"&gt;i&lt;/span...</td>\n",
       "      <td>0.013609</td>\n",
       "      <td>20</td>\n",
       "    </tr>\n",
       "    <tr>\n",
       "      <th>18</th>\n",
       "      <td>5</td>\n",
       "      <td>10</td>\n",
       "      <td>0.4425</td>\n",
       "      <td>0.779126</td>\n",
       "      <td>0.304518</td>\n",
       "      <td>0.226620</td>\n",
       "      <td>-0.025210</td>\n",
       "      <td>-0.489502</td>\n",
       "      <td>-0.374248</td>\n",
       "      <td>0</td>\n",
       "      <td>...</td>\n",
       "      <td>0.21</td>\n",
       "      <td>0.38</td>\n",
       "      <td>0.31</td>\n",
       "      <td>1.33</td>\n",
       "      <td>-0.09</td>\n",
       "      <td>-2.72</td>\n",
       "      <td>-0.92</td>\n",
       "      <td>&lt;span style=\"background-color:#e6e6ff\"&gt;i&lt;/span...</td>\n",
       "      <td>0.008294</td>\n",
       "      <td>15</td>\n",
       "    </tr>\n",
       "    <tr>\n",
       "      <th>41</th>\n",
       "      <td>15</td>\n",
       "      <td>20</td>\n",
       "      <td>0.4435</td>\n",
       "      <td>0.822816</td>\n",
       "      <td>0.428577</td>\n",
       "      <td>0.285757</td>\n",
       "      <td>-0.846267</td>\n",
       "      <td>-0.894159</td>\n",
       "      <td>-1.493839</td>\n",
       "      <td>0</td>\n",
       "      <td>...</td>\n",
       "      <td>0.57</td>\n",
       "      <td>-1.14</td>\n",
       "      <td>0.05</td>\n",
       "      <td>0.93</td>\n",
       "      <td>-0.32</td>\n",
       "      <td>-4.42</td>\n",
       "      <td>0.18</td>\n",
       "      <td>&lt;span style=\"background-color:#b2b2ff\"&gt;i&lt;/span...</td>\n",
       "      <td>0.037701</td>\n",
       "      <td>35</td>\n",
       "    </tr>\n",
       "    <tr>\n",
       "      <th>39</th>\n",
       "      <td>15</td>\n",
       "      <td>10</td>\n",
       "      <td>0.4450</td>\n",
       "      <td>0.780947</td>\n",
       "      <td>0.364253</td>\n",
       "      <td>0.379690</td>\n",
       "      <td>-0.457309</td>\n",
       "      <td>-0.785911</td>\n",
       "      <td>-1.845633</td>\n",
       "      <td>1</td>\n",
       "      <td>...</td>\n",
       "      <td>0.10</td>\n",
       "      <td>-0.06</td>\n",
       "      <td>-0.19</td>\n",
       "      <td>0.51</td>\n",
       "      <td>-0.27</td>\n",
       "      <td>-1.24</td>\n",
       "      <td>-0.81</td>\n",
       "      <td>&lt;span style=\"background-color:#7676ff\"&gt;i&lt;/span...</td>\n",
       "      <td>0.000926</td>\n",
       "      <td>25</td>\n",
       "    </tr>\n",
       "    <tr>\n",
       "      <th>24</th>\n",
       "      <td>7</td>\n",
       "      <td>7</td>\n",
       "      <td>0.4485</td>\n",
       "      <td>0.797330</td>\n",
       "      <td>0.047401</td>\n",
       "      <td>0.375215</td>\n",
       "      <td>-0.170479</td>\n",
       "      <td>-0.382424</td>\n",
       "      <td>-1.172442</td>\n",
       "      <td>1</td>\n",
       "      <td>...</td>\n",
       "      <td>0.07</td>\n",
       "      <td>0.17</td>\n",
       "      <td>0.06</td>\n",
       "      <td>0.67</td>\n",
       "      <td>-0.10</td>\n",
       "      <td>-1.53</td>\n",
       "      <td>-0.45</td>\n",
       "      <td>&lt;span style=\"background-color:#4141ff\"&gt;i&lt;/span...</td>\n",
       "      <td>0.005537</td>\n",
       "      <td>14</td>\n",
       "    </tr>\n",
       "    <tr>\n",
       "      <th>32</th>\n",
       "      <td>10</td>\n",
       "      <td>10</td>\n",
       "      <td>0.4490</td>\n",
       "      <td>0.796117</td>\n",
       "      <td>-1.713714</td>\n",
       "      <td>-0.538762</td>\n",
       "      <td>-0.393460</td>\n",
       "      <td>0.545567</td>\n",
       "      <td>-0.063143</td>\n",
       "      <td>3</td>\n",
       "      <td>...</td>\n",
       "      <td>-0.17</td>\n",
       "      <td>0.43</td>\n",
       "      <td>0.46</td>\n",
       "      <td>-0.45</td>\n",
       "      <td>0.62</td>\n",
       "      <td>2.04</td>\n",
       "      <td>0.28</td>\n",
       "      <td>&lt;span style=\"background-color:#ffe6e6\"&gt;i&lt;/span...</td>\n",
       "      <td>0.023541</td>\n",
       "      <td>20</td>\n",
       "    </tr>\n",
       "    <tr>\n",
       "      <th>29</th>\n",
       "      <td>10</td>\n",
       "      <td>4</td>\n",
       "      <td>0.4490</td>\n",
       "      <td>0.791869</td>\n",
       "      <td>0.395256</td>\n",
       "      <td>1.000959</td>\n",
       "      <td>0.175339</td>\n",
       "      <td>-0.201797</td>\n",
       "      <td>-1.324477</td>\n",
       "      <td>1</td>\n",
       "      <td>...</td>\n",
       "      <td>-0.05</td>\n",
       "      <td>0.57</td>\n",
       "      <td>0.00</td>\n",
       "      <td>0.51</td>\n",
       "      <td>-0.10</td>\n",
       "      <td>-1.57</td>\n",
       "      <td>-0.41</td>\n",
       "      <td>&lt;span style=\"background-color:#8e8eff\"&gt;i&lt;/span...</td>\n",
       "      <td>0.084464</td>\n",
       "      <td>14</td>\n",
       "    </tr>\n",
       "    <tr>\n",
       "      <th>25</th>\n",
       "      <td>7</td>\n",
       "      <td>10</td>\n",
       "      <td>0.4505</td>\n",
       "      <td>0.796723</td>\n",
       "      <td>0.395459</td>\n",
       "      <td>1.042943</td>\n",
       "      <td>0.022283</td>\n",
       "      <td>-0.482421</td>\n",
       "      <td>-1.941301</td>\n",
       "      <td>1</td>\n",
       "      <td>...</td>\n",
       "      <td>-0.20</td>\n",
       "      <td>0.33</td>\n",
       "      <td>-0.32</td>\n",
       "      <td>0.64</td>\n",
       "      <td>-0.26</td>\n",
       "      <td>-2.06</td>\n",
       "      <td>-0.91</td>\n",
       "      <td>&lt;span style=\"background-color:#3030ff\"&gt;i&lt;/span...</td>\n",
       "      <td>0.009768</td>\n",
       "      <td>17</td>\n",
       "    </tr>\n",
       "    <tr>\n",
       "      <th>44</th>\n",
       "      <td>20</td>\n",
       "      <td>5</td>\n",
       "      <td>0.4510</td>\n",
       "      <td>0.811893</td>\n",
       "      <td>1.262991</td>\n",
       "      <td>1.009285</td>\n",
       "      <td>-0.492742</td>\n",
       "      <td>-0.473064</td>\n",
       "      <td>-1.219598</td>\n",
       "      <td>0</td>\n",
       "      <td>...</td>\n",
       "      <td>0.22</td>\n",
       "      <td>-0.18</td>\n",
       "      <td>-0.12</td>\n",
       "      <td>0.50</td>\n",
       "      <td>-0.14</td>\n",
       "      <td>-1.47</td>\n",
       "      <td>-0.19</td>\n",
       "      <td>&lt;span style=\"background-color:#f8f8ff\"&gt;i&lt;/span...</td>\n",
       "      <td>0.009123</td>\n",
       "      <td>25</td>\n",
       "    </tr>\n",
       "    <tr>\n",
       "      <th>31</th>\n",
       "      <td>10</td>\n",
       "      <td>7</td>\n",
       "      <td>0.4515</td>\n",
       "      <td>0.793083</td>\n",
       "      <td>0.206834</td>\n",
       "      <td>0.766934</td>\n",
       "      <td>-0.179407</td>\n",
       "      <td>-0.320940</td>\n",
       "      <td>-1.073912</td>\n",
       "      <td>1</td>\n",
       "      <td>...</td>\n",
       "      <td>0.12</td>\n",
       "      <td>0.56</td>\n",
       "      <td>0.16</td>\n",
       "      <td>0.72</td>\n",
       "      <td>-0.05</td>\n",
       "      <td>-1.21</td>\n",
       "      <td>-0.47</td>\n",
       "      <td>&lt;span style=\"background-color:#aaaaff\"&gt;i&lt;/span...</td>\n",
       "      <td>0.097829</td>\n",
       "      <td>17</td>\n",
       "    </tr>\n",
       "    <tr>\n",
       "      <th>47</th>\n",
       "      <td>20</td>\n",
       "      <td>15</td>\n",
       "      <td>0.4525</td>\n",
       "      <td>0.773665</td>\n",
       "      <td>0.871596</td>\n",
       "      <td>1.423532</td>\n",
       "      <td>-0.626452</td>\n",
       "      <td>-1.387030</td>\n",
       "      <td>-2.147008</td>\n",
       "      <td>1</td>\n",
       "      <td>...</td>\n",
       "      <td>0.12</td>\n",
       "      <td>0.57</td>\n",
       "      <td>0.06</td>\n",
       "      <td>0.58</td>\n",
       "      <td>-0.33</td>\n",
       "      <td>-1.82</td>\n",
       "      <td>-0.43</td>\n",
       "      <td>&lt;span style=\"background-color:#6e6eff\"&gt;i&lt;/span...</td>\n",
       "      <td>0.042087</td>\n",
       "      <td>35</td>\n",
       "    </tr>\n",
       "    <tr>\n",
       "      <th>27</th>\n",
       "      <td>7</td>\n",
       "      <td>20</td>\n",
       "      <td>0.4540</td>\n",
       "      <td>0.788835</td>\n",
       "      <td>0.050483</td>\n",
       "      <td>-0.181728</td>\n",
       "      <td>-0.997377</td>\n",
       "      <td>0.402509</td>\n",
       "      <td>1.525117</td>\n",
       "      <td>4</td>\n",
       "      <td>...</td>\n",
       "      <td>0.13</td>\n",
       "      <td>-0.39</td>\n",
       "      <td>0.33</td>\n",
       "      <td>-1.09</td>\n",
       "      <td>0.13</td>\n",
       "      <td>5.43</td>\n",
       "      <td>-0.21</td>\n",
       "      <td>&lt;span style=\"background-color:#ececff\"&gt;i&lt;/span...</td>\n",
       "      <td>0.004796</td>\n",
       "      <td>27</td>\n",
       "    </tr>\n",
       "    <tr>\n",
       "      <th>46</th>\n",
       "      <td>20</td>\n",
       "      <td>10</td>\n",
       "      <td>0.4545</td>\n",
       "      <td>0.801578</td>\n",
       "      <td>0.056861</td>\n",
       "      <td>0.420689</td>\n",
       "      <td>-0.452365</td>\n",
       "      <td>-0.647716</td>\n",
       "      <td>-1.782401</td>\n",
       "      <td>1</td>\n",
       "      <td>...</td>\n",
       "      <td>0.00</td>\n",
       "      <td>0.53</td>\n",
       "      <td>0.08</td>\n",
       "      <td>0.67</td>\n",
       "      <td>-0.18</td>\n",
       "      <td>-1.86</td>\n",
       "      <td>-0.35</td>\n",
       "      <td>&lt;span style=\"background-color:#9393ff\"&gt;i&lt;/span...</td>\n",
       "      <td>0.049084</td>\n",
       "      <td>30</td>\n",
       "    </tr>\n",
       "    <tr>\n",
       "      <th>40</th>\n",
       "      <td>15</td>\n",
       "      <td>15</td>\n",
       "      <td>0.4550</td>\n",
       "      <td>0.805218</td>\n",
       "      <td>0.468371</td>\n",
       "      <td>0.181858</td>\n",
       "      <td>-0.753747</td>\n",
       "      <td>-0.272448</td>\n",
       "      <td>-0.840296</td>\n",
       "      <td>0</td>\n",
       "      <td>...</td>\n",
       "      <td>0.48</td>\n",
       "      <td>0.50</td>\n",
       "      <td>-0.15</td>\n",
       "      <td>1.29</td>\n",
       "      <td>-0.35</td>\n",
       "      <td>-3.51</td>\n",
       "      <td>-0.12</td>\n",
       "      <td>&lt;span style=\"background-color:#bcbcff\"&gt;i&lt;/span...</td>\n",
       "      <td>0.009565</td>\n",
       "      <td>30</td>\n",
       "    </tr>\n",
       "    <tr>\n",
       "      <th>37</th>\n",
       "      <td>15</td>\n",
       "      <td>5</td>\n",
       "      <td>0.4570</td>\n",
       "      <td>0.810680</td>\n",
       "      <td>1.104509</td>\n",
       "      <td>0.841718</td>\n",
       "      <td>-0.472763</td>\n",
       "      <td>-0.727338</td>\n",
       "      <td>-1.490901</td>\n",
       "      <td>0</td>\n",
       "      <td>...</td>\n",
       "      <td>0.37</td>\n",
       "      <td>-0.62</td>\n",
       "      <td>-0.26</td>\n",
       "      <td>0.84</td>\n",
       "      <td>-0.16</td>\n",
       "      <td>-1.74</td>\n",
       "      <td>-0.28</td>\n",
       "      <td>&lt;span style=\"background-color:#b6b6ff\"&gt;i&lt;/span...</td>\n",
       "      <td>0.031311</td>\n",
       "      <td>20</td>\n",
       "    </tr>\n",
       "    <tr>\n",
       "      <th>33</th>\n",
       "      <td>10</td>\n",
       "      <td>15</td>\n",
       "      <td>0.4590</td>\n",
       "      <td>0.799757</td>\n",
       "      <td>-0.550536</td>\n",
       "      <td>0.225544</td>\n",
       "      <td>-0.327804</td>\n",
       "      <td>-0.064255</td>\n",
       "      <td>-0.747808</td>\n",
       "      <td>1</td>\n",
       "      <td>...</td>\n",
       "      <td>0.44</td>\n",
       "      <td>-0.07</td>\n",
       "      <td>-0.05</td>\n",
       "      <td>0.84</td>\n",
       "      <td>-0.38</td>\n",
       "      <td>-1.97</td>\n",
       "      <td>-0.86</td>\n",
       "      <td>&lt;span style=\"background-color:#7e7eff\"&gt;i&lt;/span...</td>\n",
       "      <td>0.000408</td>\n",
       "      <td>25</td>\n",
       "    </tr>\n",
       "    <tr>\n",
       "      <th>45</th>\n",
       "      <td>20</td>\n",
       "      <td>7</td>\n",
       "      <td>0.4625</td>\n",
       "      <td>0.805825</td>\n",
       "      <td>0.565102</td>\n",
       "      <td>0.852865</td>\n",
       "      <td>-0.317847</td>\n",
       "      <td>-1.154289</td>\n",
       "      <td>-2.186511</td>\n",
       "      <td>1</td>\n",
       "      <td>...</td>\n",
       "      <td>-0.00</td>\n",
       "      <td>0.57</td>\n",
       "      <td>-0.10</td>\n",
       "      <td>0.54</td>\n",
       "      <td>-0.18</td>\n",
       "      <td>-1.53</td>\n",
       "      <td>-0.42</td>\n",
       "      <td>&lt;span style=\"background-color:#7171ff\"&gt;i&lt;/span...</td>\n",
       "      <td>0.060802</td>\n",
       "      <td>27</td>\n",
       "    </tr>\n",
       "    <tr>\n",
       "      <th>48</th>\n",
       "      <td>20</td>\n",
       "      <td>20</td>\n",
       "      <td>0.4655</td>\n",
       "      <td>0.813714</td>\n",
       "      <td>0.991381</td>\n",
       "      <td>0.797809</td>\n",
       "      <td>-0.580056</td>\n",
       "      <td>-1.052267</td>\n",
       "      <td>-0.908465</td>\n",
       "      <td>0</td>\n",
       "      <td>...</td>\n",
       "      <td>1.12</td>\n",
       "      <td>-0.17</td>\n",
       "      <td>0.10</td>\n",
       "      <td>1.76</td>\n",
       "      <td>-0.60</td>\n",
       "      <td>-4.26</td>\n",
       "      <td>0.56</td>\n",
       "      <td>&lt;span style=\"background-color:#dadaff\"&gt;i&lt;/span...</td>\n",
       "      <td>0.000895</td>\n",
       "      <td>40</td>\n",
       "    </tr>\n",
       "  </tbody>\n",
       "</table>\n",
       "<p>49 rows × 23 columns</p>\n",
       "</div>"
      ],
      "text/plain": [
       "    hidden_dimensions  embedding_dimensions  fine_accuracy  coarse_accuracy  \\\n",
       "2                   3                     5         0.2815         0.518204   \n",
       "7                   4                     3         0.2825         0.527913   \n",
       "0                   3                     3         0.3025         0.549757   \n",
       "1                   3                     4         0.3635         0.686893   \n",
       "8                   4                     4         0.3900         0.759709   \n",
       "14                  5                     3         0.4110         0.773665   \n",
       "9                   4                     5         0.4110         0.782160   \n",
       "21                  7                     3         0.4120         0.782767   \n",
       "15                  5                     4         0.4135         0.776092   \n",
       "3                   3                     7         0.4170         0.774272   \n",
       "17                  5                     7         0.4205         0.768811   \n",
       "13                  4                    20         0.4235         0.799757   \n",
       "16                  5                     5         0.4255         0.787621   \n",
       "10                  4                     7         0.4255         0.795510   \n",
       "11                  4                    10         0.4260         0.776092   \n",
       "5                   3                    15         0.4260         0.776092   \n",
       "4                   3                    10         0.4270         0.766990   \n",
       "36                 15                     4         0.4285         0.790049   \n",
       "30                 10                     5         0.4290         0.783981   \n",
       "12                  4                    15         0.4305         0.790655   \n",
       "42                 20                     3         0.4335         0.802184   \n",
       "26                  7                    15         0.4340         0.807646   \n",
       "34                 10                    20         0.4340         0.787015   \n",
       "22                  7                     4         0.4350         0.779126   \n",
       "43                 20                     4         0.4355         0.791869   \n",
       "20                  5                    20         0.4355         0.773058   \n",
       "6                   3                    20         0.4365         0.788835   \n",
       "28                 10                     3         0.4370         0.800364   \n",
       "23                  7                     5         0.4385         0.794903   \n",
       "35                 15                     3         0.4385         0.789442   \n",
       "38                 15                     7         0.4390         0.797330   \n",
       "19                  5                    15         0.4425         0.815534   \n",
       "18                  5                    10         0.4425         0.779126   \n",
       "41                 15                    20         0.4435         0.822816   \n",
       "39                 15                    10         0.4450         0.780947   \n",
       "24                  7                     7         0.4485         0.797330   \n",
       "32                 10                    10         0.4490         0.796117   \n",
       "29                 10                     4         0.4490         0.791869   \n",
       "25                  7                    10         0.4505         0.796723   \n",
       "44                 20                     5         0.4510         0.811893   \n",
       "31                 10                     7         0.4515         0.793083   \n",
       "47                 20                    15         0.4525         0.773665   \n",
       "27                  7                    20         0.4540         0.788835   \n",
       "46                 20                    10         0.4545         0.801578   \n",
       "40                 15                    15         0.4550         0.805218   \n",
       "37                 15                     5         0.4570         0.810680   \n",
       "33                 10                    15         0.4590         0.799757   \n",
       "45                 20                     7         0.4625         0.805825   \n",
       "48                 20                    20         0.4655         0.813714   \n",
       "\n",
       "      pred_0    pred_1    pred_2    pred_3    pred_4  pred_class  ...  \\\n",
       "2  -0.404692  0.363967 -0.565312  0.502987 -0.172350           3  ...   \n",
       "7  -0.314639  0.068187 -0.615212  0.885441  0.272877           3  ...   \n",
       "0   0.089227  0.492903 -1.018312  1.168334  0.899401           3  ...   \n",
       "1  -0.815323  0.228068 -0.054365  0.583400 -0.755622           3  ...   \n",
       "8  -0.216039  0.327693  0.188046  0.416817 -0.798839           3  ...   \n",
       "14 -0.280760  0.788724 -0.043454 -0.351614 -1.829863           1  ...   \n",
       "9   0.501103  1.468885  0.077201 -0.658486 -2.750711           1  ...   \n",
       "21  1.822697  2.110189  0.001128 -1.194630 -2.316521           1  ...   \n",
       "15  0.325675  0.864966 -0.016040 -0.194653 -1.326800           1  ...   \n",
       "3   0.052939  1.088882  0.097879 -0.328814 -2.446205           1  ...   \n",
       "17  0.588526  0.865918 -0.040494 -0.571998 -1.760246           1  ...   \n",
       "13  1.176804  0.758453 -0.676921  0.391611  0.120602           0  ...   \n",
       "16  0.178004  0.812742  0.180672 -0.238797 -1.662482           1  ...   \n",
       "10 -0.199262  0.974723  0.268842 -0.467785 -2.722602           1  ...   \n",
       "11  0.245246  0.806252 -0.015290  0.229676 -1.306966           1  ...   \n",
       "5  -0.519133  0.585030  0.507113 -0.135155 -2.102638           1  ...   \n",
       "4  -0.107984  0.146719 -0.093676  0.690875 -0.409942           3  ...   \n",
       "36  0.016586  0.921625  0.045616 -0.925760 -2.175695           1  ...   \n",
       "30  0.851235  1.143784 -0.160790 -0.873189 -1.829719           1  ...   \n",
       "12  1.260524  1.667611 -0.009806 -1.136322 -2.197466           1  ...   \n",
       "42  1.124812  1.577986  0.105534 -0.979994 -2.337184           1  ...   \n",
       "26 -0.002777  0.469100 -0.143461  0.053381 -0.829481           1  ...   \n",
       "34  1.631493  0.721900 -0.433694 -1.435800 -1.684095           0  ...   \n",
       "22 -0.081808  0.588984  0.105501 -0.076636 -0.636622           1  ...   \n",
       "43  0.615067  1.107918 -0.020603 -0.934905 -2.220119           1  ...   \n",
       "20 -0.661940 -0.248854 -0.433722  0.364787 -0.001542           3  ...   \n",
       "6   1.104751  0.985701 -0.506663 -0.425916 -0.171626           0  ...   \n",
       "28 -0.011039  0.811457 -0.082622 -0.494972 -1.969455           1  ...   \n",
       "23  0.202871  0.686622  0.032070 -0.247469 -1.305554           1  ...   \n",
       "35  0.621612  1.023866 -0.471838 -0.766982 -1.636908           1  ...   \n",
       "38  0.621368  0.919204 -0.386493 -0.388548 -1.634971           1  ...   \n",
       "19  1.026456  1.228318 -0.296128 -0.053338 -0.788718           1  ...   \n",
       "18  0.304518  0.226620 -0.025210 -0.489502 -0.374248           0  ...   \n",
       "41  0.428577  0.285757 -0.846267 -0.894159 -1.493839           0  ...   \n",
       "39  0.364253  0.379690 -0.457309 -0.785911 -1.845633           1  ...   \n",
       "24  0.047401  0.375215 -0.170479 -0.382424 -1.172442           1  ...   \n",
       "32 -1.713714 -0.538762 -0.393460  0.545567 -0.063143           3  ...   \n",
       "29  0.395256  1.000959  0.175339 -0.201797 -1.324477           1  ...   \n",
       "25  0.395459  1.042943  0.022283 -0.482421 -1.941301           1  ...   \n",
       "44  1.262991  1.009285 -0.492742 -0.473064 -1.219598           0  ...   \n",
       "31  0.206834  0.766934 -0.179407 -0.320940 -1.073912           1  ...   \n",
       "47  0.871596  1.423532 -0.626452 -1.387030 -2.147008           1  ...   \n",
       "27  0.050483 -0.181728 -0.997377  0.402509  1.525117           4  ...   \n",
       "46  0.056861  0.420689 -0.452365 -0.647716 -1.782401           1  ...   \n",
       "40  0.468371  0.181858 -0.753747 -0.272448 -0.840296           0  ...   \n",
       "37  1.104509  0.841718 -0.472763 -0.727338 -1.490901           0  ...   \n",
       "33 -0.550536  0.225544 -0.327804 -0.064255 -0.747808           1  ...   \n",
       "45  0.565102  0.852865 -0.317847 -1.154289 -2.186511           1  ...   \n",
       "48  0.991381  0.797809 -0.580056 -1.052267 -0.908465           0  ...   \n",
       "\n",
       "    R_movie  R_though  R_the2  R_plot  R_is  R_interesting  R_period  \\\n",
       "2     -0.08     -0.27   -0.17   -0.12 -0.11           0.19     -0.22   \n",
       "7     -0.07     -0.19   -0.11   -0.10 -0.09           0.44     -0.30   \n",
       "0      0.01      0.30   -0.19   -0.18 -0.10           0.19     -0.15   \n",
       "1     -0.08     -0.33   -0.07   -0.13 -0.09           0.63     -0.38   \n",
       "8     -0.09     -0.32   -0.04   -0.45 -0.03           0.83      0.00   \n",
       "14     0.00     -0.26   -0.07    0.17 -0.00          -0.77     -0.15   \n",
       "9      0.08      0.09   -0.32    0.43 -0.03          -0.71     -0.20   \n",
       "21     0.10     -0.46   -0.17    0.47 -0.08          -0.71     -0.13   \n",
       "15     0.10      0.38    0.03    0.39  0.03          -0.16     -0.38   \n",
       "3      0.02      0.62   -0.17    0.04 -0.03          -0.17     -0.37   \n",
       "17    -0.00     -0.05    0.02    0.54  0.00          -1.17     -0.08   \n",
       "13     0.08     -0.30   -0.09    0.16 -0.39          -0.79     -0.73   \n",
       "16     0.23      0.07   -0.08    0.86 -0.07          -1.27     -0.42   \n",
       "10     0.13      0.36   -0.16    0.65 -0.04          -0.59     -0.44   \n",
       "11    -0.16     -0.11   -0.14    0.27 -0.20          -0.96     -0.65   \n",
       "5     -0.01      0.13   -0.04    0.18 -0.04          -0.46     -0.22   \n",
       "4     -0.15      0.14    0.21   -0.10 -0.11           0.51      0.06   \n",
       "36     0.18     -0.27   -0.13    0.43 -0.10          -1.27     -0.14   \n",
       "30     0.14     -0.03   -0.03    0.72 -0.03          -1.34     -0.40   \n",
       "12     0.02     -0.09    0.05    0.86 -0.46          -2.03      0.24   \n",
       "42     0.11      0.19    0.23    0.53 -0.02          -1.04     -0.04   \n",
       "26    -0.21      0.17   -0.25    0.66 -0.43          -1.77     -0.58   \n",
       "34     0.57     -1.26    0.22    0.76  0.33          -1.13     -0.69   \n",
       "22     0.22      0.10    0.07    0.47 -0.04          -1.11     -0.26   \n",
       "43     0.15     -0.11   -0.01    0.68 -0.05          -1.25     -0.16   \n",
       "20     0.04      0.41    0.20   -0.53  0.11           2.49     -0.43   \n",
       "6      0.05     -0.35   -0.01    0.46  0.02          -1.23      0.09   \n",
       "28     0.13      0.14   -0.05    0.87 -0.07          -0.94     -0.31   \n",
       "23     0.15     -0.19   -0.11    0.56 -0.04          -0.98     -0.35   \n",
       "35     0.26      0.03   -0.06    0.52 -0.01          -0.69      0.05   \n",
       "38    -0.03     -0.25   -0.10    0.35 -0.13          -0.95     -0.20   \n",
       "19     0.03      0.40   -0.04    1.13 -0.32          -2.70     -0.13   \n",
       "18     0.21      0.38    0.31    1.33 -0.09          -2.72     -0.92   \n",
       "41     0.57     -1.14    0.05    0.93 -0.32          -4.42      0.18   \n",
       "39     0.10     -0.06   -0.19    0.51 -0.27          -1.24     -0.81   \n",
       "24     0.07      0.17    0.06    0.67 -0.10          -1.53     -0.45   \n",
       "32    -0.17      0.43    0.46   -0.45  0.62           2.04      0.28   \n",
       "29    -0.05      0.57    0.00    0.51 -0.10          -1.57     -0.41   \n",
       "25    -0.20      0.33   -0.32    0.64 -0.26          -2.06     -0.91   \n",
       "44     0.22     -0.18   -0.12    0.50 -0.14          -1.47     -0.19   \n",
       "31     0.12      0.56    0.16    0.72 -0.05          -1.21     -0.47   \n",
       "47     0.12      0.57    0.06    0.58 -0.33          -1.82     -0.43   \n",
       "27     0.13     -0.39    0.33   -1.09  0.13           5.43     -0.21   \n",
       "46     0.00      0.53    0.08    0.67 -0.18          -1.86     -0.35   \n",
       "40     0.48      0.50   -0.15    1.29 -0.35          -3.51     -0.12   \n",
       "37     0.37     -0.62   -0.26    0.84 -0.16          -1.74     -0.28   \n",
       "33     0.44     -0.07   -0.05    0.84 -0.38          -1.97     -0.86   \n",
       "45    -0.00      0.57   -0.10    0.54 -0.18          -1.53     -0.42   \n",
       "48     1.12     -0.17    0.10    1.76 -0.60          -4.26      0.56   \n",
       "\n",
       "                                         heatmap_html  R_though_pct  total_dim  \n",
       "2   <span style=\"background-color:#0000ff\">i</span...      0.073943          8  \n",
       "7   <span style=\"background-color:#0e0eff\">i</span...      0.064998          7  \n",
       "0   <span style=\"background-color:#5656ff\">i</span...      0.161319          6  \n",
       "1   <span style=\"background-color:#6c6cff\">i</span...      0.120398          7  \n",
       "8   <span style=\"background-color:#eeeeff\">i</span...      0.097719          8  \n",
       "14  <span style=\"background-color:#dedeff\">i</span...      0.054635          8  \n",
       "9   <span style=\"background-color:#0000ff\">i</span...      0.002044          9  \n",
       "21  <span style=\"background-color:#bebeff\">i</span...      0.196490         10  \n",
       "15  <span style=\"background-color:#0404ff\">i</span...      0.204157          9  \n",
       "3   <span style=\"background-color:#3e3eff\">i</span...      0.202914         10  \n",
       "17  <span style=\"background-color:#2e2eff\">i</span...      0.000396         12  \n",
       "13  <span style=\"background-color:#babaff\">i</span...      0.014450         24  \n",
       "16  <span style=\"background-color:#6464ff\">i</span...      0.001279         10  \n",
       "10  <span style=\"background-color:#6868ff\">i</span...      0.043446         11  \n",
       "11  <span style=\"background-color:#ceceff\">i</span...      0.002407         14  \n",
       "5   <span style=\"background-color:#0000ff\">i</span...      0.011905         18  \n",
       "4   <span style=\"background-color:#0000ff\">i</span...      0.012255         13  \n",
       "36  <span style=\"background-color:#babaff\">i</span...      0.024066         19  \n",
       "30  <span style=\"background-color:#8e8eff\">i</span...      0.000239         15  \n",
       "12  <span style=\"background-color:#a2a2ff\">i</span...      0.000692         19  \n",
       "42  <span style=\"background-color:#b6b6ff\">i</span...      0.015765         23  \n",
       "26  <span style=\"background-color:#5656ff\">i</span...      0.003939         22  \n",
       "34  <span style=\"background-color:#c2c2ff\">i</span...      0.136894         30  \n",
       "22  <span style=\"background-color:#9393ff\">i</span...      0.005439         11  \n",
       "43  <span style=\"background-color:#c3c3ff\">i</span...      0.003574         24  \n",
       "20  <span style=\"background-color:#ffe6e6\">i</span...      0.018304         25  \n",
       "6   <span style=\"background-color:#f8f8ff\">i</span...      0.017236         23  \n",
       "28  <span style=\"background-color:#a2a2ff\">i</span...      0.006320         13  \n",
       "23  <span style=\"background-color:#6060ff\">i</span...      0.012055         12  \n",
       "35  <span style=\"background-color:#f8f8ff\">i</span...      0.000718         18  \n",
       "38  <span style=\"background-color:#0404ff\">i</span...      0.023568         22  \n",
       "19  <span style=\"background-color:#7c7cff\">i</span...      0.013609         20  \n",
       "18  <span style=\"background-color:#e6e6ff\">i</span...      0.008294         15  \n",
       "41  <span style=\"background-color:#b2b2ff\">i</span...      0.037701         35  \n",
       "39  <span style=\"background-color:#7676ff\">i</span...      0.000926         25  \n",
       "24  <span style=\"background-color:#4141ff\">i</span...      0.005537         14  \n",
       "32  <span style=\"background-color:#ffe6e6\">i</span...      0.023541         20  \n",
       "29  <span style=\"background-color:#8e8eff\">i</span...      0.084464         14  \n",
       "25  <span style=\"background-color:#3030ff\">i</span...      0.009768         17  \n",
       "44  <span style=\"background-color:#f8f8ff\">i</span...      0.009123         25  \n",
       "31  <span style=\"background-color:#aaaaff\">i</span...      0.097829         17  \n",
       "47  <span style=\"background-color:#6e6eff\">i</span...      0.042087         35  \n",
       "27  <span style=\"background-color:#ececff\">i</span...      0.004796         27  \n",
       "46  <span style=\"background-color:#9393ff\">i</span...      0.049084         30  \n",
       "40  <span style=\"background-color:#bcbcff\">i</span...      0.009565         30  \n",
       "37  <span style=\"background-color:#b6b6ff\">i</span...      0.031311         20  \n",
       "33  <span style=\"background-color:#7e7eff\">i</span...      0.000408         25  \n",
       "45  <span style=\"background-color:#7171ff\">i</span...      0.060802         27  \n",
       "48  <span style=\"background-color:#dadaff\">i</span...      0.000895         40  \n",
       "\n",
       "[49 rows x 23 columns]"
      ]
     },
     "execution_count": 23,
     "metadata": {},
     "output_type": "execute_result"
    }
   ],
   "source": [
    "lrp_output.sort_values(by=['fine_accuracy'])"
   ]
  },
  {
   "cell_type": "code",
   "execution_count": 24,
   "metadata": {},
   "outputs": [
    {
     "name": "stderr",
     "output_type": "stream",
     "text": [
      "<ipython-input-24-d35390955ccc>:4: UserWarning: Matplotlib is currently using module://ipykernel.pylab.backend_inline, which is a non-GUI backend, so cannot show the figure.\n",
      "  fig.show()\n"
     ]
    },
    {
     "data": {
      "image/png": "[encoded data removed]",
      "text/plain": [
       "<Figure size 576x576 with 1 Axes>"
      ]
     },
     "metadata": {
      "needs_background": "light"
     },
     "output_type": "display_data"
    }
   ],
   "source": [
    "fig = plt.figure(figsize = (8,8))\n",
    "ax = fig.add_subplot(1,1,1)\n",
    "ax.scatter(lrp_output['pred_class'], lrp_output['R_though_pct'])\n",
    "fig.show()"
   ]
  },
  {
   "cell_type": "code",
   "execution_count": 25,
   "metadata": {},
   "outputs": [
    {
     "name": "stderr",
     "output_type": "stream",
     "text": [
      "<ipython-input-25-073e29addfd8>:4: UserWarning: Matplotlib is currently using module://ipykernel.pylab.backend_inline, which is a non-GUI backend, so cannot show the figure.\n",
      "  fig.show()\n"
     ]
    },
    {
     "data": {
      "image/png": "[encoded data removed]",
      "text/plain": [
       "<Figure size 576x576 with 1 Axes>"
      ]
     },
     "metadata": {
      "needs_background": "light"
     },
     "output_type": "display_data"
    }
   ],
   "source": [
    "fig = plt.figure(figsize = (8,8))\n",
    "ax = fig.add_subplot(1,1,1)\n",
    "ax.scatter(lrp_output['pred_class'], lrp_output['R_though'])\n",
    "fig.show()"
   ]
  },
  {
   "cell_type": "code",
   "execution_count": 48,
   "metadata": {},
   "outputs": [
    {
     "data": {
      "text/html": [
       "<span style=\"background-color:#f8f8ff\">i</span> <span style=\"background-color:#ff0000\">hate</span> <span style=\"background-color:#fafaff\">the</span> <span style=\"background-color:#fffafa\">movie</span> <span style=\"background-color:#d8d8ff\">though</span> <span style=\"background-color:#fefeff\">the</span> <span style=\"background-color:#ffcccc\">plot</span> <span style=\"background-color:#fffefe\">is</span> <span style=\"background-color:#7676ff\">interesting</span> <span style=\"background-color:#fff4f4\">.</span> "
      ],
      "text/plain": [
       "<IPython.core.display.HTML object>"
      ]
     },
     "metadata": {},
     "output_type": "display_data"
    },
    {
     "data": {
      "text/html": [
       "<span style=\"background-color:#babaff\">i</span> <span style=\"background-color:#ff0000\">hate</span> <span style=\"background-color:#fff2f2\">the</span> <span style=\"background-color:#fff6f6\">movie</span> <span style=\"background-color:#dcdcff\">though</span> <span style=\"background-color:#f3f3ff\">the</span> <span style=\"background-color:#ffecec\">plot</span> <span style=\"background-color:#d0d0ff\">is</span> <span style=\"background-color:#a0a0ff\">interesting</span> <span style=\"background-color:#a6a6ff\">.</span> "
      ],
      "text/plain": [
       "<IPython.core.display.HTML object>"
      ]
     },
     "metadata": {},
     "output_type": "display_data"
    },
    {
     "data": {
      "text/html": [
       "<span style=\"background-color:#e6e6ff\">i</span> <span style=\"background-color:#ff0606\">hate</span> <span style=\"background-color:#fff6f6\">the</span> <span style=\"background-color:#ffecec\">movie</span> <span style=\"background-color:#ffdcdc\">though</span> <span style=\"background-color:#ffe2e2\">the</span> <span style=\"background-color:#ff8282\">plot</span> <span style=\"background-color:#f6f6ff\">is</span> <span style=\"background-color:#0000ff\">interesting</span> <span style=\"background-color:#a8a8ff\">.</span> "
      ],
      "text/plain": [
       "<IPython.core.display.HTML object>"
      ]
     },
     "metadata": {},
     "output_type": "display_data"
    },
    {
     "data": {
      "text/html": [
       "<span style=\"background-color:#c2c2ff\">i</span> <span style=\"background-color:#ff0000\">hate</span> <span style=\"background-color:#ffecec\">the</span> <span style=\"background-color:#ffc8c8\">movie</span> <span style=\"background-color:#8383ff\">though</span> <span style=\"background-color:#ffeaea\">the</span> <span style=\"background-color:#ffb3b3\">plot</span> <span style=\"background-color:#ffdede\">is</span> <span style=\"background-color:#9090ff\">interesting</span> <span style=\"background-color:#babaff\">.</span> "
      ],
      "text/plain": [
       "<IPython.core.display.HTML object>"
      ]
     },
     "metadata": {},
     "output_type": "display_data"
    },
    {
     "data": {
      "text/html": [
       "<span style=\"background-color:#b6b6ff\">i</span> <span style=\"background-color:#ff0000\">hate</span> <span style=\"background-color:#dadaff\">the</span> <span style=\"background-color:#ffdcdc\">movie</span> <span style=\"background-color:#c3c3ff\">though</span> <span style=\"background-color:#e6e6ff\">the</span> <span style=\"background-color:#ffaeae\">plot</span> <span style=\"background-color:#f0f0ff\">is</span> <span style=\"background-color:#5858ff\">interesting</span> <span style=\"background-color:#e3e3ff\">.</span> "
      ],
      "text/plain": [
       "<IPython.core.display.HTML object>"
      ]
     },
     "metadata": {},
     "output_type": "display_data"
    },
    {
     "data": {
      "text/html": [
       "<span style=\"background-color:#bcbcff\">i</span> <span style=\"background-color:#ff1111\">hate</span> <span style=\"background-color:#eeeeff\">the</span> <span style=\"background-color:#ffdcdc\">movie</span> <span style=\"background-color:#ffdada\">though</span> <span style=\"background-color:#f3f3ff\">the</span> <span style=\"background-color:#ffa2a2\">plot</span> <span style=\"background-color:#e6e6ff\">is</span> <span style=\"background-color:#0000ff\">interesting</span> <span style=\"background-color:#f6f6ff\">.</span> "
      ],
      "text/plain": [
       "<IPython.core.display.HTML object>"
      ]
     },
     "metadata": {},
     "output_type": "display_data"
    },
    {
     "data": {
      "text/html": [
       "<span style=\"background-color:#b2b2ff\">i</span> <span style=\"background-color:#ff4141\">hate</span> <span style=\"background-color:#fffcfc\">the</span> <span style=\"background-color:#ffdede\">movie</span> <span style=\"background-color:#bebeff\">though</span> <span style=\"background-color:#fffcfc\">the</span> <span style=\"background-color:#ffc8c8\">plot</span> <span style=\"background-color:#ececff\">is</span> <span style=\"background-color:#0000ff\">interesting</span> <span style=\"background-color:#fff4f4\">.</span> "
      ],
      "text/plain": [
       "<IPython.core.display.HTML object>"
      ]
     },
     "metadata": {},
     "output_type": "display_data"
    },
    {
     "data": {
      "text/html": [
       "<span style=\"background-color:#f8f8ff\">i</span> <span style=\"background-color:#ff5454\">hate</span> <span style=\"background-color:#f0f0ff\">the</span> <span style=\"background-color:#ffd8d8\">movie</span> <span style=\"background-color:#e0e0ff\">though</span> <span style=\"background-color:#eaeaff\">the</span> <span style=\"background-color:#ffa8a8\">plot</span> <span style=\"background-color:#e6e6ff\">is</span> <span style=\"background-color:#0000ff\">interesting</span> <span style=\"background-color:#dedeff\">.</span> "
      ],
      "text/plain": [
       "<IPython.core.display.HTML object>"
      ]
     },
     "metadata": {},
     "output_type": "display_data"
    },
    {
     "data": {
      "text/html": [
       "<span style=\"background-color:#dadaff\">i</span> <span style=\"background-color:#ff4e4e\">hate</span> <span style=\"background-color:#fefeff\">the</span> <span style=\"background-color:#ffbcbc\">movie</span> <span style=\"background-color:#f6f6ff\">though</span> <span style=\"background-color:#fff8f8\">the</span> <span style=\"background-color:#ff9696\">plot</span> <span style=\"background-color:#dadaff\">is</span> <span style=\"background-color:#0000ff\">interesting</span> <span style=\"background-color:#ffdede\">.</span> "
      ],
      "text/plain": [
       "<IPython.core.display.HTML object>"
      ]
     },
     "metadata": {},
     "output_type": "display_data"
    }
   ],
   "source": [
    "for sentence in lrp_output[lrp_output['pred_class'] == 0]['heatmap_html']:\n",
    "    display(HTML(sentence))"
   ]
  },
  {
   "cell_type": "code",
   "execution_count": 49,
   "metadata": {},
   "outputs": [
    {
     "data": {
      "text/html": [
       "<span style=\"background-color:#3e3eff\">i</span> <span style=\"background-color:#ff0000\">hate</span> <span style=\"background-color:#c6c6ff\">the</span> <span style=\"background-color:#fffafa\">movie</span> <span style=\"background-color:#ff5050\">though</span> <span style=\"background-color:#d0d0ff\">the</span> <span style=\"background-color:#fff6f6\">plot</span> <span style=\"background-color:#f6f6ff\">is</span> <span style=\"background-color:#d0d0ff\">interesting</span> <span style=\"background-color:#9696ff\">.</span> "
      ],
      "text/plain": [
       "<IPython.core.display.HTML object>"
      ]
     },
     "metadata": {},
     "output_type": "display_data"
    },
    {
     "data": {
      "text/html": [
       "<span style=\"background-color:#0000ff\">i</span> <span style=\"background-color:#ff1c1c\">hate</span> <span style=\"background-color:#ffcccc\">the</span> <span style=\"background-color:#fafaff\">movie</span> <span style=\"background-color:#ffd3d3\">though</span> <span style=\"background-color:#f0f0ff\">the</span> <span style=\"background-color:#ffc2c2\">plot</span> <span style=\"background-color:#f2f2ff\">is</span> <span style=\"background-color:#6868ff\">interesting</span> <span style=\"background-color:#b8b8ff\">.</span> "
      ],
      "text/plain": [
       "<IPython.core.display.HTML object>"
      ]
     },
     "metadata": {},
     "output_type": "display_data"
    },
    {
     "data": {
      "text/html": [
       "<span style=\"background-color:#0000ff\">i</span> <span style=\"background-color:#ff2020\">hate</span> <span style=\"background-color:#f8f8ff\">the</span> <span style=\"background-color:#ffeeee\">movie</span> <span style=\"background-color:#ffeeee\">though</span> <span style=\"background-color:#c2c2ff\">the</span> <span style=\"background-color:#ffacac\">plot</span> <span style=\"background-color:#f8f8ff\">is</span> <span style=\"background-color:#7676ff\">interesting</span> <span style=\"background-color:#dadaff\">.</span> "
      ],
      "text/plain": [
       "<IPython.core.display.HTML object>"
      ]
     },
     "metadata": {},
     "output_type": "display_data"
    },
    {
     "data": {
      "text/html": [
       "<span style=\"background-color:#6868ff\">i</span> <span style=\"background-color:#ff0000\">hate</span> <span style=\"background-color:#fefeff\">the</span> <span style=\"background-color:#ffe2e2\">movie</span> <span style=\"background-color:#ffb0b0\">though</span> <span style=\"background-color:#dcdcff\">the</span> <span style=\"background-color:#ff7070\">plot</span> <span style=\"background-color:#f6f6ff\">is</span> <span style=\"background-color:#8080ff\">interesting</span> <span style=\"background-color:#a0a0ff\">.</span> "
      ],
      "text/plain": [
       "<IPython.core.display.HTML object>"
      ]
     },
     "metadata": {},
     "output_type": "display_data"
    },
    {
     "data": {
      "text/html": [
       "<span style=\"background-color:#ceceff\">i</span> <span style=\"background-color:#ff0000\">hate</span> <span style=\"background-color:#fff6f6\">the</span> <span style=\"background-color:#e8e8ff\">movie</span> <span style=\"background-color:#f0f0ff\">though</span> <span style=\"background-color:#ececff\">the</span> <span style=\"background-color:#ffdada\">plot</span> <span style=\"background-color:#e2e2ff\">is</span> <span style=\"background-color:#7878ff\">interesting</span> <span style=\"background-color:#a6a6ff\">.</span> "
      ],
      "text/plain": [
       "<IPython.core.display.HTML object>"
      ]
     },
     "metadata": {},
     "output_type": "display_data"
    },
    {
     "data": {
      "text/html": [
       "<span style=\"background-color:#a2a2ff\">i</span> <span style=\"background-color:#ff0000\">hate</span> <span style=\"background-color:#e3e3ff\">the</span> <span style=\"background-color:#fffcfc\">movie</span> <span style=\"background-color:#f3f3ff\">though</span> <span style=\"background-color:#fffafa\">the</span> <span style=\"background-color:#ffa3a3\">plot</span> <span style=\"background-color:#ceceff\">is</span> <span style=\"background-color:#2626ff\">interesting</span> <span style=\"background-color:#ffe6e6\">.</span> "
      ],
      "text/plain": [
       "<IPython.core.display.HTML object>"
      ]
     },
     "metadata": {},
     "output_type": "display_data"
    },
    {
     "data": {
      "text/html": [
       "<span style=\"background-color:#dedeff\">i</span> <span style=\"background-color:#ff1111\">hate</span> <span style=\"background-color:#e3e3ff\">the</span> <span style=\"background-color:#fffefe\">movie</span> <span style=\"background-color:#aaaaff\">though</span> <span style=\"background-color:#e8e8ff\">the</span> <span style=\"background-color:#ffc8c8\">plot</span> <span style=\"background-color:#fefeff\">is</span> <span style=\"background-color:#0000ff\">interesting</span> <span style=\"background-color:#ccccff\">.</span> "
      ],
      "text/plain": [
       "<IPython.core.display.HTML object>"
      ]
     },
     "metadata": {},
     "output_type": "display_data"
    },
    {
     "data": {
      "text/html": [
       "<span style=\"background-color:#0404ff\">i</span> <span style=\"background-color:#ff5959\">hate</span> <span style=\"background-color:#ffaeae\">the</span> <span style=\"background-color:#ffc0c0\">movie</span> <span style=\"background-color:#ff0808\">though</span> <span style=\"background-color:#ffecec\">the</span> <span style=\"background-color:#ff0000\">plot</span> <span style=\"background-color:#ffecec\">is</span> <span style=\"background-color:#9393ff\">interesting</span> <span style=\"background-color:#0808ff\">.</span> "
      ],
      "text/plain": [
       "<IPython.core.display.HTML object>"
      ]
     },
     "metadata": {},
     "output_type": "display_data"
    },
    {
     "data": {
      "text/html": [
       "<span style=\"background-color:#6464ff\">i</span> <span style=\"background-color:#ff5c5c\">hate</span> <span style=\"background-color:#fffafa\">the</span> <span style=\"background-color:#ffd0d0\">movie</span> <span style=\"background-color:#fff0f0\">though</span> <span style=\"background-color:#eeeeff\">the</span> <span style=\"background-color:#ff5151\">plot</span> <span style=\"background-color:#f0f0ff\">is</span> <span style=\"background-color:#0000ff\">interesting</span> <span style=\"background-color:#aaaaff\">.</span> "
      ],
      "text/plain": [
       "<IPython.core.display.HTML object>"
      ]
     },
     "metadata": {},
     "output_type": "display_data"
    },
    {
     "data": {
      "text/html": [
       "<span style=\"background-color:#2e2eff\">i</span> <span style=\"background-color:#ff0000\">hate</span> <span style=\"background-color:#fff6f6\">the</span> <span style=\"background-color:#fefeff\">movie</span> <span style=\"background-color:#f6f6ff\">though</span> <span style=\"background-color:#fffcfc\">the</span> <span style=\"background-color:#ffacac\">plot</span> <span style=\"background-color:#fffefe\">is</span> <span style=\"background-color:#4c4cff\">interesting</span> <span style=\"background-color:#f3f3ff\">.</span> "
      ],
      "text/plain": [
       "<IPython.core.display.HTML object>"
      ]
     },
     "metadata": {},
     "output_type": "display_data"
    },
    {
     "data": {
      "text/html": [
       "<span style=\"background-color:#7c7cff\">i</span> <span style=\"background-color:#ffa0a0\">hate</span> <span style=\"background-color:#fffafa\">the</span> <span style=\"background-color:#fffcfc\">movie</span> <span style=\"background-color:#ffdada\">though</span> <span style=\"background-color:#fcfcff\">the</span> <span style=\"background-color:#ff9393\">plot</span> <span style=\"background-color:#e0e0ff\">is</span> <span style=\"background-color:#0000ff\">interesting</span> <span style=\"background-color:#f3f3ff\">.</span> "
      ],
      "text/plain": [
       "<IPython.core.display.HTML object>"
      ]
     },
     "metadata": {},
     "output_type": "display_data"
    },
    {
     "data": {
      "text/html": [
       "<span style=\"background-color:#bebeff\">i</span> <span style=\"background-color:#fff0f0\">hate</span> <span style=\"background-color:#b3b3ff\">the</span> <span style=\"background-color:#ffdada\">movie</span> <span style=\"background-color:#5959ff\">though</span> <span style=\"background-color:#c2c2ff\">the</span> <span style=\"background-color:#ff5656\">plot</span> <span style=\"background-color:#e0e0ff\">is</span> <span style=\"background-color:#0000ff\">interesting</span> <span style=\"background-color:#d2d2ff\">.</span> "
      ],
      "text/plain": [
       "<IPython.core.display.HTML object>"
      ]
     },
     "metadata": {},
     "output_type": "display_data"
    },
    {
     "data": {
      "text/html": [
       "<span style=\"background-color:#9393ff\">i</span> <span style=\"background-color:#ffd0d0\">hate</span> <span style=\"background-color:#fff6f6\">the</span> <span style=\"background-color:#ffcccc\">movie</span> <span style=\"background-color:#ffe8e8\">though</span> <span style=\"background-color:#ffeeee\">the</span> <span style=\"background-color:#ff9393\">plot</span> <span style=\"background-color:#f3f3ff\">is</span> <span style=\"background-color:#0000ff\">interesting</span> <span style=\"background-color:#c3c3ff\">.</span> "
      ],
      "text/plain": [
       "<IPython.core.display.HTML object>"
      ]
     },
     "metadata": {},
     "output_type": "display_data"
    },
    {
     "data": {
      "text/html": [
       "<span style=\"background-color:#6060ff\">i</span> <span style=\"background-color:#ff0000\">hate</span> <span style=\"background-color:#aaaaff\">the</span> <span style=\"background-color:#ffd8d8\">movie</span> <span style=\"background-color:#d0d0ff\">though</span> <span style=\"background-color:#e2e2ff\">the</span> <span style=\"background-color:#ff7070\">plot</span> <span style=\"background-color:#f3f3ff\">is</span> <span style=\"background-color:#0606ff\">interesting</span> <span style=\"background-color:#a6a6ff\">.</span> "
      ],
      "text/plain": [
       "<IPython.core.display.HTML object>"
      ]
     },
     "metadata": {},
     "output_type": "display_data"
    },
    {
     "data": {
      "text/html": [
       "<span style=\"background-color:#4141ff\">i</span> <span style=\"background-color:#ff6060\">hate</span> <span style=\"background-color:#fffcfc\">the</span> <span style=\"background-color:#fff4f4\">movie</span> <span style=\"background-color:#ffe2e2\">though</span> <span style=\"background-color:#fff4f4\">the</span> <span style=\"background-color:#ff8e8e\">plot</span> <span style=\"background-color:#eeeeff\">is</span> <span style=\"background-color:#0000ff\">interesting</span> <span style=\"background-color:#b3b3ff\">.</span> "
      ],
      "text/plain": [
       "<IPython.core.display.HTML object>"
      ]
     },
     "metadata": {},
     "output_type": "display_data"
    },
    {
     "data": {
      "text/html": [
       "<span style=\"background-color:#3030ff\">i</span> <span style=\"background-color:#ff3838\">hate</span> <span style=\"background-color:#fefeff\">the</span> <span style=\"background-color:#e6e6ff\">movie</span> <span style=\"background-color:#ffd6d6\">though</span> <span style=\"background-color:#d6d6ff\">the</span> <span style=\"background-color:#ffaeae\">plot</span> <span style=\"background-color:#dedeff\">is</span> <span style=\"background-color:#0000ff\">interesting</span> <span style=\"background-color:#8e8eff\">.</span> "
      ],
      "text/plain": [
       "<IPython.core.display.HTML object>"
      ]
     },
     "metadata": {},
     "output_type": "display_data"
    },
    {
     "data": {
      "text/html": [
       "<span style=\"background-color:#5656ff\">i</span> <span style=\"background-color:#ff4040\">hate</span> <span style=\"background-color:#fefeff\">the</span> <span style=\"background-color:#e0e0ff\">movie</span> <span style=\"background-color:#ffe6e6\">though</span> <span style=\"background-color:#dcdcff\">the</span> <span style=\"background-color:#ffa0a0\">plot</span> <span style=\"background-color:#c0c0ff\">is</span> <span style=\"background-color:#0000ff\">interesting</span> <span style=\"background-color:#aaaaff\">.</span> "
      ],
      "text/plain": [
       "<IPython.core.display.HTML object>"
      ]
     },
     "metadata": {},
     "output_type": "display_data"
    },
    {
     "data": {
      "text/html": [
       "<span style=\"background-color:#a2a2ff\">i</span> <span style=\"background-color:#ff0000\">hate</span> <span style=\"background-color:#f3f3ff\">the</span> <span style=\"background-color:#ffe0e0\">movie</span> <span style=\"background-color:#ffdede\">though</span> <span style=\"background-color:#f3f3ff\">the</span> <span style=\"background-color:#ff3030\">plot</span> <span style=\"background-color:#eeeeff\">is</span> <span style=\"background-color:#2020ff\">interesting</span> <span style=\"background-color:#b6b6ff\">.</span> "
      ],
      "text/plain": [
       "<IPython.core.display.HTML object>"
      ]
     },
     "metadata": {},
     "output_type": "display_data"
    },
    {
     "data": {
      "text/html": [
       "<span style=\"background-color:#8e8eff\">i</span> <span style=\"background-color:#ffc6c6\">hate</span> <span style=\"background-color:#fff6f6\">the</span> <span style=\"background-color:#f6f6ff\">movie</span> <span style=\"background-color:#ffa2a2\">though</span> <span style=\"background-color:#fffefe\">the</span> <span style=\"background-color:#ffacac\">plot</span> <span style=\"background-color:#eeeeff\">is</span> <span style=\"background-color:#0000ff\">interesting</span> <span style=\"background-color:#bcbcff\">.</span> "
      ],
      "text/plain": [
       "<IPython.core.display.HTML object>"
      ]
     },
     "metadata": {},
     "output_type": "display_data"
    },
    {
     "data": {
      "text/html": [
       "<span style=\"background-color:#8e8eff\">i</span> <span style=\"background-color:#ff4949\">hate</span> <span style=\"background-color:#eaeaff\">the</span> <span style=\"background-color:#ffe4e4\">movie</span> <span style=\"background-color:#fafaff\">though</span> <span style=\"background-color:#fafaff\">the</span> <span style=\"background-color:#ff7676\">plot</span> <span style=\"background-color:#fafaff\">is</span> <span style=\"background-color:#0000ff\">interesting</span> <span style=\"background-color:#b2b2ff\">.</span> "
      ],
      "text/plain": [
       "<IPython.core.display.HTML object>"
      ]
     },
     "metadata": {},
     "output_type": "display_data"
    },
    {
     "data": {
      "text/html": [
       "<span style=\"background-color:#aaaaff\">i</span> <span style=\"background-color:#ff6e6e\">hate</span> <span style=\"background-color:#ffeaea\">the</span> <span style=\"background-color:#ffe6e6\">movie</span> <span style=\"background-color:#ff8888\">though</span> <span style=\"background-color:#ffdcdc\">the</span> <span style=\"background-color:#ff6666\">plot</span> <span style=\"background-color:#f3f3ff\">is</span> <span style=\"background-color:#0000ff\">interesting</span> <span style=\"background-color:#9c9cff\">.</span> "
      ],
      "text/plain": [
       "<IPython.core.display.HTML object>"
      ]
     },
     "metadata": {},
     "output_type": "display_data"
    },
    {
     "data": {
      "text/html": [
       "<span style=\"background-color:#7e7eff\">i</span> <span style=\"background-color:#ff0000\">hate</span> <span style=\"background-color:#dadaff\">the</span> <span style=\"background-color:#ffcccc\">movie</span> <span style=\"background-color:#f6f6ff\">though</span> <span style=\"background-color:#f8f8ff\">the</span> <span style=\"background-color:#ff9e9e\">plot</span> <span style=\"background-color:#d3d3ff\">is</span> <span style=\"background-color:#1c1cff\">interesting</span> <span style=\"background-color:#9c9cff\">.</span> "
      ],
      "text/plain": [
       "<IPython.core.display.HTML object>"
      ]
     },
     "metadata": {},
     "output_type": "display_data"
    },
    {
     "data": {
      "text/html": [
       "<span style=\"background-color:#f8f8ff\">i</span> <span style=\"background-color:#ff0e0e\">hate</span> <span style=\"background-color:#dadaff\">the</span> <span style=\"background-color:#ff9e9e\">movie</span> <span style=\"background-color:#fff4f4\">though</span> <span style=\"background-color:#e6e6ff\">the</span> <span style=\"background-color:#ff4040\">plot</span> <span style=\"background-color:#fcfcff\">is</span> <span style=\"background-color:#0000ff\">interesting</span> <span style=\"background-color:#ffeeee\">.</span> "
      ],
      "text/plain": [
       "<IPython.core.display.HTML object>"
      ]
     },
     "metadata": {},
     "output_type": "display_data"
    },
    {
     "data": {
      "text/html": [
       "<span style=\"background-color:#babaff\">i</span> <span style=\"background-color:#ff3939\">hate</span> <span style=\"background-color:#f2f2ff\">the</span> <span style=\"background-color:#ffdcdc\">movie</span> <span style=\"background-color:#c8c8ff\">though</span> <span style=\"background-color:#e6e6ff\">the</span> <span style=\"background-color:#ffa8a8\">plot</span> <span style=\"background-color:#eaeaff\">is</span> <span style=\"background-color:#0000ff\">interesting</span> <span style=\"background-color:#e3e3ff\">.</span> "
      ],
      "text/plain": [
       "<IPython.core.display.HTML object>"
      ]
     },
     "metadata": {},
     "output_type": "display_data"
    },
    {
     "data": {
      "text/html": [
       "<span style=\"background-color:#0404ff\">i</span> <span style=\"background-color:#ff3636\">hate</span> <span style=\"background-color:#b0b0ff\">the</span> <span style=\"background-color:#f8f8ff\">movie</span> <span style=\"background-color:#bcbcff\">though</span> <span style=\"background-color:#e6e6ff\">the</span> <span style=\"background-color:#ffa0a0\">plot</span> <span style=\"background-color:#dcdcff\">is</span> <span style=\"background-color:#0000ff\">interesting</span> <span style=\"background-color:#cacaff\">.</span> "
      ],
      "text/plain": [
       "<IPython.core.display.HTML object>"
      ]
     },
     "metadata": {},
     "output_type": "display_data"
    },
    {
     "data": {
      "text/html": [
       "<span style=\"background-color:#7676ff\">i</span> <span style=\"background-color:#ff4141\">hate</span> <span style=\"background-color:#dadaff\">the</span> <span style=\"background-color:#ffeaea\">movie</span> <span style=\"background-color:#f2f2ff\">though</span> <span style=\"background-color:#d8d8ff\">the</span> <span style=\"background-color:#ff9696\">plot</span> <span style=\"background-color:#c6c6ff\">is</span> <span style=\"background-color:#0000ff\">interesting</span> <span style=\"background-color:#5858ff\">.</span> "
      ],
      "text/plain": [
       "<IPython.core.display.HTML object>"
      ]
     },
     "metadata": {},
     "output_type": "display_data"
    },
    {
     "data": {
      "text/html": [
       "<span style=\"background-color:#b6b6ff\">i</span> <span style=\"background-color:#ff3838\">hate</span> <span style=\"background-color:#ffb8b8\">the</span> <span style=\"background-color:#ffe2e2\">movie</span> <span style=\"background-color:#ffd0d0\">though</span> <span style=\"background-color:#ffc6c6\">the</span> <span style=\"background-color:#ff7e7e\">plot</span> <span style=\"background-color:#fafaff\">is</span> <span style=\"background-color:#0000ff\">interesting</span> <span style=\"background-color:#f3f3ff\">.</span> "
      ],
      "text/plain": [
       "<IPython.core.display.HTML object>"
      ]
     },
     "metadata": {},
     "output_type": "display_data"
    },
    {
     "data": {
      "text/html": [
       "<span style=\"background-color:#c3c3ff\">i</span> <span style=\"background-color:#ff2020\">hate</span> <span style=\"background-color:#dedeff\">the</span> <span style=\"background-color:#ffe0e0\">movie</span> <span style=\"background-color:#eaeaff\">though</span> <span style=\"background-color:#fefeff\">the</span> <span style=\"background-color:#ff7474\">plot</span> <span style=\"background-color:#f6f6ff\">is</span> <span style=\"background-color:#0000ff\">interesting</span> <span style=\"background-color:#dedeff\">.</span> "
      ],
      "text/plain": [
       "<IPython.core.display.HTML object>"
      ]
     },
     "metadata": {},
     "output_type": "display_data"
    },
    {
     "data": {
      "text/html": [
       "<span style=\"background-color:#7171ff\">i</span> <span style=\"background-color:#ff3636\">hate</span> <span style=\"background-color:#f3f3ff\">the</span> <span style=\"background-color:#fefeff\">movie</span> <span style=\"background-color:#ffa0a0\">though</span> <span style=\"background-color:#eeeeff\">the</span> <span style=\"background-color:#ffa6a6\">plot</span> <span style=\"background-color:#e0e0ff\">is</span> <span style=\"background-color:#0000ff\">interesting</span> <span style=\"background-color:#babaff\">.</span> "
      ],
      "text/plain": [
       "<IPython.core.display.HTML object>"
      ]
     },
     "metadata": {},
     "output_type": "display_data"
    },
    {
     "data": {
      "text/html": [
       "<span style=\"background-color:#9393ff\">i</span> <span style=\"background-color:#ff8686\">hate</span> <span style=\"background-color:#fff6f6\">the</span> <span style=\"background-color:#fffefe\">movie</span> <span style=\"background-color:#ffb6b6\">though</span> <span style=\"background-color:#fff4f4\">the</span> <span style=\"background-color:#ffa2a2\">plot</span> <span style=\"background-color:#e6e6ff\">is</span> <span style=\"background-color:#0000ff\">interesting</span> <span style=\"background-color:#d0d0ff\">.</span> "
      ],
      "text/plain": [
       "<IPython.core.display.HTML object>"
      ]
     },
     "metadata": {},
     "output_type": "display_data"
    },
    {
     "data": {
      "text/html": [
       "<span style=\"background-color:#6e6eff\">i</span> <span style=\"background-color:#ff2828\">hate</span> <span style=\"background-color:#ffe6e6\">the</span> <span style=\"background-color:#ffeeee\">movie</span> <span style=\"background-color:#ffaeae\">though</span> <span style=\"background-color:#fff6f6\">the</span> <span style=\"background-color:#ffaeae\">plot</span> <span style=\"background-color:#d0d0ff\">is</span> <span style=\"background-color:#0000ff\">interesting</span> <span style=\"background-color:#c2c2ff\">.</span> "
      ],
      "text/plain": [
       "<IPython.core.display.HTML object>"
      ]
     },
     "metadata": {},
     "output_type": "display_data"
    }
   ],
   "source": [
    "for sentence in lrp_output[lrp_output['pred_class'] == 1]['heatmap_html']:\n",
    "    display(HTML(sentence))"
   ]
  },
  {
   "cell_type": "code",
   "execution_count": 50,
   "metadata": {},
   "outputs": [
    {
     "data": {
      "text/html": [
       "<span style=\"background-color:#5656ff\">i</span> <span style=\"background-color:#0000ff\">hate</span> <span style=\"background-color:#ff8686\">the</span> <span style=\"background-color:#fff8f8\">movie</span> <span style=\"background-color:#ff5050\">though</span> <span style=\"background-color:#9292ff\">the</span> <span style=\"background-color:#9a9aff\">plot</span> <span style=\"background-color:#c8c8ff\">is</span> <span style=\"background-color:#ff9292\">interesting</span> <span style=\"background-color:#aaaaff\">.</span> "
      ],
      "text/plain": [
       "<IPython.core.display.HTML object>"
      ]
     },
     "metadata": {},
     "output_type": "display_data"
    },
    {
     "data": {
      "text/html": [
       "<span style=\"background-color:#6c6cff\">i</span> <span style=\"background-color:#ffa6a6\">hate</span> <span style=\"background-color:#ffb0b0\">the</span> <span style=\"background-color:#dedeff\">movie</span> <span style=\"background-color:#7878ff\">though</span> <span style=\"background-color:#e3e3ff\">the</span> <span style=\"background-color:#ccccff\">plot</span> <span style=\"background-color:#dadaff\">is</span> <span style=\"background-color:#ff0000\">interesting</span> <span style=\"background-color:#6666ff\">.</span> "
      ],
      "text/plain": [
       "<IPython.core.display.HTML object>"
      ]
     },
     "metadata": {},
     "output_type": "display_data"
    },
    {
     "data": {
      "text/html": [
       "<span style=\"background-color:#0000ff\">i</span> <span style=\"background-color:#ff0101\">hate</span> <span style=\"background-color:#c0c0ff\">the</span> <span style=\"background-color:#dcdcff\">movie</span> <span style=\"background-color:#9090ff\">though</span> <span style=\"background-color:#b8b8ff\">the</span> <span style=\"background-color:#ceceff\">plot</span> <span style=\"background-color:#d2d2ff\">is</span> <span style=\"background-color:#ffb2b2\">interesting</span> <span style=\"background-color:#a2a2ff\">.</span> "
      ],
      "text/plain": [
       "<IPython.core.display.HTML object>"
      ]
     },
     "metadata": {},
     "output_type": "display_data"
    },
    {
     "data": {
      "text/html": [
       "<span style=\"background-color:#0000ff\">i</span> <span style=\"background-color:#9e9eff\">hate</span> <span style=\"background-color:#ffe0e0\">the</span> <span style=\"background-color:#dadaff\">movie</span> <span style=\"background-color:#ffdcdc\">though</span> <span style=\"background-color:#ffcccc\">the</span> <span style=\"background-color:#e3e3ff\">plot</span> <span style=\"background-color:#e3e3ff\">is</span> <span style=\"background-color:#ff8080\">interesting</span> <span style=\"background-color:#fff0f0\">.</span> "
      ],
      "text/plain": [
       "<IPython.core.display.HTML object>"
      ]
     },
     "metadata": {},
     "output_type": "display_data"
    },
    {
     "data": {
      "text/html": [
       "<span style=\"background-color:#0e0eff\">i</span> <span style=\"background-color:#a8a8ff\">hate</span> <span style=\"background-color:#ffc3c3\">the</span> <span style=\"background-color:#d8d8ff\">movie</span> <span style=\"background-color:#9090ff\">though</span> <span style=\"background-color:#c0c0ff\">the</span> <span style=\"background-color:#c3c3ff\">plot</span> <span style=\"background-color:#cacaff\">is</span> <span style=\"background-color:#ff0000\">interesting</span> <span style=\"background-color:#5151ff\">.</span> "
      ],
      "text/plain": [
       "<IPython.core.display.HTML object>"
      ]
     },
     "metadata": {},
     "output_type": "display_data"
    },
    {
     "data": {
      "text/html": [
       "<span style=\"background-color:#eeeeff\">i</span> <span style=\"background-color:#ffc2c2\">hate</span> <span style=\"background-color:#e8e8ff\">the</span> <span style=\"background-color:#e2e2ff\">movie</span> <span style=\"background-color:#9e9eff\">though</span> <span style=\"background-color:#f2f2ff\">the</span> <span style=\"background-color:#7474ff\">plot</span> <span style=\"background-color:#f6f6ff\">is</span> <span style=\"background-color:#ff0000\">interesting</span> <span style=\"background-color:#fffefe\">.</span> "
      ],
      "text/plain": [
       "<IPython.core.display.HTML object>"
      ]
     },
     "metadata": {},
     "output_type": "display_data"
    },
    {
     "data": {
      "text/html": [
       "<span style=\"background-color:#ffe6e6\">i</span> <span style=\"background-color:#6868ff\">hate</span> <span style=\"background-color:#ffe4e4\">the</span> <span style=\"background-color:#fffcfc\">movie</span> <span style=\"background-color:#ffd6d6\">though</span> <span style=\"background-color:#ffeaea\">the</span> <span style=\"background-color:#c8c8ff\">plot</span> <span style=\"background-color:#fff4f4\">is</span> <span style=\"background-color:#ff0000\">interesting</span> <span style=\"background-color:#d3d3ff\">.</span> "
      ],
      "text/plain": [
       "<IPython.core.display.HTML object>"
      ]
     },
     "metadata": {},
     "output_type": "display_data"
    },
    {
     "data": {
      "text/html": [
       "<span style=\"background-color:#ffe6e6\">i</span> <span style=\"background-color:#5656ff\">hate</span> <span style=\"background-color:#ff9393\">the</span> <span style=\"background-color:#eaeaff\">movie</span> <span style=\"background-color:#ffc8c8\">though</span> <span style=\"background-color:#ffc6c6\">the</span> <span style=\"background-color:#c6c6ff\">plot</span> <span style=\"background-color:#ffb2b2\">is</span> <span style=\"background-color:#ff0000\">interesting</span> <span style=\"background-color:#ffdcdc\">.</span> "
      ],
      "text/plain": [
       "<IPython.core.display.HTML object>"
      ]
     },
     "metadata": {},
     "output_type": "display_data"
    }
   ],
   "source": [
    "for sentence in lrp_output[lrp_output['pred_class'] == 3]['heatmap_html']:\n",
    "    display(HTML(sentence))"
   ]
  },
  {
   "cell_type": "code",
   "execution_count": 51,
   "metadata": {},
   "outputs": [
    {
     "data": {
      "text/html": [
       "<span style=\"background-color:#ececff\">i</span> <span style=\"background-color:#fff8f8\">hate</span> <span style=\"background-color:#ffdcdc\">the</span> <span style=\"background-color:#fffafa\">movie</span> <span style=\"background-color:#ececff\">though</span> <span style=\"background-color:#fff0f0\">the</span> <span style=\"background-color:#ccccff\">plot</span> <span style=\"background-color:#fff8f8\">is</span> <span style=\"background-color:#ff0000\">interesting</span> <span style=\"background-color:#f3f3ff\">.</span> "
      ],
      "text/plain": [
       "<IPython.core.display.HTML object>"
      ]
     },
     "metadata": {},
     "output_type": "display_data"
    }
   ],
   "source": [
    "for sentence in lrp_output[lrp_output['pred_class'] == 4]['heatmap_html']:\n",
    "    display(HTML(sentence))"
   ]
  },
  {
   "cell_type": "code",
   "execution_count": 53,
   "metadata": {},
   "outputs": [
    {
     "data": {
      "text/html": [
       "<div>\n",
       "<style scoped>\n",
       "    .dataframe tbody tr th:only-of-type {\n",
       "        vertical-align: middle;\n",
       "    }\n",
       "\n",
       "    .dataframe tbody tr th {\n",
       "        vertical-align: top;\n",
       "    }\n",
       "\n",
       "    .dataframe thead th {\n",
       "        text-align: right;\n",
       "    }\n",
       "</style>\n",
       "<table border=\"1\" class=\"dataframe\">\n",
       "  <thead>\n",
       "    <tr style=\"text-align: right;\">\n",
       "      <th></th>\n",
       "      <th>hidden_dimensions</th>\n",
       "      <th>embedding_dimensions</th>\n",
       "      <th>fine_accuracy</th>\n",
       "      <th>coarse_accuracy</th>\n",
       "      <th>pred_0</th>\n",
       "      <th>pred_1</th>\n",
       "      <th>pred_2</th>\n",
       "      <th>pred_3</th>\n",
       "      <th>pred_4</th>\n",
       "      <th>pred_class</th>\n",
       "      <th>...</th>\n",
       "      <th>R_the</th>\n",
       "      <th>R_movie</th>\n",
       "      <th>R_though</th>\n",
       "      <th>R_the2</th>\n",
       "      <th>R_plot</th>\n",
       "      <th>R_is</th>\n",
       "      <th>R_interesting</th>\n",
       "      <th>R_period</th>\n",
       "      <th>R_though_pct</th>\n",
       "      <th>total_dim</th>\n",
       "    </tr>\n",
       "  </thead>\n",
       "  <tbody>\n",
       "    <tr>\n",
       "      <th>count</th>\n",
       "      <td>1.0</td>\n",
       "      <td>1.0</td>\n",
       "      <td>1.000</td>\n",
       "      <td>1.000000</td>\n",
       "      <td>1.000000</td>\n",
       "      <td>1.000000</td>\n",
       "      <td>1.000000</td>\n",
       "      <td>1.000000</td>\n",
       "      <td>1.000000</td>\n",
       "      <td>1.0</td>\n",
       "      <td>...</td>\n",
       "      <td>1.00</td>\n",
       "      <td>1.00</td>\n",
       "      <td>1.00</td>\n",
       "      <td>1.00</td>\n",
       "      <td>1.00</td>\n",
       "      <td>1.00</td>\n",
       "      <td>1.00</td>\n",
       "      <td>1.00</td>\n",
       "      <td>1.000000</td>\n",
       "      <td>1.0</td>\n",
       "    </tr>\n",
       "    <tr>\n",
       "      <th>mean</th>\n",
       "      <td>7.0</td>\n",
       "      <td>20.0</td>\n",
       "      <td>0.454</td>\n",
       "      <td>0.788835</td>\n",
       "      <td>0.050483</td>\n",
       "      <td>-0.181728</td>\n",
       "      <td>-0.997377</td>\n",
       "      <td>0.402509</td>\n",
       "      <td>1.525117</td>\n",
       "      <td>4.0</td>\n",
       "      <td>...</td>\n",
       "      <td>0.72</td>\n",
       "      <td>0.13</td>\n",
       "      <td>-0.39</td>\n",
       "      <td>0.33</td>\n",
       "      <td>-1.09</td>\n",
       "      <td>0.13</td>\n",
       "      <td>5.43</td>\n",
       "      <td>-0.21</td>\n",
       "      <td>0.004796</td>\n",
       "      <td>27.0</td>\n",
       "    </tr>\n",
       "    <tr>\n",
       "      <th>std</th>\n",
       "      <td>NaN</td>\n",
       "      <td>NaN</td>\n",
       "      <td>NaN</td>\n",
       "      <td>NaN</td>\n",
       "      <td>NaN</td>\n",
       "      <td>NaN</td>\n",
       "      <td>NaN</td>\n",
       "      <td>NaN</td>\n",
       "      <td>NaN</td>\n",
       "      <td>NaN</td>\n",
       "      <td>...</td>\n",
       "      <td>NaN</td>\n",
       "      <td>NaN</td>\n",
       "      <td>NaN</td>\n",
       "      <td>NaN</td>\n",
       "      <td>NaN</td>\n",
       "      <td>NaN</td>\n",
       "      <td>NaN</td>\n",
       "      <td>NaN</td>\n",
       "      <td>NaN</td>\n",
       "      <td>NaN</td>\n",
       "    </tr>\n",
       "    <tr>\n",
       "      <th>min</th>\n",
       "      <td>7.0</td>\n",
       "      <td>20.0</td>\n",
       "      <td>0.454</td>\n",
       "      <td>0.788835</td>\n",
       "      <td>0.050483</td>\n",
       "      <td>-0.181728</td>\n",
       "      <td>-0.997377</td>\n",
       "      <td>0.402509</td>\n",
       "      <td>1.525117</td>\n",
       "      <td>4.0</td>\n",
       "      <td>...</td>\n",
       "      <td>0.72</td>\n",
       "      <td>0.13</td>\n",
       "      <td>-0.39</td>\n",
       "      <td>0.33</td>\n",
       "      <td>-1.09</td>\n",
       "      <td>0.13</td>\n",
       "      <td>5.43</td>\n",
       "      <td>-0.21</td>\n",
       "      <td>0.004796</td>\n",
       "      <td>27.0</td>\n",
       "    </tr>\n",
       "    <tr>\n",
       "      <th>25%</th>\n",
       "      <td>7.0</td>\n",
       "      <td>20.0</td>\n",
       "      <td>0.454</td>\n",
       "      <td>0.788835</td>\n",
       "      <td>0.050483</td>\n",
       "      <td>-0.181728</td>\n",
       "      <td>-0.997377</td>\n",
       "      <td>0.402509</td>\n",
       "      <td>1.525117</td>\n",
       "      <td>4.0</td>\n",
       "      <td>...</td>\n",
       "      <td>0.72</td>\n",
       "      <td>0.13</td>\n",
       "      <td>-0.39</td>\n",
       "      <td>0.33</td>\n",
       "      <td>-1.09</td>\n",
       "      <td>0.13</td>\n",
       "      <td>5.43</td>\n",
       "      <td>-0.21</td>\n",
       "      <td>0.004796</td>\n",
       "      <td>27.0</td>\n",
       "    </tr>\n",
       "    <tr>\n",
       "      <th>50%</th>\n",
       "      <td>7.0</td>\n",
       "      <td>20.0</td>\n",
       "      <td>0.454</td>\n",
       "      <td>0.788835</td>\n",
       "      <td>0.050483</td>\n",
       "      <td>-0.181728</td>\n",
       "      <td>-0.997377</td>\n",
       "      <td>0.402509</td>\n",
       "      <td>1.525117</td>\n",
       "      <td>4.0</td>\n",
       "      <td>...</td>\n",
       "      <td>0.72</td>\n",
       "      <td>0.13</td>\n",
       "      <td>-0.39</td>\n",
       "      <td>0.33</td>\n",
       "      <td>-1.09</td>\n",
       "      <td>0.13</td>\n",
       "      <td>5.43</td>\n",
       "      <td>-0.21</td>\n",
       "      <td>0.004796</td>\n",
       "      <td>27.0</td>\n",
       "    </tr>\n",
       "    <tr>\n",
       "      <th>75%</th>\n",
       "      <td>7.0</td>\n",
       "      <td>20.0</td>\n",
       "      <td>0.454</td>\n",
       "      <td>0.788835</td>\n",
       "      <td>0.050483</td>\n",
       "      <td>-0.181728</td>\n",
       "      <td>-0.997377</td>\n",
       "      <td>0.402509</td>\n",
       "      <td>1.525117</td>\n",
       "      <td>4.0</td>\n",
       "      <td>...</td>\n",
       "      <td>0.72</td>\n",
       "      <td>0.13</td>\n",
       "      <td>-0.39</td>\n",
       "      <td>0.33</td>\n",
       "      <td>-1.09</td>\n",
       "      <td>0.13</td>\n",
       "      <td>5.43</td>\n",
       "      <td>-0.21</td>\n",
       "      <td>0.004796</td>\n",
       "      <td>27.0</td>\n",
       "    </tr>\n",
       "    <tr>\n",
       "      <th>max</th>\n",
       "      <td>7.0</td>\n",
       "      <td>20.0</td>\n",
       "      <td>0.454</td>\n",
       "      <td>0.788835</td>\n",
       "      <td>0.050483</td>\n",
       "      <td>-0.181728</td>\n",
       "      <td>-0.997377</td>\n",
       "      <td>0.402509</td>\n",
       "      <td>1.525117</td>\n",
       "      <td>4.0</td>\n",
       "      <td>...</td>\n",
       "      <td>0.72</td>\n",
       "      <td>0.13</td>\n",
       "      <td>-0.39</td>\n",
       "      <td>0.33</td>\n",
       "      <td>-1.09</td>\n",
       "      <td>0.13</td>\n",
       "      <td>5.43</td>\n",
       "      <td>-0.21</td>\n",
       "      <td>0.004796</td>\n",
       "      <td>27.0</td>\n",
       "    </tr>\n",
       "  </tbody>\n",
       "</table>\n",
       "<p>8 rows × 22 columns</p>\n",
       "</div>"
      ],
      "text/plain": [
       "       hidden_dimensions  embedding_dimensions  fine_accuracy  \\\n",
       "count                1.0                   1.0          1.000   \n",
       "mean                 7.0                  20.0          0.454   \n",
       "std                  NaN                   NaN            NaN   \n",
       "min                  7.0                  20.0          0.454   \n",
       "25%                  7.0                  20.0          0.454   \n",
       "50%                  7.0                  20.0          0.454   \n",
       "75%                  7.0                  20.0          0.454   \n",
       "max                  7.0                  20.0          0.454   \n",
       "\n",
       "       coarse_accuracy    pred_0    pred_1    pred_2    pred_3    pred_4  \\\n",
       "count         1.000000  1.000000  1.000000  1.000000  1.000000  1.000000   \n",
       "mean          0.788835  0.050483 -0.181728 -0.997377  0.402509  1.525117   \n",
       "std                NaN       NaN       NaN       NaN       NaN       NaN   \n",
       "min           0.788835  0.050483 -0.181728 -0.997377  0.402509  1.525117   \n",
       "25%           0.788835  0.050483 -0.181728 -0.997377  0.402509  1.525117   \n",
       "50%           0.788835  0.050483 -0.181728 -0.997377  0.402509  1.525117   \n",
       "75%           0.788835  0.050483 -0.181728 -0.997377  0.402509  1.525117   \n",
       "max           0.788835  0.050483 -0.181728 -0.997377  0.402509  1.525117   \n",
       "\n",
       "       pred_class  ...  R_the  R_movie  R_though  R_the2  R_plot  R_is  \\\n",
       "count         1.0  ...   1.00     1.00      1.00    1.00    1.00  1.00   \n",
       "mean          4.0  ...   0.72     0.13     -0.39    0.33   -1.09  0.13   \n",
       "std           NaN  ...    NaN      NaN       NaN     NaN     NaN   NaN   \n",
       "min           4.0  ...   0.72     0.13     -0.39    0.33   -1.09  0.13   \n",
       "25%           4.0  ...   0.72     0.13     -0.39    0.33   -1.09  0.13   \n",
       "50%           4.0  ...   0.72     0.13     -0.39    0.33   -1.09  0.13   \n",
       "75%           4.0  ...   0.72     0.13     -0.39    0.33   -1.09  0.13   \n",
       "max           4.0  ...   0.72     0.13     -0.39    0.33   -1.09  0.13   \n",
       "\n",
       "       R_interesting  R_period  R_though_pct  total_dim  \n",
       "count           1.00      1.00      1.000000        1.0  \n",
       "mean            5.43     -0.21      0.004796       27.0  \n",
       "std              NaN       NaN           NaN        NaN  \n",
       "min             5.43     -0.21      0.004796       27.0  \n",
       "25%             5.43     -0.21      0.004796       27.0  \n",
       "50%             5.43     -0.21      0.004796       27.0  \n",
       "75%             5.43     -0.21      0.004796       27.0  \n",
       "max             5.43     -0.21      0.004796       27.0  \n",
       "\n",
       "[8 rows x 22 columns]"
      ]
     },
     "execution_count": 53,
     "metadata": {},
     "output_type": "execute_result"
    }
   ],
   "source": [
    "lrp_output[lrp_output['pred_class'] == 4].describe()"
   ]
  },
  {
   "cell_type": "code",
   "execution_count": 47,
   "metadata": {},
   "outputs": [
    {
     "data": {
      "text/html": [
       "<div>\n",
       "<style scoped>\n",
       "    .dataframe tbody tr th:only-of-type {\n",
       "        vertical-align: middle;\n",
       "    }\n",
       "\n",
       "    .dataframe tbody tr th {\n",
       "        vertical-align: top;\n",
       "    }\n",
       "\n",
       "    .dataframe thead th {\n",
       "        text-align: right;\n",
       "    }\n",
       "</style>\n",
       "<table border=\"1\" class=\"dataframe\">\n",
       "  <thead>\n",
       "    <tr style=\"text-align: right;\">\n",
       "      <th></th>\n",
       "      <th>hidden_dimensions</th>\n",
       "      <th>embedding_dimensions</th>\n",
       "      <th>fine_accuracy</th>\n",
       "      <th>coarse_accuracy</th>\n",
       "      <th>pred_0</th>\n",
       "      <th>pred_1</th>\n",
       "      <th>pred_2</th>\n",
       "      <th>pred_3</th>\n",
       "      <th>pred_4</th>\n",
       "      <th>pred_class</th>\n",
       "      <th>...</th>\n",
       "      <th>R_the</th>\n",
       "      <th>R_movie</th>\n",
       "      <th>R_though</th>\n",
       "      <th>R_the2</th>\n",
       "      <th>R_plot</th>\n",
       "      <th>R_is</th>\n",
       "      <th>R_interesting</th>\n",
       "      <th>R_period</th>\n",
       "      <th>R_though_pct</th>\n",
       "      <th>total_dim</th>\n",
       "    </tr>\n",
       "  </thead>\n",
       "  <tbody>\n",
       "    <tr>\n",
       "      <th>count</th>\n",
       "      <td>31.000000</td>\n",
       "      <td>31.000000</td>\n",
       "      <td>31.000000</td>\n",
       "      <td>31.000000</td>\n",
       "      <td>31.000000</td>\n",
       "      <td>31.000000</td>\n",
       "      <td>31.000000</td>\n",
       "      <td>31.000000</td>\n",
       "      <td>31.000000</td>\n",
       "      <td>31.0</td>\n",
       "      <td>...</td>\n",
       "      <td>31.000000</td>\n",
       "      <td>31.000000</td>\n",
       "      <td>31.000000</td>\n",
       "      <td>31.000000</td>\n",
       "      <td>31.000000</td>\n",
       "      <td>31.000000</td>\n",
       "      <td>31.000000</td>\n",
       "      <td>31.000000</td>\n",
       "      <td>31.000000</td>\n",
       "      <td>31.000000</td>\n",
       "    </tr>\n",
       "    <tr>\n",
       "      <th>mean</th>\n",
       "      <td>9.645161</td>\n",
       "      <td>7.548387</td>\n",
       "      <td>0.434919</td>\n",
       "      <td>0.789579</td>\n",
       "      <td>0.364909</td>\n",
       "      <td>0.935521</td>\n",
       "      <td>-0.083855</td>\n",
       "      <td>-0.521412</td>\n",
       "      <td>-1.742207</td>\n",
       "      <td>1.0</td>\n",
       "      <td>...</td>\n",
       "      <td>-0.039677</td>\n",
       "      <td>0.072258</td>\n",
       "      <td>0.130000</td>\n",
       "      <td>-0.059032</td>\n",
       "      <td>0.563226</td>\n",
       "      <td>-0.129355</td>\n",
       "      <td>-1.220323</td>\n",
       "      <td>-0.336452</td>\n",
       "      <td>0.038083</td>\n",
       "      <td>17.193548</td>\n",
       "    </tr>\n",
       "    <tr>\n",
       "      <th>std</th>\n",
       "      <td>5.822648</td>\n",
       "      <td>4.288269</td>\n",
       "      <td>0.014413</td>\n",
       "      <td>0.011667</td>\n",
       "      <td>0.519217</td>\n",
       "      <td>0.411801</td>\n",
       "      <td>0.245608</td>\n",
       "      <td>0.408203</td>\n",
       "      <td>0.573656</td>\n",
       "      <td>0.0</td>\n",
       "      <td>...</td>\n",
       "      <td>0.150077</td>\n",
       "      <td>0.132733</td>\n",
       "      <td>0.295624</td>\n",
       "      <td>0.125469</td>\n",
       "      <td>0.229207</td>\n",
       "      <td>0.136307</td>\n",
       "      <td>0.578789</td>\n",
       "      <td>0.254579</td>\n",
       "      <td>0.060014</td>\n",
       "      <td>6.828467</td>\n",
       "    </tr>\n",
       "    <tr>\n",
       "      <th>min</th>\n",
       "      <td>3.000000</td>\n",
       "      <td>3.000000</td>\n",
       "      <td>0.411000</td>\n",
       "      <td>0.768811</td>\n",
       "      <td>-0.550536</td>\n",
       "      <td>0.225544</td>\n",
       "      <td>-0.626452</td>\n",
       "      <td>-1.387030</td>\n",
       "      <td>-2.750711</td>\n",
       "      <td>1.0</td>\n",
       "      <td>...</td>\n",
       "      <td>-0.330000</td>\n",
       "      <td>-0.210000</td>\n",
       "      <td>-0.460000</td>\n",
       "      <td>-0.320000</td>\n",
       "      <td>0.040000</td>\n",
       "      <td>-0.460000</td>\n",
       "      <td>-2.700000</td>\n",
       "      <td>-0.910000</td>\n",
       "      <td>0.000239</td>\n",
       "      <td>8.000000</td>\n",
       "    </tr>\n",
       "    <tr>\n",
       "      <th>25%</th>\n",
       "      <td>5.000000</td>\n",
       "      <td>4.000000</td>\n",
       "      <td>0.425750</td>\n",
       "      <td>0.780036</td>\n",
       "      <td>0.031993</td>\n",
       "      <td>0.726778</td>\n",
       "      <td>-0.237768</td>\n",
       "      <td>-0.829550</td>\n",
       "      <td>-2.181103</td>\n",
       "      <td>1.0</td>\n",
       "      <td>...</td>\n",
       "      <td>-0.140000</td>\n",
       "      <td>0.000000</td>\n",
       "      <td>-0.080000</td>\n",
       "      <td>-0.135000</td>\n",
       "      <td>0.450000</td>\n",
       "      <td>-0.190000</td>\n",
       "      <td>-1.550000</td>\n",
       "      <td>-0.435000</td>\n",
       "      <td>0.002226</td>\n",
       "      <td>11.500000</td>\n",
       "    </tr>\n",
       "    <tr>\n",
       "      <th>50%</th>\n",
       "      <td>7.000000</td>\n",
       "      <td>7.000000</td>\n",
       "      <td>0.435000</td>\n",
       "      <td>0.790655</td>\n",
       "      <td>0.325675</td>\n",
       "      <td>0.865918</td>\n",
       "      <td>-0.020603</td>\n",
       "      <td>-0.467785</td>\n",
       "      <td>-1.829719</td>\n",
       "      <td>1.0</td>\n",
       "      <td>...</td>\n",
       "      <td>-0.010000</td>\n",
       "      <td>0.100000</td>\n",
       "      <td>0.100000</td>\n",
       "      <td>-0.050000</td>\n",
       "      <td>0.540000</td>\n",
       "      <td>-0.070000</td>\n",
       "      <td>-1.210000</td>\n",
       "      <td>-0.350000</td>\n",
       "      <td>0.011905</td>\n",
       "      <td>17.000000</td>\n",
       "    </tr>\n",
       "    <tr>\n",
       "      <th>75%</th>\n",
       "      <td>15.000000</td>\n",
       "      <td>10.000000</td>\n",
       "      <td>0.446750</td>\n",
       "      <td>0.797330</td>\n",
       "      <td>0.618217</td>\n",
       "      <td>1.098400</td>\n",
       "      <td>0.061409</td>\n",
       "      <td>-0.220297</td>\n",
       "      <td>-1.315722</td>\n",
       "      <td>1.0</td>\n",
       "      <td>...</td>\n",
       "      <td>0.060000</td>\n",
       "      <td>0.135000</td>\n",
       "      <td>0.370000</td>\n",
       "      <td>0.025000</td>\n",
       "      <td>0.675000</td>\n",
       "      <td>-0.035000</td>\n",
       "      <td>-0.855000</td>\n",
       "      <td>-0.155000</td>\n",
       "      <td>0.046265</td>\n",
       "      <td>22.000000</td>\n",
       "    </tr>\n",
       "    <tr>\n",
       "      <th>max</th>\n",
       "      <td>20.000000</td>\n",
       "      <td>15.000000</td>\n",
       "      <td>0.462500</td>\n",
       "      <td>0.815534</td>\n",
       "      <td>1.822697</td>\n",
       "      <td>2.110189</td>\n",
       "      <td>0.507113</td>\n",
       "      <td>0.229676</td>\n",
       "      <td>-0.636622</td>\n",
       "      <td>1.0</td>\n",
       "      <td>...</td>\n",
       "      <td>0.290000</td>\n",
       "      <td>0.440000</td>\n",
       "      <td>0.620000</td>\n",
       "      <td>0.230000</td>\n",
       "      <td>1.130000</td>\n",
       "      <td>0.030000</td>\n",
       "      <td>-0.160000</td>\n",
       "      <td>0.240000</td>\n",
       "      <td>0.204157</td>\n",
       "      <td>35.000000</td>\n",
       "    </tr>\n",
       "  </tbody>\n",
       "</table>\n",
       "<p>8 rows × 22 columns</p>\n",
       "</div>"
      ],
      "text/plain": [
       "       hidden_dimensions  embedding_dimensions  fine_accuracy  \\\n",
       "count          31.000000             31.000000      31.000000   \n",
       "mean            9.645161              7.548387       0.434919   \n",
       "std             5.822648              4.288269       0.014413   \n",
       "min             3.000000              3.000000       0.411000   \n",
       "25%             5.000000              4.000000       0.425750   \n",
       "50%             7.000000              7.000000       0.435000   \n",
       "75%            15.000000             10.000000       0.446750   \n",
       "max            20.000000             15.000000       0.462500   \n",
       "\n",
       "       coarse_accuracy     pred_0     pred_1     pred_2     pred_3     pred_4  \\\n",
       "count        31.000000  31.000000  31.000000  31.000000  31.000000  31.000000   \n",
       "mean          0.789579   0.364909   0.935521  -0.083855  -0.521412  -1.742207   \n",
       "std           0.011667   0.519217   0.411801   0.245608   0.408203   0.573656   \n",
       "min           0.768811  -0.550536   0.225544  -0.626452  -1.387030  -2.750711   \n",
       "25%           0.780036   0.031993   0.726778  -0.237768  -0.829550  -2.181103   \n",
       "50%           0.790655   0.325675   0.865918  -0.020603  -0.467785  -1.829719   \n",
       "75%           0.797330   0.618217   1.098400   0.061409  -0.220297  -1.315722   \n",
       "max           0.815534   1.822697   2.110189   0.507113   0.229676  -0.636622   \n",
       "\n",
       "       pred_class  ...      R_the    R_movie   R_though     R_the2     R_plot  \\\n",
       "count        31.0  ...  31.000000  31.000000  31.000000  31.000000  31.000000   \n",
       "mean          1.0  ...  -0.039677   0.072258   0.130000  -0.059032   0.563226   \n",
       "std           0.0  ...   0.150077   0.132733   0.295624   0.125469   0.229207   \n",
       "min           1.0  ...  -0.330000  -0.210000  -0.460000  -0.320000   0.040000   \n",
       "25%           1.0  ...  -0.140000   0.000000  -0.080000  -0.135000   0.450000   \n",
       "50%           1.0  ...  -0.010000   0.100000   0.100000  -0.050000   0.540000   \n",
       "75%           1.0  ...   0.060000   0.135000   0.370000   0.025000   0.675000   \n",
       "max           1.0  ...   0.290000   0.440000   0.620000   0.230000   1.130000   \n",
       "\n",
       "            R_is  R_interesting   R_period  R_though_pct  total_dim  \n",
       "count  31.000000      31.000000  31.000000     31.000000  31.000000  \n",
       "mean   -0.129355      -1.220323  -0.336452      0.038083  17.193548  \n",
       "std     0.136307       0.578789   0.254579      0.060014   6.828467  \n",
       "min    -0.460000      -2.700000  -0.910000      0.000239   8.000000  \n",
       "25%    -0.190000      -1.550000  -0.435000      0.002226  11.500000  \n",
       "50%    -0.070000      -1.210000  -0.350000      0.011905  17.000000  \n",
       "75%    -0.035000      -0.855000  -0.155000      0.046265  22.000000  \n",
       "max     0.030000      -0.160000   0.240000      0.204157  35.000000  \n",
       "\n",
       "[8 rows x 22 columns]"
      ]
     },
     "execution_count": 47,
     "metadata": {},
     "output_type": "execute_result"
    }
   ],
   "source": [
    "lrp_output[lrp_output['pred_class'] == 1].describe()"
   ]
  },
  {
   "cell_type": "code",
   "execution_count": null,
   "metadata": {},
   "outputs": [],
   "source": []
  }
 ],
 "metadata": {
  "kernelspec": {
   "display_name": "Python 3",
   "language": "python",
   "name": "python3"
  },
  "language_info": {
   "codemirror_mode": {
    "name": "ipython",
    "version": 3
   },
   "file_extension": ".py",
   "mimetype": "text/x-python",
   "name": "python",
   "nbconvert_exporter": "python",
   "pygments_lexer": "ipython3",
   "version": "3.8.2"
  }
 },
 "nbformat": 4,
 "nbformat_minor": 2
}
